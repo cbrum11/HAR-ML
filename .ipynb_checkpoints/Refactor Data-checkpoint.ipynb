{
 "cells": [
  {
   "cell_type": "markdown",
   "metadata": {},
   "source": [
    "# Refactoring the Data\n",
    "\n",
    "Time to dust off the `pandas` skills and switch to `jupyter notebooks`  for data cleaning.  Data cleaning for this project was relatively intensive but not overly complicated.  Some highlights include:\n",
    "\n",
    "1. The dataset includes **10,521 properties**\n",
    "2. I split the full bath/half bath column into seperate columns\n",
    "3. I split the zipcode into a seperate column.  Zip codes contains valuble location information shared across properties.  Homes in zipcodes with less than 20 results were dropped from the dataset.\n",
    "4. An average was taken for the bedroom counts if a bedroom range was given.  The assumption here is that the home contains \"extra\" rooms currently not used as a bedrooms. \n",
    "\n",
    "`Example: 4-5 Bedrooms`\n",
    "\n",
    "$$ \\frac{4+5}{2} = 4.5$$\n",
    "\n",
    "`Example: 2-6 Bedrooms`\n",
    "\n",
    "$$ \\frac{2+6}{2} = 4$$\n",
    "\n",
    "5. I dropped properties that didn't have a building squarefoot value.\n",
    "6. I dropped properties that didn't have a year built value.\n",
    "\n",
    "The whole `jupyter notebook` is shown below, demonstrating my process for systematically cleaning each column.  \n",
    "The end result?  A new csv file with **10,181** cleaned properties ready for analysis!  Onward to Data Exploration."
   ]
  },
  {
   "cell_type": "code",
   "execution_count": 214,
   "metadata": {},
   "outputs": [],
   "source": [
    "import pandas as pd\n",
    "import pathlib"
   ]
  },
  {
   "cell_type": "code",
   "execution_count": 303,
   "metadata": {},
   "outputs": [],
   "source": [
    "#Allows export of friendly html for blog posting\n",
    "import ipywidgets as widgets"
   ]
  },
  {
   "cell_type": "code",
   "execution_count": 215,
   "metadata": {},
   "outputs": [],
   "source": [
    "# Import csv file as pandas dataframe\n",
    "output_dir = 'output/'\n",
    "filename = '2019-06-27 15:19:48.066376.csv'\n",
    "df = pd.read_csv(output_dir+filename)"
   ]
  },
  {
   "cell_type": "markdown",
   "metadata": {},
   "source": [
    "# Preview Raw Data"
   ]
  },
  {
   "cell_type": "code",
   "execution_count": 216,
   "metadata": {},
   "outputs": [],
   "source": [
    "# Format pandas display to only show 25 columns (helps with jupyter notebook formatting\n",
    "# in some cases)\n",
    "pd.set_option('display.max_columns', 25)"
   ]
  },
  {
   "cell_type": "code",
   "execution_count": 217,
   "metadata": {},
   "outputs": [
    {
     "data": {
      "text/plain": [
       "(10521, 20)"
      ]
     },
     "execution_count": 217,
     "metadata": {},
     "output_type": "execute_result"
    }
   ],
   "source": [
    "# How many properties and features?\n",
    "df.shape"
   ]
  },
  {
   "cell_type": "code",
   "execution_count": 218,
   "metadata": {
    "scrolled": true
   },
   "outputs": [
    {
     "data": {
      "text/html": [
       "<div>\n",
       "<style scoped>\n",
       "    .dataframe tbody tr th:only-of-type {\n",
       "        vertical-align: middle;\n",
       "    }\n",
       "\n",
       "    .dataframe tbody tr th {\n",
       "        vertical-align: top;\n",
       "    }\n",
       "\n",
       "    .dataframe thead th {\n",
       "        text-align: right;\n",
       "    }\n",
       "</style>\n",
       "<table border=\"1\" class=\"dataframe\">\n",
       "  <thead>\n",
       "    <tr style=\"text-align: right;\">\n",
       "      <th></th>\n",
       "      <th>address</th>\n",
       "      <th>bathrooms</th>\n",
       "      <th>bedrooms</th>\n",
       "      <th>building_sqft</th>\n",
       "      <th>desc</th>\n",
       "      <th>garages</th>\n",
       "      <th>img_url</th>\n",
       "      <th>list_price</th>\n",
       "      <th>list_status</th>\n",
       "      <th>list_url</th>\n",
       "      <th>lot_sqft</th>\n",
       "      <th>mls_num</th>\n",
       "      <th>pool</th>\n",
       "      <th>real_comp_link</th>\n",
       "      <th>real_comp_name</th>\n",
       "      <th>real_link</th>\n",
       "      <th>real_name</th>\n",
       "      <th>stories</th>\n",
       "      <th>unknown_data</th>\n",
       "      <th>year_built</th>\n",
       "    </tr>\n",
       "  </thead>\n",
       "  <tbody>\n",
       "    <tr>\n",
       "      <th>0</th>\n",
       "      <td>14619 Forest Lodge Drive, Houston, TX 77070</td>\n",
       "      <td>.2 Full &amp; 1 Half Bath(s)</td>\n",
       "      <td>4 Bed(s)</td>\n",
       "      <td>.2,712 Building Sqft.</td>\n",
       "      <td>Single-Family Property, Traditional Style  in Hunterwood Forest Subdivision  in Cypress North (Market Area)</td>\n",
       "      <td>2 Garage(s) / Detached</td>\n",
       "      <td>background-image:url(https://photos.harstatic.com/174739766/lr/img-1.jpeg?ts=2019-06-13T16:05:58.527);</td>\n",
       "      <td>$ 259,888</td>\n",
       "      <td>For Sale</td>\n",
       "      <td>/14619-forest-lodge-drive/sale_68979419</td>\n",
       "      <td>8,080 Lot Sqft.</td>\n",
       "      <td>MLS# 68979419</td>\n",
       "      <td>No Private Pool</td>\n",
       "      <td>/re_max-fine-properties/broker_RMFP01</td>\n",
       "      <td>RE/MAX Fine Properties</td>\n",
       "      <td>/dionne-randle/agent_DRAN</td>\n",
       "      <td>Dionne Randle</td>\n",
       "      <td>.2 Stories</td>\n",
       "      <td>NaN</td>\n",
       "      <td>Built in 1983</td>\n",
       "    </tr>\n",
       "  </tbody>\n",
       "</table>\n",
       "</div>"
      ],
      "text/plain": [
       "                                       address                 bathrooms  \\\n",
       "0  14619 Forest Lodge Drive, Houston, TX 77070  .2 Full & 1 Half Bath(s)   \n",
       "\n",
       "   bedrooms          building_sqft  \\\n",
       "0  4 Bed(s)  .2,712 Building Sqft.   \n",
       "\n",
       "                                                                                                           desc  \\\n",
       "0  Single-Family Property, Traditional Style  in Hunterwood Forest Subdivision  in Cypress North (Market Area)    \n",
       "\n",
       "                  garages  \\\n",
       "0  2 Garage(s) / Detached   \n",
       "\n",
       "                                                                                                  img_url  \\\n",
       "0  background-image:url(https://photos.harstatic.com/174739766/lr/img-1.jpeg?ts=2019-06-13T16:05:58.527);   \n",
       "\n",
       "      list_price list_status                                 list_url  \\\n",
       "0   $ 259,888     For Sale    /14619-forest-lodge-drive/sale_68979419   \n",
       "\n",
       "          lot_sqft        mls_num              pool  \\\n",
       "0  8,080 Lot Sqft.  MLS# 68979419  No Private Pool    \n",
       "\n",
       "                          real_comp_link          real_comp_name  \\\n",
       "0  /re_max-fine-properties/broker_RMFP01  RE/MAX Fine Properties   \n",
       "\n",
       "                   real_link      real_name     stories unknown_data  \\\n",
       "0  /dionne-randle/agent_DRAN  Dionne Randle  .2 Stories  NaN           \n",
       "\n",
       "      year_built  \n",
       "0  Built in 1983  "
      ]
     },
     "execution_count": 218,
     "metadata": {},
     "output_type": "execute_result"
    }
   ],
   "source": [
    "# Preview the first row of data\n",
    "df.head(1)"
   ]
  },
  {
   "cell_type": "code",
   "execution_count": 219,
   "metadata": {},
   "outputs": [
    {
     "data": {
      "text/plain": [
       "Index(['address', 'bathrooms', 'bedrooms', 'building_sqft', 'desc', 'garages',\n",
       "       'img_url', 'list_price', 'list_status', 'list_url', 'lot_sqft',\n",
       "       'mls_num', 'pool', 'real_comp_link', 'real_comp_name', 'real_link',\n",
       "       'real_name', 'stories', 'unknown_data', 'year_built'],\n",
       "      dtype='object')"
      ]
     },
     "execution_count": 219,
     "metadata": {},
     "output_type": "execute_result"
    }
   ],
   "source": [
    "# List all column names\n",
    "df.columns"
   ]
  },
  {
   "cell_type": "code",
   "execution_count": 220,
   "metadata": {},
   "outputs": [
    {
     "data": {
      "text/plain": [
       "address           object\n",
       "bathrooms         object\n",
       "bedrooms          object\n",
       "building_sqft     object\n",
       "desc              object\n",
       "garages           object\n",
       "img_url           object\n",
       "list_price        object\n",
       "list_status       object\n",
       "list_url          object\n",
       "lot_sqft          object\n",
       "mls_num           object\n",
       "pool              object\n",
       "real_comp_link    object\n",
       "real_comp_name    object\n",
       "real_link         object\n",
       "real_name         object\n",
       "stories           object\n",
       "unknown_data      object\n",
       "year_built        object\n",
       "dtype: object"
      ]
     },
     "execution_count": 220,
     "metadata": {},
     "output_type": "execute_result"
    }
   ],
   "source": [
    "# List all column data types\n",
    "df.dtypes"
   ]
  },
  {
   "cell_type": "markdown",
   "metadata": {},
   "source": [
    "# Zip Code\n",
    "\n",
    "1. Slice zipcode from address column\n",
    "\n",
    "2. Preview unique zipcodes\n",
    "\n",
    "3. Remove/fix strange zipcodes\n",
    "\n",
    "4. Preview number of properties per zipcode\n",
    "\n",
    "5. Drop properties in zipcodes with less than 20 results\n",
    "\n",
    "6. Drop properties\n",
    "\n",
    "7. Remove properties with 'nan' for zipcode and set final form to string"
   ]
  },
  {
   "cell_type": "code",
   "execution_count": 221,
   "metadata": {},
   "outputs": [
    {
     "data": {
      "text/plain": [
       "array(['77070', '77083', '77044', '77075', '77068', '77084', '77087',\n",
       "       '77051', '77059', '77024', '77018', '77035', '77045', '77041',\n",
       "       '77008', '77096', '77063', '77007', '77080', '77047', '77026',\n",
       "       '77015', '77082', '77034', '77021', '77073', '77023', '77016',\n",
       "       '77061', '77079', '77089', '77055', '77062', '77091', '77049',\n",
       "       '77066', '77339', '77042', '77022', '77433', '77345', '77095',\n",
       "       '77077', '77025', '77346', '77098', '77043', '77004', '77094',\n",
       "       '77020', '77072', '77069', '77040', '77013', '77033', '77017',\n",
       "       '77037', '77039', '77032', '77064', '77009', '77019', '77027',\n",
       "       '77058', '77074', '77014', '77489', '77029', '77099', '77081',\n",
       "       '77065', '77003', '77092', '77036', '77006', '77057', '77056',\n",
       "       '77088', '77090', '77012', '77076', '77086', '77038', '77598',\n",
       "       '77060', '77336', '77005', '77093', '77078', '77028', '77011',\n",
       "       '77031', '77071', '77030', '77050', '77085', '77053', '77048',\n",
       "       '77054', '77350', '77067', '77477', '77396', '77002', '77338',\n",
       "       '77504', '77365', '77373', '77586', '77483', '-1273'], dtype=object)"
      ]
     },
     "execution_count": 221,
     "metadata": {},
     "output_type": "execute_result"
    }
   ],
   "source": [
    "# Slice zipcode from address\n",
    "df['zipcode'] = df.address.map(lambda x: x[-5:])\n",
    "# Preview unique zipcodes\n",
    "df.zipcode.unique()"
   ]
  },
  {
   "cell_type": "code",
   "execution_count": 222,
   "metadata": {},
   "outputs": [
    {
     "data": {
      "text/html": [
       "<div>\n",
       "<style scoped>\n",
       "    .dataframe tbody tr th:only-of-type {\n",
       "        vertical-align: middle;\n",
       "    }\n",
       "\n",
       "    .dataframe tbody tr th {\n",
       "        vertical-align: top;\n",
       "    }\n",
       "\n",
       "    .dataframe thead th {\n",
       "        text-align: right;\n",
       "    }\n",
       "</style>\n",
       "<table border=\"1\" class=\"dataframe\">\n",
       "  <thead>\n",
       "    <tr style=\"text-align: right;\">\n",
       "      <th></th>\n",
       "      <th>address</th>\n",
       "      <th>bathrooms</th>\n",
       "      <th>bedrooms</th>\n",
       "      <th>building_sqft</th>\n",
       "      <th>desc</th>\n",
       "      <th>garages</th>\n",
       "      <th>img_url</th>\n",
       "      <th>list_price</th>\n",
       "      <th>list_status</th>\n",
       "      <th>list_url</th>\n",
       "      <th>lot_sqft</th>\n",
       "      <th>mls_num</th>\n",
       "      <th>pool</th>\n",
       "      <th>real_comp_link</th>\n",
       "      <th>real_comp_name</th>\n",
       "      <th>real_link</th>\n",
       "      <th>real_name</th>\n",
       "      <th>stories</th>\n",
       "      <th>unknown_data</th>\n",
       "      <th>year_built</th>\n",
       "      <th>zipcode</th>\n",
       "    </tr>\n",
       "  </thead>\n",
       "  <tbody>\n",
       "    <tr>\n",
       "      <th>9803</th>\n",
       "      <td>2218 Lazybrook Drive, Houston, TX 77008-1273</td>\n",
       "      <td>.2 Full  Bath(s)</td>\n",
       "      <td>3 Bed(s)</td>\n",
       "      <td>.1,411 Building Sqft.</td>\n",
       "      <td>Single-Family Property, Ranch,Traditional Style  in Lazybrook Subdivision  in Timbergrove/Lazybrook (Market Area)</td>\n",
       "      <td>2 Garage(s) / Attached</td>\n",
       "      <td>background-image:url(https://photos.harstatic.com/174712810/lr/img-1.jpeg?ts=2019-06-13T13:33:30.973);</td>\n",
       "      <td>$ 449,500</td>\n",
       "      <td>For Sale</td>\n",
       "      <td>/2218-lazybrook-drive/sale_80751978</td>\n",
       "      <td>7,200 Lot Sqft.</td>\n",
       "      <td>MLS# 80751978</td>\n",
       "      <td>No Private Pool</td>\n",
       "      <td>/coldwell-banker-united-realtors---metropolitan/broker_COLD03</td>\n",
       "      <td>Coldwell Banker United, Realtors - Metropolitan</td>\n",
       "      <td>/steve-louis/agent_LOUIS</td>\n",
       "      <td>Steve Louis</td>\n",
       "      <td>.1 Stories</td>\n",
       "      <td>NaN</td>\n",
       "      <td>Built in 1957</td>\n",
       "      <td>-1273</td>\n",
       "    </tr>\n",
       "  </tbody>\n",
       "</table>\n",
       "</div>"
      ],
      "text/plain": [
       "                                           address         bathrooms  \\\n",
       "9803  2218 Lazybrook Drive, Houston, TX 77008-1273  .2 Full  Bath(s)   \n",
       "\n",
       "      bedrooms          building_sqft  \\\n",
       "9803  3 Bed(s)  .1,411 Building Sqft.   \n",
       "\n",
       "                                                                                                                    desc  \\\n",
       "9803  Single-Family Property, Ranch,Traditional Style  in Lazybrook Subdivision  in Timbergrove/Lazybrook (Market Area)    \n",
       "\n",
       "                     garages  \\\n",
       "9803  2 Garage(s) / Attached   \n",
       "\n",
       "                                                                                                     img_url  \\\n",
       "9803  background-image:url(https://photos.harstatic.com/174712810/lr/img-1.jpeg?ts=2019-06-13T13:33:30.973);   \n",
       "\n",
       "         list_price list_status                             list_url  \\\n",
       "9803   $ 449,500     For Sale    /2218-lazybrook-drive/sale_80751978   \n",
       "\n",
       "             lot_sqft        mls_num              pool  \\\n",
       "9803  7,200 Lot Sqft.  MLS# 80751978  No Private Pool    \n",
       "\n",
       "                                                     real_comp_link  \\\n",
       "9803  /coldwell-banker-united-realtors---metropolitan/broker_COLD03   \n",
       "\n",
       "                                       real_comp_name  \\\n",
       "9803  Coldwell Banker United, Realtors - Metropolitan   \n",
       "\n",
       "                     real_link    real_name     stories unknown_data  \\\n",
       "9803  /steve-louis/agent_LOUIS  Steve Louis  .1 Stories  NaN           \n",
       "\n",
       "         year_built zipcode  \n",
       "9803  Built in 1957  -1273   "
      ]
     },
     "execution_count": 222,
     "metadata": {},
     "output_type": "execute_result"
    }
   ],
   "source": [
    "# Preview property with strange zipcode '-1273'\n",
    "df[df.zipcode == '-1273']"
   ]
  },
  {
   "cell_type": "code",
   "execution_count": 223,
   "metadata": {},
   "outputs": [],
   "source": [
    "# Replace record with correct zipcode\n",
    "df.at[5104, 'zipcode'] = 77008"
   ]
  },
  {
   "cell_type": "code",
   "execution_count": 224,
   "metadata": {},
   "outputs": [
    {
     "data": {
      "text/html": [
       "<div>\n",
       "<style scoped>\n",
       "    .dataframe tbody tr th:only-of-type {\n",
       "        vertical-align: middle;\n",
       "    }\n",
       "\n",
       "    .dataframe tbody tr th {\n",
       "        vertical-align: top;\n",
       "    }\n",
       "\n",
       "    .dataframe thead th {\n",
       "        text-align: right;\n",
       "    }\n",
       "</style>\n",
       "<table border=\"1\" class=\"dataframe\">\n",
       "  <thead>\n",
       "    <tr style=\"text-align: right;\">\n",
       "      <th></th>\n",
       "      <th>address</th>\n",
       "      <th>bathrooms</th>\n",
       "      <th>bedrooms</th>\n",
       "      <th>building_sqft</th>\n",
       "      <th>desc</th>\n",
       "      <th>garages</th>\n",
       "      <th>img_url</th>\n",
       "      <th>list_price</th>\n",
       "      <th>list_status</th>\n",
       "      <th>list_url</th>\n",
       "      <th>lot_sqft</th>\n",
       "      <th>mls_num</th>\n",
       "      <th>pool</th>\n",
       "      <th>real_comp_link</th>\n",
       "      <th>real_comp_name</th>\n",
       "      <th>real_link</th>\n",
       "      <th>real_name</th>\n",
       "      <th>stories</th>\n",
       "      <th>unknown_data</th>\n",
       "      <th>year_built</th>\n",
       "      <th>zipcode</th>\n",
       "    </tr>\n",
       "  </thead>\n",
       "  <tbody>\n",
       "    <tr>\n",
       "      <th>9803</th>\n",
       "      <td>2218 Lazybrook Drive, Houston, TX 77008-1273</td>\n",
       "      <td>.2 Full  Bath(s)</td>\n",
       "      <td>3 Bed(s)</td>\n",
       "      <td>.1,411 Building Sqft.</td>\n",
       "      <td>Single-Family Property, Ranch,Traditional Style  in Lazybrook Subdivision  in Timbergrove/Lazybrook (Market Area)</td>\n",
       "      <td>2 Garage(s) / Attached</td>\n",
       "      <td>background-image:url(https://photos.harstatic.com/174712810/lr/img-1.jpeg?ts=2019-06-13T13:33:30.973);</td>\n",
       "      <td>$ 449,500</td>\n",
       "      <td>For Sale</td>\n",
       "      <td>/2218-lazybrook-drive/sale_80751978</td>\n",
       "      <td>7,200 Lot Sqft.</td>\n",
       "      <td>MLS# 80751978</td>\n",
       "      <td>No Private Pool</td>\n",
       "      <td>/coldwell-banker-united-realtors---metropolitan/broker_COLD03</td>\n",
       "      <td>Coldwell Banker United, Realtors - Metropolitan</td>\n",
       "      <td>/steve-louis/agent_LOUIS</td>\n",
       "      <td>Steve Louis</td>\n",
       "      <td>.1 Stories</td>\n",
       "      <td>NaN</td>\n",
       "      <td>Built in 1957</td>\n",
       "      <td>-1273</td>\n",
       "    </tr>\n",
       "  </tbody>\n",
       "</table>\n",
       "</div>"
      ],
      "text/plain": [
       "                                           address         bathrooms  \\\n",
       "9803  2218 Lazybrook Drive, Houston, TX 77008-1273  .2 Full  Bath(s)   \n",
       "\n",
       "      bedrooms          building_sqft  \\\n",
       "9803  3 Bed(s)  .1,411 Building Sqft.   \n",
       "\n",
       "                                                                                                                    desc  \\\n",
       "9803  Single-Family Property, Ranch,Traditional Style  in Lazybrook Subdivision  in Timbergrove/Lazybrook (Market Area)    \n",
       "\n",
       "                     garages  \\\n",
       "9803  2 Garage(s) / Attached   \n",
       "\n",
       "                                                                                                     img_url  \\\n",
       "9803  background-image:url(https://photos.harstatic.com/174712810/lr/img-1.jpeg?ts=2019-06-13T13:33:30.973);   \n",
       "\n",
       "         list_price list_status                             list_url  \\\n",
       "9803   $ 449,500     For Sale    /2218-lazybrook-drive/sale_80751978   \n",
       "\n",
       "             lot_sqft        mls_num              pool  \\\n",
       "9803  7,200 Lot Sqft.  MLS# 80751978  No Private Pool    \n",
       "\n",
       "                                                     real_comp_link  \\\n",
       "9803  /coldwell-banker-united-realtors---metropolitan/broker_COLD03   \n",
       "\n",
       "                                       real_comp_name  \\\n",
       "9803  Coldwell Banker United, Realtors - Metropolitan   \n",
       "\n",
       "                     real_link    real_name     stories unknown_data  \\\n",
       "9803  /steve-louis/agent_LOUIS  Steve Louis  .1 Stories  NaN           \n",
       "\n",
       "         year_built zipcode  \n",
       "9803  Built in 1957  -1273   "
      ]
     },
     "execution_count": 224,
     "metadata": {},
     "output_type": "execute_result"
    }
   ],
   "source": [
    "# Sanity check. Is the strange zipcode gone?\n",
    "df[df.zipcode == '-1273']"
   ]
  },
  {
   "cell_type": "code",
   "execution_count": 225,
   "metadata": {},
   "outputs": [
    {
     "data": {
      "text/plain": [
       "77008    473\n",
       "77007    418\n",
       "77044    391\n",
       "77084    383\n",
       "77077    363\n",
       "77018    344\n",
       "77009    315\n",
       "77095    306\n",
       "77055    284\n",
       "77096    279\n",
       "77080    246\n",
       "77079    237\n",
       "77070    202\n",
       "77043    183\n",
       "77082    180\n",
       "77041    178\n",
       "77004    177\n",
       "77069    177\n",
       "77059    169\n",
       "77083    161\n",
       "77025    152\n",
       "77035    151\n",
       "77092    150\n",
       "77042    139\n",
       "77088    132\n",
       "77006    124\n",
       "77073    121\n",
       "77089    119\n",
       "77066    116\n",
       "77063    114\n",
       "        ... \n",
       "77030    27 \n",
       "77489    27 \n",
       "77067    26 \n",
       "77039    24 \n",
       "77005    23 \n",
       "77027    22 \n",
       "77076    20 \n",
       "77012    18 \n",
       "77396    16 \n",
       "77085    15 \n",
       "77346    14 \n",
       "77336    13 \n",
       "77013    13 \n",
       "77032    11 \n",
       "77060    11 \n",
       "77598    11 \n",
       "77037    11 \n",
       "77477    6  \n",
       "77365    4  \n",
       "77002    4  \n",
       "77050    2  \n",
       "77586    1  \n",
       "77504    1  \n",
       "77373    1  \n",
       "77008    1  \n",
       "77350    1  \n",
       "77338    1  \n",
       "-1273    1  \n",
       "77433    1  \n",
       "77483    1  \n",
       "Name: zipcode, Length: 112, dtype: int64"
      ]
     },
     "execution_count": 225,
     "metadata": {},
     "output_type": "execute_result"
    }
   ],
   "source": [
    "# Check number of properties per zipcode\n",
    "df.zipcode.value_counts()"
   ]
  },
  {
   "cell_type": "code",
   "execution_count": 226,
   "metadata": {},
   "outputs": [],
   "source": [
    "# Grab unique zips and how many times they appear\n",
    "keep_zips = df.zipcode.value_counts()\n",
    "# Grab only zips that have >= 20 instances (more than 20 properties in this zip)\n",
    "keep_zips = keep_zips[keep_zips.values >= 20].index\n",
    "# Finalize dataframe to include only properties with zipcodes in keep_zips list\n",
    "df = df[df.zipcode.isin(keep_zips)]"
   ]
  },
  {
   "cell_type": "code",
   "execution_count": 227,
   "metadata": {},
   "outputs": [],
   "source": [
    "# Drop properteis with 'nan' for zipcode and set final form\n",
    "df.dropna(inplace=True, subset=['zipcode'])\n",
    "df.zipcode = df.zipcode.astype(str)"
   ]
  },
  {
   "cell_type": "code",
   "execution_count": 228,
   "metadata": {},
   "outputs": [
    {
     "data": {
      "text/plain": [
       "20"
      ]
     },
     "execution_count": 228,
     "metadata": {},
     "output_type": "execute_result"
    }
   ],
   "source": [
    "# Sanity Check.  Does the zipcode with the least properties contain 20\n",
    "# 20 properties?\n",
    "df.zipcode.value_counts().values.min()"
   ]
  },
  {
   "cell_type": "markdown",
   "metadata": {},
   "source": [
    "# Bathrooms Column\n",
    "\n",
    "1. View unique bathroom entries\n",
    "\n",
    "2. Strip text from entries\n",
    "\n",
    "3. Split full bathroom and half bathroom values\n",
    "\n",
    "4. Drop the original bathroom column\n",
    "\n",
    "5. Replace half bath entries of 'nan' with 0 so properties aren't removed when dropping\n",
    "    full bath 'nan' properties\n",
    "    \n",
    "6. Drop 'nan' properties and set final form"
   ]
  },
  {
   "cell_type": "code",
   "execution_count": 229,
   "metadata": {},
   "outputs": [
    {
     "data": {
      "text/plain": [
       "array(['.2 Full & 1 Half Bath(s)', '.2 Full  Bath(s)',\n",
       "       '.3 Full & 1 Half Bath(s)', '.3 Full  Bath(s)', '.4 Full  Bath(s)',\n",
       "       '.1 Full  Bath(s)', '.4 Full & 1 Half Bath(s)',\n",
       "       '.1 Full & 1 Half Bath(s)', '.2 Full & 2 Half Bath(s)',\n",
       "       '.3 Full & 2 Half Bath(s)', '.5 Full & 1 Half Bath(s)', nan,\n",
       "       '.4 Full & 2 Half Bath(s)', '.1 Full & 2 Half Bath(s)',\n",
       "       '.6 Full  Bath(s)', '.5 Full  Bath(s)', '.5 Full & 2 Half Bath(s)',\n",
       "       '.9 Full & 3 Half Bath(s)', '.2 Full & 4 Half Bath(s)',\n",
       "       '.2 Full & 3 Half Bath(s)', '.3 Full & 3 Half Bath(s)',\n",
       "       '.6 Full & 1 Half Bath(s)', '.4 Full & 3 Half Bath(s)',\n",
       "       '.9 Full & 2 Half Bath(s)', '.2 Full & 9 Half Bath(s)',\n",
       "       '.2 Full & 5 Half Bath(s)'], dtype=object)"
      ]
     },
     "execution_count": 229,
     "metadata": {},
     "output_type": "execute_result"
    }
   ],
   "source": [
    "# View unique bathroom entries\n",
    "df.bathrooms.unique()"
   ]
  },
  {
   "cell_type": "code",
   "execution_count": 230,
   "metadata": {},
   "outputs": [],
   "source": [
    "# Strip text from entries\n",
    "df.bathrooms = df.bathrooms.astype(str)\n",
    "df.bathrooms = df.bathrooms.map(lambda x: x.strip('.').strip('Bath(s)'))\n",
    "df.bathrooms = df.bathrooms.map(lambda x: x.replace('Half',\"\").replace('Full',\"\").replace(\"&\",\"\"))\n",
    "df.bathrooms = df.bathrooms.map(lambda x: x.strip())"
   ]
  },
  {
   "cell_type": "code",
   "execution_count": 231,
   "metadata": {},
   "outputs": [],
   "source": [
    "# Split single column into 2 columns with a max of '1' split per row.\n",
    "df['full_baths'], df['half_baths'] = df.bathrooms.str.split(' ', 1).str\n",
    "df.half_baths = df.half_baths.str.lstrip()"
   ]
  },
  {
   "cell_type": "code",
   "execution_count": 232,
   "metadata": {},
   "outputs": [],
   "source": [
    "# Drop original bathroom column\n",
    "df.drop(columns='bathrooms', inplace=True)"
   ]
  },
  {
   "cell_type": "code",
   "execution_count": 233,
   "metadata": {},
   "outputs": [
    {
     "data": {
      "text/plain": [
       "array(['2', '3', '4', '1', '5', 'nan', '6', '9'], dtype=object)"
      ]
     },
     "execution_count": 233,
     "metadata": {},
     "output_type": "execute_result"
    }
   ],
   "source": [
    "# See unique full bathroom values\n",
    "df.full_baths.unique()"
   ]
  },
  {
   "cell_type": "code",
   "execution_count": 234,
   "metadata": {},
   "outputs": [
    {
     "data": {
      "text/plain": [
       "array(['1', nan, '2', '3', '4', '9', '5'], dtype=object)"
      ]
     },
     "execution_count": 234,
     "metadata": {},
     "output_type": "execute_result"
    }
   ],
   "source": [
    "# See unique half bathroom values\n",
    "df.half_baths.unique()"
   ]
  },
  {
   "cell_type": "code",
   "execution_count": 235,
   "metadata": {},
   "outputs": [],
   "source": [
    "# Remove nan's and set final form\n",
    "# Pandas won't find NaN if not datatype not float...\n",
    "df.full_baths = df.full_baths.astype(float)\n",
    "df.dropna(subset=['full_baths'], inplace=True)\n",
    "# Replace NaN with 0 for half bath values (don't want to remove property if it doesn't have a half bath)\n",
    "df.half_baths.fillna(0, inplace=True)\n",
    "df.full_baths = df.full_baths.astype(int)\n",
    "df.half_baths = df.half_baths.astype(int)"
   ]
  },
  {
   "cell_type": "code",
   "execution_count": 236,
   "metadata": {},
   "outputs": [
    {
     "name": "stdout",
     "output_type": "stream",
     "text": [
      "(10322, 22)\n",
      "[2 3 4 1 5 6 9]\n",
      "[1 0 2 3 4 9 5]\n"
     ]
    }
   ],
   "source": [
    "# Sanity Check: How many properties did we remove? Are nan's gone?\n",
    "print(df.shape)\n",
    "print(df.full_baths.unique())\n",
    "print(df.half_baths.unique())\n"
   ]
  },
  {
   "cell_type": "markdown",
   "metadata": {},
   "source": [
    "# Bedrooms Column\n",
    "\n",
    "1. View unique bedroom entries\n",
    "\n",
    "2. Strip text from entries\n",
    "\n",
    "3. Build helper function to create bedroom value for properties listed with a range of bedrooms\n",
    "\n",
    "4. Remove properties without bedrooms listed\n",
    "    \n",
    "5. Drop 'nan' properties and set final form"
   ]
  },
  {
   "cell_type": "code",
   "execution_count": 237,
   "metadata": {},
   "outputs": [
    {
     "data": {
      "text/plain": [
       "array(['4 Bed(s)', '5 Bed(s)', '3 Bed(s)', '2 Bed(s)', '3-4  Bed(s)',\n",
       "       '4-5  Bed(s)', '5-6  Bed(s)', '8 Bed(s)', '2-3  Bed(s)',\n",
       "       '6 Bed(s)', '4-6  Bed(s)', '3-5  Bed(s)', '1 Bed(s)',\n",
       "       '6-8  Bed(s)', '5-7  Bed(s)', '1-2  Bed(s)', '7 Bed(s)', nan,\n",
       "       '3-9  Bed(s)', '9 Bed(s)', '1-4  Bed(s)', '9-13  Bed(s)',\n",
       "       '2-6  Bed(s)'], dtype=object)"
      ]
     },
     "execution_count": 237,
     "metadata": {},
     "output_type": "execute_result"
    }
   ],
   "source": [
    "# View unique bedroom entries\n",
    "df.bedrooms.unique()"
   ]
  },
  {
   "cell_type": "code",
   "execution_count": 238,
   "metadata": {},
   "outputs": [],
   "source": [
    "# Remove string 'Bed(s)'\n",
    "df.bedrooms = df.bedrooms.astype(str)\n",
    "df.bedrooms = df.bedrooms.map(lambda x: x.replace('Bed(s)', ''))\n",
    "df.bedrooms = df.bedrooms.str.strip()"
   ]
  },
  {
   "cell_type": "code",
   "execution_count": 239,
   "metadata": {},
   "outputs": [],
   "source": [
    "# Helper function that averages bedrooms data if a range of bedrooms is given\n",
    "def avgBeds(bedrooms):\n",
    "    if '-' in bedrooms:\n",
    "        sum = float(bedrooms[0])+float(bedrooms[-1])\n",
    "        bedrooms = sum/2.0\n",
    "    return bedrooms"
   ]
  },
  {
   "cell_type": "code",
   "execution_count": 240,
   "metadata": {},
   "outputs": [],
   "source": [
    "# Take average of bedrooms for properties with a range of bedrooms\n",
    "df.bedrooms = df.bedrooms.apply(avgBeds);"
   ]
  },
  {
   "cell_type": "code",
   "execution_count": 241,
   "metadata": {},
   "outputs": [
    {
     "data": {
      "text/plain": [
       "0    4\n",
       "1    4\n",
       "2    4\n",
       "3    4\n",
       "4    4\n",
       "5    5\n",
       "6    5\n",
       "7    4\n",
       "8    3\n",
       "9    4\n",
       "Name: bedrooms, dtype: object"
      ]
     },
     "execution_count": 241,
     "metadata": {},
     "output_type": "execute_result"
    }
   ],
   "source": [
    "# Sanity Check - Preview bedrooms column \n",
    "df.bedrooms[:10]"
   ]
  },
  {
   "cell_type": "code",
   "execution_count": 242,
   "metadata": {},
   "outputs": [
    {
     "data": {
      "text/plain": [
       "14"
      ]
     },
     "execution_count": 242,
     "metadata": {},
     "output_type": "execute_result"
    }
   ],
   "source": [
    "# How many homes don't have bedrooms? Must be a float to pick up nan's...\n",
    "df.bedrooms = df.bedrooms.astype(float)\n",
    "df.bedrooms.isna().sum()"
   ]
  },
  {
   "cell_type": "code",
   "execution_count": 243,
   "metadata": {},
   "outputs": [],
   "source": [
    "# Remove nan's (propertie without bedroom data) and set final form\n",
    "df.dropna(inplace=True, subset=['bedrooms'])\n",
    "df.bedrooms.astype(float);"
   ]
  },
  {
   "cell_type": "markdown",
   "metadata": {},
   "source": [
    "# Building Sqft Column\n",
    "\n",
    "1. View unique building sqft entries\n",
    "\n",
    "2. Strip text from entries\n",
    "\n",
    "3. Remove properties without bedrooms listed\n",
    "    \n",
    "4. Drop 'nan' properties and set final form"
   ]
  },
  {
   "cell_type": "code",
   "execution_count": 244,
   "metadata": {},
   "outputs": [
    {
     "data": {
      "text/plain": [
       "0    .2,712 Building Sqft.\n",
       "1    .2,318 Building Sqft.\n",
       "2    .1,864 Building Sqft.\n",
       "3    .2,785 Building Sqft.\n",
       "4    .3,259 Building Sqft.\n",
       "Name: building_sqft, dtype: object"
      ]
     },
     "execution_count": 244,
     "metadata": {},
     "output_type": "execute_result"
    }
   ],
   "source": [
    "# View unique entries\n",
    "df.building_sqft[:5]"
   ]
  },
  {
   "cell_type": "code",
   "execution_count": 245,
   "metadata": {},
   "outputs": [],
   "source": [
    "# Strip text from entries\n",
    "df.building_sqft = df.building_sqft.astype(str)\n",
    "df.building_sqft = df.building_sqft.map(lambda x: x.lstrip('.'))\n",
    "df.building_sqft = df.building_sqft.map(lambda x: x.replace('Building Sqft.', ''))\n",
    "df.building_sqft = df.building_sqft.map(lambda x: x.replace(',', ''))"
   ]
  },
  {
   "cell_type": "code",
   "execution_count": 246,
   "metadata": {},
   "outputs": [
    {
     "data": {
      "text/plain": [
       "0    2712 \n",
       "1    2318 \n",
       "2    1864 \n",
       "3    2785 \n",
       "4    3259 \n",
       "Name: building_sqft, dtype: object"
      ]
     },
     "execution_count": 246,
     "metadata": {},
     "output_type": "execute_result"
    }
   ],
   "source": [
    "# Preview building_sqft column\n",
    "df.building_sqft[:5]"
   ]
  },
  {
   "cell_type": "code",
   "execution_count": 247,
   "metadata": {},
   "outputs": [
    {
     "data": {
      "text/plain": [
       "40"
      ]
     },
     "execution_count": 247,
     "metadata": {},
     "output_type": "execute_result"
    }
   ],
   "source": [
    "# Must be float to pick up NaN.  How many homes don't have sqft listed?\n",
    "df.building_sqft = df.building_sqft.astype(float)\n",
    "df.building_sqft.isna().sum()"
   ]
  },
  {
   "cell_type": "code",
   "execution_count": 248,
   "metadata": {},
   "outputs": [],
   "source": [
    "# Remove nan's (properties without building sqft listed) and Set Final Form\n",
    "df.dropna(inplace=True, subset=['building_sqft'])\n",
    "df.building_sqft.astype(int);"
   ]
  },
  {
   "cell_type": "markdown",
   "metadata": {},
   "source": [
    "# Garages Column\n",
    "\n",
    "1. View unique building sqft entries\n",
    "\n",
    "2. Split garage value from garage type\n",
    "\n",
    "3. Drop properties with ridiculous garage numbers\n",
    "    \n",
    "4. Drop 'nan' properties and set final form"
   ]
  },
  {
   "cell_type": "code",
   "execution_count": 249,
   "metadata": {},
   "outputs": [
    {
     "data": {
      "text/plain": [
       "0    2 Garage(s) / Detached\n",
       "1    2 Garage(s) / Attached\n",
       "2    2 Garage(s) / Attached\n",
       "3    2 Garage(s) / Attached\n",
       "4    2 Garage(s) / Attached\n",
       "Name: garages, dtype: object"
      ]
     },
     "execution_count": 249,
     "metadata": {},
     "output_type": "execute_result"
    }
   ],
   "source": [
    "# View column form\n",
    "df.garages[0:5]"
   ]
  },
  {
   "cell_type": "markdown",
   "metadata": {},
   "source": [
    "Let's split at '/' and then worry about uniqueness later"
   ]
  },
  {
   "cell_type": "code",
   "execution_count": 250,
   "metadata": {},
   "outputs": [],
   "source": [
    "# Split garage column into value and type\n",
    "df['garages'], df['garage_type'] = df.garages.str.split('/', 1).str"
   ]
  },
  {
   "cell_type": "code",
   "execution_count": 251,
   "metadata": {},
   "outputs": [
    {
     "data": {
      "text/plain": [
       "array(['2 Garage(s) ', '1 Garage(s) ', '3 Garage(s) ', nan,\n",
       "       '4 Garage(s) ', '5 Garage(s) ', '21 Garage(s) ', '6 Garage(s) ',\n",
       "       '40 Garage(s) ', '32 Garage(s) ', '66 Garage(s) ', '36 Garage(s) ',\n",
       "       '60 Garage(s) ', '18 Garage(s) ', '12 Garage(s) ', '43 Garage(s) ',\n",
       "       '22 Garage(s) ', '45 Garage(s) ', '50 Garage(s) ', '24 Garage(s) ',\n",
       "       '48 Garage(s) ', '8234 Garage(s) '], dtype=object)"
      ]
     },
     "execution_count": 251,
     "metadata": {},
     "output_type": "execute_result"
    }
   ],
   "source": [
    "# View unqiue garage counts\n",
    "df.garages.unique()"
   ]
  },
  {
   "cell_type": "code",
   "execution_count": 252,
   "metadata": {},
   "outputs": [],
   "source": [
    "# Change 'nan' to 0.  We'll assume the property doesn't have a garage if value is nan.\n",
    "df.garages.fillna(0, inplace=True)"
   ]
  },
  {
   "cell_type": "code",
   "execution_count": 253,
   "metadata": {},
   "outputs": [],
   "source": [
    "# Strip strings\n",
    "df.garages = df.garages.astype(str)\n",
    "df.garages = df.garages.map(lambda x: x.replace('Garage(s)', ''))\n",
    "df.garages = df.garages.map(lambda x: x.rstrip().lstrip())"
   ]
  },
  {
   "cell_type": "code",
   "execution_count": 254,
   "metadata": {},
   "outputs": [
    {
     "data": {
      "text/plain": [
       "2       7478\n",
       "0       1058\n",
       "1       1020\n",
       "3       630 \n",
       "4       51  \n",
       "6       9   \n",
       "5       6   \n",
       "60      2   \n",
       "18      1   \n",
       "45      1   \n",
       "12      1   \n",
       "24      1   \n",
       "50      1   \n",
       "36      1   \n",
       "8234    1   \n",
       "32      1   \n",
       "66      1   \n",
       "43      1   \n",
       "48      1   \n",
       "22      1   \n",
       "21      1   \n",
       "40      1   \n",
       "Name: garages, dtype: int64"
      ]
     },
     "execution_count": 254,
     "metadata": {},
     "output_type": "execute_result"
    }
   ],
   "source": [
    "# View unqiue garage values and how often they appear\n",
    "df.garages.value_counts()"
   ]
  },
  {
   "cell_type": "code",
   "execution_count": 255,
   "metadata": {},
   "outputs": [],
   "source": [
    "# Drop any properties that claim to have multi-digit garages\n",
    "df2 = df[df.garages.map(lambda x: len(x)<=1)]"
   ]
  },
  {
   "cell_type": "code",
   "execution_count": 256,
   "metadata": {},
   "outputs": [
    {
     "data": {
      "text/plain": [
       "2    7478\n",
       "0    1058\n",
       "1    1020\n",
       "3    630 \n",
       "4    51  \n",
       "6    9   \n",
       "5    6   \n",
       "Name: garages, dtype: int64"
      ]
     },
     "execution_count": 256,
     "metadata": {},
     "output_type": "execute_result"
    }
   ],
   "source": [
    "# Swap back to original df variable so we don't get confused.\n",
    "df = df2\n",
    "# Sanity Check - Did we drop properties with multi-gigit garages?\n",
    "df.garages.value_counts()"
   ]
  },
  {
   "cell_type": "code",
   "execution_count": 257,
   "metadata": {},
   "outputs": [],
   "source": [
    "# Remove nan's and Set Final Form\n",
    "df.dropna(inplace=True, subset=['garages'])\n",
    "df.garages.astype(int);"
   ]
  },
  {
   "cell_type": "code",
   "execution_count": 258,
   "metadata": {},
   "outputs": [
    {
     "data": {
      "text/html": [
       "<div>\n",
       "<style scoped>\n",
       "    .dataframe tbody tr th:only-of-type {\n",
       "        vertical-align: middle;\n",
       "    }\n",
       "\n",
       "    .dataframe tbody tr th {\n",
       "        vertical-align: top;\n",
       "    }\n",
       "\n",
       "    .dataframe thead th {\n",
       "        text-align: right;\n",
       "    }\n",
       "</style>\n",
       "<table border=\"1\" class=\"dataframe\">\n",
       "  <thead>\n",
       "    <tr style=\"text-align: right;\">\n",
       "      <th></th>\n",
       "      <th>address</th>\n",
       "      <th>bedrooms</th>\n",
       "      <th>building_sqft</th>\n",
       "      <th>desc</th>\n",
       "      <th>garages</th>\n",
       "      <th>img_url</th>\n",
       "      <th>list_price</th>\n",
       "      <th>list_status</th>\n",
       "      <th>list_url</th>\n",
       "      <th>lot_sqft</th>\n",
       "      <th>mls_num</th>\n",
       "      <th>pool</th>\n",
       "      <th>real_comp_link</th>\n",
       "      <th>real_comp_name</th>\n",
       "      <th>real_link</th>\n",
       "      <th>real_name</th>\n",
       "      <th>stories</th>\n",
       "      <th>unknown_data</th>\n",
       "      <th>year_built</th>\n",
       "      <th>zipcode</th>\n",
       "      <th>full_baths</th>\n",
       "      <th>half_baths</th>\n",
       "      <th>garage_type</th>\n",
       "    </tr>\n",
       "  </thead>\n",
       "  <tbody>\n",
       "    <tr>\n",
       "      <th>0</th>\n",
       "      <td>14619 Forest Lodge Drive, Houston, TX 77070</td>\n",
       "      <td>4.0</td>\n",
       "      <td>2712.0</td>\n",
       "      <td>Single-Family Property, Traditional Style  in Hunterwood Forest Subdivision  in Cypress North (Market Area)</td>\n",
       "      <td>2</td>\n",
       "      <td>background-image:url(https://photos.harstatic.com/174739766/lr/img-1.jpeg?ts=2019-06-13T16:05:58.527);</td>\n",
       "      <td>$ 259,888</td>\n",
       "      <td>For Sale</td>\n",
       "      <td>/14619-forest-lodge-drive/sale_68979419</td>\n",
       "      <td>8,080 Lot Sqft.</td>\n",
       "      <td>MLS# 68979419</td>\n",
       "      <td>No Private Pool</td>\n",
       "      <td>/re_max-fine-properties/broker_RMFP01</td>\n",
       "      <td>RE/MAX Fine Properties</td>\n",
       "      <td>/dionne-randle/agent_DRAN</td>\n",
       "      <td>Dionne Randle</td>\n",
       "      <td>.2 Stories</td>\n",
       "      <td>NaN</td>\n",
       "      <td>Built in 1983</td>\n",
       "      <td>77070</td>\n",
       "      <td>2</td>\n",
       "      <td>1</td>\n",
       "      <td>Detached</td>\n",
       "    </tr>\n",
       "    <tr>\n",
       "      <th>1</th>\n",
       "      <td>7227 Ironwood Forest Dr, Houston, TX 77083</td>\n",
       "      <td>4.0</td>\n",
       "      <td>2318.0</td>\n",
       "      <td>Single-Family Property, Contemporary/Modern Style  in Terra Del Sol Sec 5 Subdivision  in Alief (Market Area)</td>\n",
       "      <td>2</td>\n",
       "      <td>background-image:url(https://photos.harstatic.com/172024720/lr/img-1.jpeg?ts=2019-04-03T14:02:08.420);</td>\n",
       "      <td>$ 259,883</td>\n",
       "      <td>For Sale</td>\n",
       "      <td>/7227-ironwood-forest-dr/sale_20983504</td>\n",
       "      <td>3,852 Lot Sqft.</td>\n",
       "      <td>MLS# 20983504</td>\n",
       "      <td>No Private Pool</td>\n",
       "      <td>/keller-williams-realty-southwest/broker_KWSW01</td>\n",
       "      <td>Keller Williams Realty Southwest</td>\n",
       "      <td>/karine-dsouza/agent_karined</td>\n",
       "      <td>Karine D'Souza</td>\n",
       "      <td>.2 Stories</td>\n",
       "      <td>NaN</td>\n",
       "      <td>Built in 2016</td>\n",
       "      <td>77083</td>\n",
       "      <td>2</td>\n",
       "      <td>1</td>\n",
       "      <td>Attached</td>\n",
       "    </tr>\n",
       "    <tr>\n",
       "      <th>2</th>\n",
       "      <td>18223 Humber River Lane, Houston, TX 77044</td>\n",
       "      <td>4.0</td>\n",
       "      <td>1864.0</td>\n",
       "      <td>Single-Family Property, Traditional Style  in Bridges On Lake Houston Subdivision  in North Channel (Market Area)</td>\n",
       "      <td>2</td>\n",
       "      <td>background-image:url(https://photos.harstatic.com/173912336/lr/img-1.jpeg?ts=2019-05-22T22:24:56.040);</td>\n",
       "      <td>$ 259,840</td>\n",
       "      <td>Under Contract - Pending</td>\n",
       "      <td>/18223-humber-river-lane/sale_17426339</td>\n",
       "      <td>9,691 Lot Sqft.</td>\n",
       "      <td>MLS# 17426339</td>\n",
       "      <td>No Private Pool</td>\n",
       "      <td>/realty-associates-------------/broker_PBME01</td>\n",
       "      <td>Realty Associates</td>\n",
       "      <td>/damaris-putman/agent_putman</td>\n",
       "      <td>Damaris Putman</td>\n",
       "      <td>.1 Stories</td>\n",
       "      <td>NaN</td>\n",
       "      <td>Built in 2019</td>\n",
       "      <td>77044</td>\n",
       "      <td>2</td>\n",
       "      <td>0</td>\n",
       "      <td>Attached</td>\n",
       "    </tr>\n",
       "    <tr>\n",
       "      <th>3</th>\n",
       "      <td>15318 Wandering Creek Trail, Houston, TX 77044</td>\n",
       "      <td>4.0</td>\n",
       "      <td>2785.0</td>\n",
       "      <td>Single-Family Property, Traditional Style  in Sheldon Ridge Subdivision  in Atascocita South (Market Area)</td>\n",
       "      <td>2</td>\n",
       "      <td>background-image:url(https://photos.harstatic.com/173895706/lr/img-1.jpeg?ts=2019-05-22T15:15:11.253);</td>\n",
       "      <td>$ 259,635</td>\n",
       "      <td>Under Contract - Pending</td>\n",
       "      <td>/15318-wandering-creek-trail/sale_9360030</td>\n",
       "      <td>NaN</td>\n",
       "      <td>MLS# 9360030</td>\n",
       "      <td>No Private Pool</td>\n",
       "      <td>/keller-williams-platinum/broker_KWPD01</td>\n",
       "      <td>Keller Williams Platinum</td>\n",
       "      <td>/lance-loken/agent_Loken</td>\n",
       "      <td>Lance Loken</td>\n",
       "      <td>.2 Stories</td>\n",
       "      <td>NaN</td>\n",
       "      <td>Built in 2019</td>\n",
       "      <td>77044</td>\n",
       "      <td>2</td>\n",
       "      <td>1</td>\n",
       "      <td>Attached</td>\n",
       "    </tr>\n",
       "    <tr>\n",
       "      <th>4</th>\n",
       "      <td>10215 Altmor Lane, Houston, TX 77075</td>\n",
       "      <td>4.0</td>\n",
       "      <td>3259.0</td>\n",
       "      <td>Single-Family Property, Contemporary/Modern Style  in Clearwood Xing Sec 02 Subdivision  in Southbelt/Ellington (Market Area)</td>\n",
       "      <td>2</td>\n",
       "      <td>background-image:url(https://photos.harstatic.com/174026839/lr/img-1.jpeg?ts=2019-05-25T22:04:29.283);</td>\n",
       "      <td>$ 259,500</td>\n",
       "      <td>For Sale</td>\n",
       "      <td>/10215-altmor-lane/sale_68945839</td>\n",
       "      <td>6,558 Lot Sqft.</td>\n",
       "      <td>MLS# 68945839</td>\n",
       "      <td>No Private Pool</td>\n",
       "      <td>/trini-j-realty-corp/broker_TENO01</td>\n",
       "      <td>Trini J Realty Corp</td>\n",
       "      <td>/melinda-tran/agent_mmtran</td>\n",
       "      <td>Melinda Tran</td>\n",
       "      <td>.2 Stories</td>\n",
       "      <td>NaN</td>\n",
       "      <td>Built in 2005</td>\n",
       "      <td>77075</td>\n",
       "      <td>3</td>\n",
       "      <td>1</td>\n",
       "      <td>Attached</td>\n",
       "    </tr>\n",
       "  </tbody>\n",
       "</table>\n",
       "</div>"
      ],
      "text/plain": [
       "                                          address  bedrooms  building_sqft  \\\n",
       "0  14619 Forest Lodge Drive, Houston, TX 77070     4.0       2712.0          \n",
       "1  7227 Ironwood Forest Dr, Houston, TX 77083      4.0       2318.0          \n",
       "2  18223 Humber River Lane, Houston, TX 77044      4.0       1864.0          \n",
       "3  15318 Wandering Creek Trail, Houston, TX 77044  4.0       2785.0          \n",
       "4  10215 Altmor Lane, Houston, TX 77075            4.0       3259.0          \n",
       "\n",
       "                                                                                                                             desc  \\\n",
       "0  Single-Family Property, Traditional Style  in Hunterwood Forest Subdivision  in Cypress North (Market Area)                      \n",
       "1  Single-Family Property, Contemporary/Modern Style  in Terra Del Sol Sec 5 Subdivision  in Alief (Market Area)                    \n",
       "2  Single-Family Property, Traditional Style  in Bridges On Lake Houston Subdivision  in North Channel (Market Area)                \n",
       "3  Single-Family Property, Traditional Style  in Sheldon Ridge Subdivision  in Atascocita South (Market Area)                       \n",
       "4  Single-Family Property, Contemporary/Modern Style  in Clearwood Xing Sec 02 Subdivision  in Southbelt/Ellington (Market Area)    \n",
       "\n",
       "  garages  \\\n",
       "0  2        \n",
       "1  2        \n",
       "2  2        \n",
       "3  2        \n",
       "4  2        \n",
       "\n",
       "                                                                                                  img_url  \\\n",
       "0  background-image:url(https://photos.harstatic.com/174739766/lr/img-1.jpeg?ts=2019-06-13T16:05:58.527);   \n",
       "1  background-image:url(https://photos.harstatic.com/172024720/lr/img-1.jpeg?ts=2019-04-03T14:02:08.420);   \n",
       "2  background-image:url(https://photos.harstatic.com/173912336/lr/img-1.jpeg?ts=2019-05-22T22:24:56.040);   \n",
       "3  background-image:url(https://photos.harstatic.com/173895706/lr/img-1.jpeg?ts=2019-05-22T15:15:11.253);   \n",
       "4  background-image:url(https://photos.harstatic.com/174026839/lr/img-1.jpeg?ts=2019-05-25T22:04:29.283);   \n",
       "\n",
       "      list_price               list_status  \\\n",
       "0   $ 259,888     For Sale                   \n",
       "1   $ 259,883     For Sale                   \n",
       "2   $ 259,840     Under Contract - Pending   \n",
       "3   $ 259,635     Under Contract - Pending   \n",
       "4   $ 259,500     For Sale                   \n",
       "\n",
       "                                    list_url         lot_sqft        mls_num  \\\n",
       "0  /14619-forest-lodge-drive/sale_68979419    8,080 Lot Sqft.  MLS# 68979419   \n",
       "1  /7227-ironwood-forest-dr/sale_20983504     3,852 Lot Sqft.  MLS# 20983504   \n",
       "2  /18223-humber-river-lane/sale_17426339     9,691 Lot Sqft.  MLS# 17426339   \n",
       "3  /15318-wandering-creek-trail/sale_9360030  NaN              MLS# 9360030    \n",
       "4  /10215-altmor-lane/sale_68945839           6,558 Lot Sqft.  MLS# 68945839   \n",
       "\n",
       "               pool                                   real_comp_link  \\\n",
       "0  No Private Pool   /re_max-fine-properties/broker_RMFP01             \n",
       "1  No Private Pool   /keller-williams-realty-southwest/broker_KWSW01   \n",
       "2  No Private Pool   /realty-associates-------------/broker_PBME01     \n",
       "3  No Private Pool   /keller-williams-platinum/broker_KWPD01           \n",
       "4  No Private Pool   /trini-j-realty-corp/broker_TENO01                \n",
       "\n",
       "                     real_comp_name                     real_link  \\\n",
       "0  RE/MAX Fine Properties            /dionne-randle/agent_DRAN      \n",
       "1  Keller Williams Realty Southwest  /karine-dsouza/agent_karined   \n",
       "2  Realty Associates                 /damaris-putman/agent_putman   \n",
       "3  Keller Williams Platinum          /lance-loken/agent_Loken       \n",
       "4  Trini J Realty Corp               /melinda-tran/agent_mmtran     \n",
       "\n",
       "        real_name     stories unknown_data     year_built zipcode  full_baths  \\\n",
       "0  Dionne Randle   .2 Stories  NaN          Built in 1983  77070   2            \n",
       "1  Karine D'Souza  .2 Stories  NaN          Built in 2016  77083   2            \n",
       "2  Damaris Putman  .1 Stories  NaN          Built in 2019  77044   2            \n",
       "3  Lance Loken     .2 Stories  NaN          Built in 2019  77044   2            \n",
       "4  Melinda Tran    .2 Stories  NaN          Built in 2005  77075   3            \n",
       "\n",
       "   half_baths garage_type  \n",
       "0  1            Detached   \n",
       "1  1            Attached   \n",
       "2  0            Attached   \n",
       "3  1            Attached   \n",
       "4  1            Attached   "
      ]
     },
     "execution_count": 258,
     "metadata": {},
     "output_type": "execute_result"
    }
   ],
   "source": [
    "# Final Sanity Check\n",
    "df.head()"
   ]
  },
  {
   "cell_type": "code",
   "execution_count": 259,
   "metadata": {},
   "outputs": [
    {
     "data": {
      "text/plain": [
       "array([' Detached', ' Attached', ' Attached,Oversized', nan,\n",
       "       ' Attached/Detached', ' Detached,Oversized',\n",
       "       ' Attached/Detached,Detached,Oversized',\n",
       "       ' Attached,Attached/Detached', ' Detached,Tandem',\n",
       "       ' Attached,Detached', ' Tandem', ' Detached,Oversized,Tandem',\n",
       "       ' Attached/Detached,Detached', ' Attached/Detached,Oversized',\n",
       "       ' Attached,Tandem', ' Oversized', ' Attached,Oversized,Tandem',\n",
       "       ' Attached,Attached/Detached,Oversized',\n",
       "       ' Attached/Detached,Tandem',\n",
       "       ' Attached,Attached/Detached,Detached',\n",
       "       ' Attached/Detached,Oversized,Tandem',\n",
       "       ' Attached,Attached/Detached,Detached,Over',\n",
       "       ' Attached,Detached,Oversized'], dtype=object)"
      ]
     },
     "execution_count": 259,
     "metadata": {},
     "output_type": "execute_result"
    }
   ],
   "source": [
    "# Preview garage type data.  We'll leave this alone for now but might\n",
    "# revisit th is column for cleanup/analysis later.\n",
    "df2.garage_type.unique()"
   ]
  },
  {
   "cell_type": "markdown",
   "metadata": {},
   "source": [
    "# IMG URL Column\n",
    "\n",
    "1. Show first entry\n",
    "\n",
    "2. Define helper function to clean end of url entry\n",
    "\n",
    "3. Update setting so pandas doesn't truncate url preview"
   ]
  },
  {
   "cell_type": "code",
   "execution_count": 260,
   "metadata": {},
   "outputs": [
    {
     "data": {
      "text/plain": [
       "'background-image:url(https://photos.harstatic.com/174739766/lr/img-1.jpeg?ts=2019-06-13T16:05:58.527);'"
      ]
     },
     "execution_count": 260,
     "metadata": {},
     "output_type": "execute_result"
    }
   ],
   "source": [
    "# Show first entry\n",
    "df.img_url[0]"
   ]
  },
  {
   "cell_type": "code",
   "execution_count": 261,
   "metadata": {},
   "outputs": [],
   "source": [
    "# Helper function to clean back of url\n",
    "def cleanURL(img_url):\n",
    "    if '?' in img_url:\n",
    "        img_url = img_url.replace(img_url[img_url.index('?'):],'')\n",
    "    return img_url"
   ]
  },
  {
   "cell_type": "code",
   "execution_count": 262,
   "metadata": {},
   "outputs": [],
   "source": [
    "# Clean urls\n",
    "df.img_url = df.img_url.astype(str)\n",
    "df.img_url = df.img_url.map(lambda x: x.lstrip('background-image:url('))\n",
    "df.img_url = df.img_url.apply(cleanURL)"
   ]
  },
  {
   "cell_type": "code",
   "execution_count": 263,
   "metadata": {},
   "outputs": [],
   "source": [
    "# Turn off truncating of URLs\n",
    "pd.set_option('display.max_colwidth', -1)"
   ]
  },
  {
   "cell_type": "code",
   "execution_count": 264,
   "metadata": {},
   "outputs": [
    {
     "data": {
      "text/plain": [
       "0    https://photos.harstatic.com/174739766/lr/img-1.jpeg\n",
       "1    https://photos.harstatic.com/172024720/lr/img-1.jpeg\n",
       "2    https://photos.harstatic.com/173912336/lr/img-1.jpeg\n",
       "3    https://photos.harstatic.com/173895706/lr/img-1.jpeg\n",
       "4    https://photos.harstatic.com/174026839/lr/img-1.jpeg\n",
       "Name: img_url, dtype: object"
      ]
     },
     "execution_count": 264,
     "metadata": {},
     "output_type": "execute_result"
    }
   ],
   "source": [
    "# Sanity Check - Did changes produce clean URLs?\n",
    "df.img_url[0:5]"
   ]
  },
  {
   "cell_type": "markdown",
   "metadata": {},
   "source": [
    "# List Price Column\n",
    "\n",
    "1. Show first 5 entries\n",
    "\n",
    "2. Strip non-numeric characters\n",
    "\n",
    "3. Drop nan's and set final form"
   ]
  },
  {
   "cell_type": "code",
   "execution_count": 265,
   "metadata": {},
   "outputs": [
    {
     "data": {
      "text/plain": [
       "0     $ 259,888   \n",
       "1     $ 259,883   \n",
       "2     $ 259,840   \n",
       "3     $ 259,635   \n",
       "4     $ 259,500   \n",
       "Name: list_price, dtype: object"
      ]
     },
     "execution_count": 265,
     "metadata": {},
     "output_type": "execute_result"
    }
   ],
   "source": [
    "# Show first 5 entries\n",
    "df.list_price[0:5]"
   ]
  },
  {
   "cell_type": "code",
   "execution_count": 266,
   "metadata": {},
   "outputs": [],
   "source": [
    "# String non-numeric values\n",
    "df.list_price = df.list_price.map(lambda x: x.replace('$','').replace(',',''))\n",
    "df.list_price = df.list_price.astype(int)"
   ]
  },
  {
   "cell_type": "code",
   "execution_count": 267,
   "metadata": {},
   "outputs": [],
   "source": [
    "# Remove nan's and Set Final Form\n",
    "df.dropna(inplace=True, subset=['list_price'])\n",
    "df.list_price.astype(int);"
   ]
  },
  {
   "cell_type": "code",
   "execution_count": 268,
   "metadata": {},
   "outputs": [
    {
     "data": {
      "text/plain": [
       "0    259888\n",
       "1    259883\n",
       "2    259840\n",
       "3    259635\n",
       "4    259500\n",
       "Name: list_price, dtype: int64"
      ]
     },
     "execution_count": 268,
     "metadata": {},
     "output_type": "execute_result"
    }
   ],
   "source": [
    "# Sanity-Check\n",
    "df.list_price[0:5]"
   ]
  },
  {
   "cell_type": "markdown",
   "metadata": {},
   "source": [
    "# List Status Column\n",
    "\n",
    "1. View unique entries"
   ]
  },
  {
   "cell_type": "code",
   "execution_count": 269,
   "metadata": {},
   "outputs": [
    {
     "data": {
      "text/plain": [
       "array(['For Sale', 'Under Contract - Pending',\n",
       "       'Under Contract - Pending Continue to Show',\n",
       "       'Under Contract - Option Pending'], dtype=object)"
      ]
     },
     "execution_count": 269,
     "metadata": {},
     "output_type": "execute_result"
    }
   ],
   "source": [
    "# View unique entries - All looks good!\n",
    "df.list_status.unique()"
   ]
  },
  {
   "cell_type": "markdown",
   "metadata": {},
   "source": [
    "# List URL Column\n",
    "\n",
    "1. Display column form\n",
    "\n",
    "2. Concatenate beginning url path"
   ]
  },
  {
   "cell_type": "code",
   "execution_count": 270,
   "metadata": {},
   "outputs": [
    {
     "data": {
      "text/plain": [
       "0    /14619-forest-lodge-drive/sale_68979419  \n",
       "1    /7227-ironwood-forest-dr/sale_20983504   \n",
       "2    /18223-humber-river-lane/sale_17426339   \n",
       "3    /15318-wandering-creek-trail/sale_9360030\n",
       "4    /10215-altmor-lane/sale_68945839         \n",
       "Name: list_url, dtype: object"
      ]
     },
     "execution_count": 270,
     "metadata": {},
     "output_type": "execute_result"
    }
   ],
   "source": [
    "# Display column form\n",
    "df.list_url[0:5]"
   ]
  },
  {
   "cell_type": "code",
   "execution_count": 271,
   "metadata": {},
   "outputs": [],
   "source": [
    "# Concatenate beginning url path\n",
    "df.list_url = df.list_url.map(lambda x: 'http://www.har.com'+x)"
   ]
  },
  {
   "cell_type": "code",
   "execution_count": 272,
   "metadata": {},
   "outputs": [
    {
     "data": {
      "text/plain": [
       "0    http://www.har.com/14619-forest-lodge-drive/sale_68979419  \n",
       "1    http://www.har.com/7227-ironwood-forest-dr/sale_20983504   \n",
       "2    http://www.har.com/18223-humber-river-lane/sale_17426339   \n",
       "3    http://www.har.com/15318-wandering-creek-trail/sale_9360030\n",
       "4    http://www.har.com/10215-altmor-lane/sale_68945839         \n",
       "Name: list_url, dtype: object"
      ]
     },
     "execution_count": 272,
     "metadata": {},
     "output_type": "execute_result"
    }
   ],
   "source": [
    "# Display update\n",
    "df.list_url[0:5]"
   ]
  },
  {
   "cell_type": "markdown",
   "metadata": {},
   "source": [
    "# Lot Sqft Column\n",
    "\n",
    "1. Display column form\n",
    "\n",
    "2. Strip strings\n",
    "\n",
    "3. Count nan's.  Too many properties contain nan for lot sqft column to remove.  This feature won't be used in first data analysis attempts."
   ]
  },
  {
   "cell_type": "code",
   "execution_count": 273,
   "metadata": {},
   "outputs": [
    {
     "data": {
      "text/plain": [
       "0    8,080 Lot Sqft.\n",
       "1    3,852 Lot Sqft.\n",
       "2    9,691 Lot Sqft.\n",
       "3    NaN            \n",
       "4    6,558 Lot Sqft.\n",
       "Name: lot_sqft, dtype: object"
      ]
     },
     "execution_count": 273,
     "metadata": {},
     "output_type": "execute_result"
    }
   ],
   "source": [
    "# Display column form\n",
    "df.lot_sqft[0:5]"
   ]
  },
  {
   "cell_type": "code",
   "execution_count": 274,
   "metadata": {},
   "outputs": [],
   "source": [
    "# Strip strings\n",
    "df.lot_sqft = df.lot_sqft.astype(str)\n",
    "df.lot_sqft = df.lot_sqft.map(lambda x: x.replace('Lot Sqft.', ''))\n",
    "df.lot_sqft = df.lot_sqft.map(lambda x: x.replace(',', ''))\n",
    "df.lot_sqft = df.lot_sqft.astype(float)"
   ]
  },
  {
   "cell_type": "code",
   "execution_count": 275,
   "metadata": {},
   "outputs": [
    {
     "data": {
      "text/plain": [
       "0    8080.0\n",
       "1    3852.0\n",
       "2    9691.0\n",
       "3   NaN    \n",
       "4    6558.0\n",
       "Name: lot_sqft, dtype: float64"
      ]
     },
     "execution_count": 275,
     "metadata": {},
     "output_type": "execute_result"
    }
   ],
   "source": [
    "# View Update\n",
    "df.lot_sqft[0:5]"
   ]
  },
  {
   "cell_type": "code",
   "execution_count": 276,
   "metadata": {},
   "outputs": [
    {
     "data": {
      "text/plain": [
       "607"
      ]
     },
     "execution_count": 276,
     "metadata": {},
     "output_type": "execute_result"
    }
   ],
   "source": [
    "# Must be float to pick up nan.  How many homes don't have sqft listed?\n",
    "# There are too many properties missing lot sqft entries to delete.\n",
    "df.lot_sqft = df.lot_sqft.astype(float)\n",
    "df.lot_sqft.isna().sum()"
   ]
  },
  {
   "cell_type": "markdown",
   "metadata": {},
   "source": [
    "# MLS Number Column\n",
    "\n",
    "1. View column form\n",
    "\n",
    "2. Strip strings"
   ]
  },
  {
   "cell_type": "code",
   "execution_count": 277,
   "metadata": {},
   "outputs": [
    {
     "data": {
      "text/plain": [
       "0    MLS# 68979419\n",
       "1    MLS# 20983504\n",
       "2    MLS# 17426339\n",
       "3    MLS# 9360030 \n",
       "4    MLS# 68945839\n",
       "Name: mls_num, dtype: object"
      ]
     },
     "execution_count": 277,
     "metadata": {},
     "output_type": "execute_result"
    }
   ],
   "source": [
    "# View column form\n",
    "df.mls_num[0:5]"
   ]
  },
  {
   "cell_type": "code",
   "execution_count": 278,
   "metadata": {},
   "outputs": [],
   "source": [
    "# Strip strings\n",
    "df.mls_num = df.mls_num.map(lambda x: x.replace('MLS# ', ''))"
   ]
  },
  {
   "cell_type": "code",
   "execution_count": 279,
   "metadata": {},
   "outputs": [
    {
     "data": {
      "text/plain": [
       "0    68979419\n",
       "1    20983504\n",
       "2    17426339\n",
       "3    9360030 \n",
       "4    68945839\n",
       "Name: mls_num, dtype: object"
      ]
     },
     "execution_count": 279,
     "metadata": {},
     "output_type": "execute_result"
    }
   ],
   "source": [
    "# View update\n",
    "df.mls_num[0:5]"
   ]
  },
  {
   "cell_type": "markdown",
   "metadata": {},
   "source": [
    "# Pool Column\n",
    "\n",
    "1. View unique entries\n",
    "\n",
    "2. Strip beginning and ending whitespace"
   ]
  },
  {
   "cell_type": "code",
   "execution_count": 280,
   "metadata": {},
   "outputs": [
    {
     "data": {
      "text/plain": [
       "array(['No Private Pool ', ' Has Private Pool'], dtype=object)"
      ]
     },
     "execution_count": 280,
     "metadata": {},
     "output_type": "execute_result"
    }
   ],
   "source": [
    "# View unique entries\n",
    "df.pool.unique()"
   ]
  },
  {
   "cell_type": "code",
   "execution_count": 281,
   "metadata": {},
   "outputs": [],
   "source": [
    "# Remove beginning and ending whitespace\n",
    "df.pool = df.pool.str.strip()"
   ]
  },
  {
   "cell_type": "code",
   "execution_count": 282,
   "metadata": {},
   "outputs": [
    {
     "data": {
      "text/plain": [
       "0    No Private Pool\n",
       "1    No Private Pool\n",
       "2    No Private Pool\n",
       "3    No Private Pool\n",
       "4    No Private Pool\n",
       "Name: pool, dtype: object"
      ]
     },
     "execution_count": 282,
     "metadata": {},
     "output_type": "execute_result"
    }
   ],
   "source": [
    "df.pool[0:5]"
   ]
  },
  {
   "cell_type": "markdown",
   "metadata": {},
   "source": [
    "# Realtor Company Link Column\n",
    "\n",
    "1. View column form\n",
    "\n",
    "2. Add beginning path to url"
   ]
  },
  {
   "cell_type": "code",
   "execution_count": 283,
   "metadata": {},
   "outputs": [
    {
     "data": {
      "text/plain": [
       "0    /re_max-fine-properties/broker_RMFP01          \n",
       "1    /keller-williams-realty-southwest/broker_KWSW01\n",
       "2    /realty-associates-------------/broker_PBME01  \n",
       "3    /keller-williams-platinum/broker_KWPD01        \n",
       "4    /trini-j-realty-corp/broker_TENO01             \n",
       "Name: real_comp_link, dtype: object"
      ]
     },
     "execution_count": 283,
     "metadata": {},
     "output_type": "execute_result"
    }
   ],
   "source": [
    "# View column form\n",
    "df.real_comp_link[0:5]"
   ]
  },
  {
   "cell_type": "code",
   "execution_count": 284,
   "metadata": {},
   "outputs": [],
   "source": [
    "# Add beginning path to url\n",
    "df.real_comp_link = df.real_comp_link.map(lambda x: 'http://www.har.com'+x)"
   ]
  },
  {
   "cell_type": "code",
   "execution_count": 285,
   "metadata": {},
   "outputs": [
    {
     "data": {
      "text/plain": [
       "0    http://www.har.com/re_max-fine-properties/broker_RMFP01          \n",
       "1    http://www.har.com/keller-williams-realty-southwest/broker_KWSW01\n",
       "2    http://www.har.com/realty-associates-------------/broker_PBME01  \n",
       "3    http://www.har.com/keller-williams-platinum/broker_KWPD01        \n",
       "4    http://www.har.com/trini-j-realty-corp/broker_TENO01             \n",
       "Name: real_comp_link, dtype: object"
      ]
     },
     "execution_count": 285,
     "metadata": {},
     "output_type": "execute_result"
    }
   ],
   "source": [
    "# View updates\n",
    "df.real_comp_link[0:5]"
   ]
  },
  {
   "cell_type": "markdown",
   "metadata": {},
   "source": [
    "# Realtor Company Name Column\n",
    "\n",
    "1. View column form"
   ]
  },
  {
   "cell_type": "code",
   "execution_count": 286,
   "metadata": {},
   "outputs": [
    {
     "data": {
      "text/plain": [
       "0    RE/MAX Fine Properties          \n",
       "1    Keller Williams Realty Southwest\n",
       "2    Realty Associates               \n",
       "3    Keller Williams Platinum        \n",
       "4    Trini J Realty Corp             \n",
       "Name: real_comp_name, dtype: object"
      ]
     },
     "execution_count": 286,
     "metadata": {},
     "output_type": "execute_result"
    }
   ],
   "source": [
    "# View column form - Looks good!\n",
    "df.real_comp_name[0:5]"
   ]
  },
  {
   "cell_type": "markdown",
   "metadata": {},
   "source": [
    "# Realtor Link\n",
    "\n",
    "1. View column form\n",
    "\n",
    "2. Add beginning path to url"
   ]
  },
  {
   "cell_type": "code",
   "execution_count": 287,
   "metadata": {},
   "outputs": [
    {
     "data": {
      "text/plain": [
       "0    /dionne-randle/agent_DRAN   \n",
       "1    /karine-dsouza/agent_karined\n",
       "2    /damaris-putman/agent_putman\n",
       "3    /lance-loken/agent_Loken    \n",
       "4    /melinda-tran/agent_mmtran  \n",
       "Name: real_link, dtype: object"
      ]
     },
     "execution_count": 287,
     "metadata": {},
     "output_type": "execute_result"
    }
   ],
   "source": [
    "# View column form\n",
    "df.real_link[0:5]"
   ]
  },
  {
   "cell_type": "code",
   "execution_count": 288,
   "metadata": {},
   "outputs": [],
   "source": [
    "# Add beginning path to url\n",
    "df.real_link = df.real_link.map(lambda x: 'http://www.har.com'+x)"
   ]
  },
  {
   "cell_type": "code",
   "execution_count": 289,
   "metadata": {},
   "outputs": [
    {
     "data": {
      "text/plain": [
       "0    http://www.har.com/dionne-randle/agent_DRAN   \n",
       "1    http://www.har.com/karine-dsouza/agent_karined\n",
       "2    http://www.har.com/damaris-putman/agent_putman\n",
       "3    http://www.har.com/lance-loken/agent_Loken    \n",
       "4    http://www.har.com/melinda-tran/agent_mmtran  \n",
       "Name: real_link, dtype: object"
      ]
     },
     "execution_count": 289,
     "metadata": {},
     "output_type": "execute_result"
    }
   ],
   "source": [
    "# View Update\n",
    "df.real_link[0:5]"
   ]
  },
  {
   "cell_type": "markdown",
   "metadata": {},
   "source": [
    "# Realtor Name\n",
    "\n",
    "1. View column form"
   ]
  },
  {
   "cell_type": "code",
   "execution_count": 290,
   "metadata": {},
   "outputs": [
    {
     "data": {
      "text/plain": [
       "0    Dionne Randle \n",
       "1    Karine D'Souza\n",
       "2    Damaris Putman\n",
       "3    Lance Loken   \n",
       "4    Melinda Tran  \n",
       "Name: real_name, dtype: object"
      ]
     },
     "execution_count": 290,
     "metadata": {},
     "output_type": "execute_result"
    }
   ],
   "source": [
    "# View column form - Looks good!\n",
    "df.real_name[0:5]"
   ]
  },
  {
   "cell_type": "markdown",
   "metadata": {},
   "source": [
    "# Stories Column\n",
    "\n",
    "1. View unique entries\n",
    "\n",
    "2. Strip strings"
   ]
  },
  {
   "cell_type": "code",
   "execution_count": 291,
   "metadata": {},
   "outputs": [
    {
     "data": {
      "text/plain": [
       "array(['.2 Stories', '.1 Stories', '.3 Stories', '.1.5 Stories',\n",
       "       '.4 Stories', '.2.5 Stories', '.5 Stories'], dtype=object)"
      ]
     },
     "execution_count": 291,
     "metadata": {},
     "output_type": "execute_result"
    }
   ],
   "source": [
    "# View unique entries\n",
    "df.stories.unique()"
   ]
  },
  {
   "cell_type": "code",
   "execution_count": 292,
   "metadata": {},
   "outputs": [],
   "source": [
    "# Strip strings\n",
    "df.stories = df.stories.astype(str)\n",
    "df.stories = df.stories.map(lambda x: x.lstrip('.').rstrip('Stories'))\n",
    "df.stories = df.stories.astype(float)"
   ]
  },
  {
   "cell_type": "code",
   "execution_count": 293,
   "metadata": {},
   "outputs": [
    {
     "data": {
      "text/plain": [
       "0    2.0\n",
       "1    2.0\n",
       "2    1.0\n",
       "3    2.0\n",
       "4    2.0\n",
       "Name: stories, dtype: float64"
      ]
     },
     "execution_count": 293,
     "metadata": {},
     "output_type": "execute_result"
    }
   ],
   "source": [
    "# View updates\n",
    "df.stories[:5]"
   ]
  },
  {
   "cell_type": "code",
   "execution_count": 294,
   "metadata": {},
   "outputs": [
    {
     "data": {
      "text/plain": [
       "array([2. , 1. , 3. , 1.5, 4. , 2.5, 5. ])"
      ]
     },
     "execution_count": 294,
     "metadata": {},
     "output_type": "execute_result"
    }
   ],
   "source": [
    "# Sanity Check - Do values look appropriate?\n",
    "df.stories.unique()"
   ]
  },
  {
   "cell_type": "markdown",
   "metadata": {},
   "source": [
    "# Unknown Column\n",
    "\n",
    "After reviewing the unknown column, the only datatype missing from the original parsing is \"Acres\".  It's likely that the land area associated with the property is either listed as \"lot sqft\" or \"acres\".  If this is verified, a conversion could be created.  However, this will not be considered in the original analysis, the unknown column simply won't be used."
   ]
  },
  {
   "cell_type": "code",
   "execution_count": 295,
   "metadata": {},
   "outputs": [
    {
     "data": {
      "text/plain": [
       "array([nan, '1.37 Acre(s)', '1.88 Acre(s)', '1.26 Acre(s)', '5 Acre(s)',\n",
       "       '1.20 Acre(s)', '1.15 Acre(s)', '1.03 Acre(s)', '0.05 Acre(s)',\n",
       "       '1.01 Acre(s)', '1.42 Acre(s)', '2.32 Acre(s)', '1.11 Acre(s)',\n",
       "       '1.23 Acre(s)', '0.56 Acre(s)', '1.09 Acre(s)', '0.53 Acre(s)',\n",
       "       '3.45 Acre(s)', '1.21 Acre(s)', '2.47 Acre(s)', '1.08 Acre(s)',\n",
       "       '0.11 Acre(s)', '1.10 Acre(s)', '1.64 Acre(s)', '1.06 Acre(s)',\n",
       "       '0.07 Acre(s)', '0.18 Acre(s)', '1 Acre(s)', '2.17 Acre(s)',\n",
       "       '1.97 Acre(s)', '0.96 Acre(s)', '1.02 Acre(s)', '0.61 Acre(s)',\n",
       "       '2 Acre(s)', '2.01 Acre(s)', '1.04 Acre(s)', '1.50 Acre(s)',\n",
       "       '0.43 Acre(s)', '4.82 Acre(s)', '2.71 Acre(s)', '1.32 Acre(s)',\n",
       "       '0.55 Acre(s)', '0.16 Acre(s)', '2.13 Acre(s)', '1.07 Acre(s)',\n",
       "       '0.69 Acre(s)', '1.14 Acre(s)', '1.22 Acre(s)', '4.81 Acre(s)',\n",
       "       '1.92 Acre(s)', '2.98 Acre(s)', '2.83 Acre(s)', '1.30 Acre(s)',\n",
       "       '0.68 Acre(s)', '2.24 Acre(s)', '0.13 Acre(s)', '0.30 Acre(s)',\n",
       "       '0.06 Acre(s)', '1.66 Acre(s)', '1.60 Acre(s)', '0.04 Acre(s)'],\n",
       "      dtype=object)"
      ]
     },
     "execution_count": 295,
     "metadata": {},
     "output_type": "execute_result"
    }
   ],
   "source": [
    "df.unknown_data.unique()"
   ]
  },
  {
   "cell_type": "markdown",
   "metadata": {},
   "source": [
    "# Year Built Column\n",
    "\n",
    "1. View column form\n",
    "\n",
    "2. Strip strings\n",
    "\n",
    "3. Count properties that don't have year built listed\n",
    "\n",
    "3. Remove nan's and set final form"
   ]
  },
  {
   "cell_type": "code",
   "execution_count": 296,
   "metadata": {},
   "outputs": [
    {
     "data": {
      "text/plain": [
       "0    Built in 1983\n",
       "1    Built in 2016\n",
       "2    Built in 2019\n",
       "3    Built in 2019\n",
       "4    Built in 2005\n",
       "Name: year_built, dtype: object"
      ]
     },
     "execution_count": 296,
     "metadata": {},
     "output_type": "execute_result"
    }
   ],
   "source": [
    "# View column form\n",
    "df.year_built[0:5]"
   ]
  },
  {
   "cell_type": "code",
   "execution_count": 297,
   "metadata": {},
   "outputs": [],
   "source": [
    "# Strip strings\n",
    "df.year_built = df.year_built.astype(str)\n",
    "df.year_built = df.year_built.map(lambda x: x.replace('Built in ', ''))"
   ]
  },
  {
   "cell_type": "code",
   "execution_count": 298,
   "metadata": {},
   "outputs": [
    {
     "data": {
      "text/plain": [
       "0    1983\n",
       "1    2016\n",
       "2    2019\n",
       "3    2019\n",
       "4    2005\n",
       "Name: year_built, dtype: object"
      ]
     },
     "execution_count": 298,
     "metadata": {},
     "output_type": "execute_result"
    }
   ],
   "source": [
    "# View update\n",
    "df.year_built[0:5]"
   ]
  },
  {
   "cell_type": "code",
   "execution_count": 299,
   "metadata": {},
   "outputs": [
    {
     "data": {
      "text/plain": [
       "71"
      ]
     },
     "execution_count": 299,
     "metadata": {},
     "output_type": "execute_result"
    }
   ],
   "source": [
    "# Must be float to pick up nan's.  How many properties don't have year build listed?\n",
    "df.year_built = df.year_built.astype(float)\n",
    "df.year_built.isna().sum()"
   ]
  },
  {
   "cell_type": "code",
   "execution_count": 300,
   "metadata": {},
   "outputs": [],
   "source": [
    "# Remove nan's and Set Final Form\n",
    "df.dropna(inplace=True, subset=['year_built'])\n",
    "df.year_built.astype(int);"
   ]
  },
  {
   "cell_type": "markdown",
   "metadata": {},
   "source": [
    "# Final Sanity Check!\n",
    "\n",
    "As a final data review we'll see how many unique results our data cleaning has left.  We'll also view the first few results to ensure all columns are formatted as expected."
   ]
  },
  {
   "cell_type": "code",
   "execution_count": 301,
   "metadata": {},
   "outputs": [
    {
     "name": "stdout",
     "output_type": "stream",
     "text": [
      "(10181, 23)\n"
     ]
    },
    {
     "data": {
      "text/html": [
       "<div>\n",
       "<style scoped>\n",
       "    .dataframe tbody tr th:only-of-type {\n",
       "        vertical-align: middle;\n",
       "    }\n",
       "\n",
       "    .dataframe tbody tr th {\n",
       "        vertical-align: top;\n",
       "    }\n",
       "\n",
       "    .dataframe thead th {\n",
       "        text-align: right;\n",
       "    }\n",
       "</style>\n",
       "<table border=\"1\" class=\"dataframe\">\n",
       "  <thead>\n",
       "    <tr style=\"text-align: right;\">\n",
       "      <th></th>\n",
       "      <th>address</th>\n",
       "      <th>bedrooms</th>\n",
       "      <th>building_sqft</th>\n",
       "      <th>desc</th>\n",
       "      <th>garages</th>\n",
       "      <th>img_url</th>\n",
       "      <th>list_price</th>\n",
       "      <th>list_status</th>\n",
       "      <th>list_url</th>\n",
       "      <th>lot_sqft</th>\n",
       "      <th>mls_num</th>\n",
       "      <th>pool</th>\n",
       "      <th>real_comp_link</th>\n",
       "      <th>real_comp_name</th>\n",
       "      <th>real_link</th>\n",
       "      <th>real_name</th>\n",
       "      <th>stories</th>\n",
       "      <th>unknown_data</th>\n",
       "      <th>year_built</th>\n",
       "      <th>zipcode</th>\n",
       "      <th>full_baths</th>\n",
       "      <th>half_baths</th>\n",
       "      <th>garage_type</th>\n",
       "    </tr>\n",
       "  </thead>\n",
       "  <tbody>\n",
       "    <tr>\n",
       "      <th>0</th>\n",
       "      <td>14619 Forest Lodge Drive, Houston, TX 77070</td>\n",
       "      <td>4.0</td>\n",
       "      <td>2712.0</td>\n",
       "      <td>Single-Family Property, Traditional Style  in Hunterwood Forest Subdivision  in Cypress North (Market Area)</td>\n",
       "      <td>2</td>\n",
       "      <td>https://photos.harstatic.com/174739766/lr/img-1.jpeg</td>\n",
       "      <td>259888</td>\n",
       "      <td>For Sale</td>\n",
       "      <td>http://www.har.com/14619-forest-lodge-drive/sale_68979419</td>\n",
       "      <td>8080.0</td>\n",
       "      <td>68979419</td>\n",
       "      <td>No Private Pool</td>\n",
       "      <td>http://www.har.com/re_max-fine-properties/broker_RMFP01</td>\n",
       "      <td>RE/MAX Fine Properties</td>\n",
       "      <td>http://www.har.com/dionne-randle/agent_DRAN</td>\n",
       "      <td>Dionne Randle</td>\n",
       "      <td>2.0</td>\n",
       "      <td>NaN</td>\n",
       "      <td>1983.0</td>\n",
       "      <td>77070</td>\n",
       "      <td>2</td>\n",
       "      <td>1</td>\n",
       "      <td>Detached</td>\n",
       "    </tr>\n",
       "    <tr>\n",
       "      <th>1</th>\n",
       "      <td>7227 Ironwood Forest Dr, Houston, TX 77083</td>\n",
       "      <td>4.0</td>\n",
       "      <td>2318.0</td>\n",
       "      <td>Single-Family Property, Contemporary/Modern Style  in Terra Del Sol Sec 5 Subdivision  in Alief (Market Area)</td>\n",
       "      <td>2</td>\n",
       "      <td>https://photos.harstatic.com/172024720/lr/img-1.jpeg</td>\n",
       "      <td>259883</td>\n",
       "      <td>For Sale</td>\n",
       "      <td>http://www.har.com/7227-ironwood-forest-dr/sale_20983504</td>\n",
       "      <td>3852.0</td>\n",
       "      <td>20983504</td>\n",
       "      <td>No Private Pool</td>\n",
       "      <td>http://www.har.com/keller-williams-realty-southwest/broker_KWSW01</td>\n",
       "      <td>Keller Williams Realty Southwest</td>\n",
       "      <td>http://www.har.com/karine-dsouza/agent_karined</td>\n",
       "      <td>Karine D'Souza</td>\n",
       "      <td>2.0</td>\n",
       "      <td>NaN</td>\n",
       "      <td>2016.0</td>\n",
       "      <td>77083</td>\n",
       "      <td>2</td>\n",
       "      <td>1</td>\n",
       "      <td>Attached</td>\n",
       "    </tr>\n",
       "    <tr>\n",
       "      <th>2</th>\n",
       "      <td>18223 Humber River Lane, Houston, TX 77044</td>\n",
       "      <td>4.0</td>\n",
       "      <td>1864.0</td>\n",
       "      <td>Single-Family Property, Traditional Style  in Bridges On Lake Houston Subdivision  in North Channel (Market Area)</td>\n",
       "      <td>2</td>\n",
       "      <td>https://photos.harstatic.com/173912336/lr/img-1.jpeg</td>\n",
       "      <td>259840</td>\n",
       "      <td>Under Contract - Pending</td>\n",
       "      <td>http://www.har.com/18223-humber-river-lane/sale_17426339</td>\n",
       "      <td>9691.0</td>\n",
       "      <td>17426339</td>\n",
       "      <td>No Private Pool</td>\n",
       "      <td>http://www.har.com/realty-associates-------------/broker_PBME01</td>\n",
       "      <td>Realty Associates</td>\n",
       "      <td>http://www.har.com/damaris-putman/agent_putman</td>\n",
       "      <td>Damaris Putman</td>\n",
       "      <td>1.0</td>\n",
       "      <td>NaN</td>\n",
       "      <td>2019.0</td>\n",
       "      <td>77044</td>\n",
       "      <td>2</td>\n",
       "      <td>0</td>\n",
       "      <td>Attached</td>\n",
       "    </tr>\n",
       "    <tr>\n",
       "      <th>3</th>\n",
       "      <td>15318 Wandering Creek Trail, Houston, TX 77044</td>\n",
       "      <td>4.0</td>\n",
       "      <td>2785.0</td>\n",
       "      <td>Single-Family Property, Traditional Style  in Sheldon Ridge Subdivision  in Atascocita South (Market Area)</td>\n",
       "      <td>2</td>\n",
       "      <td>https://photos.harstatic.com/173895706/lr/img-1.jpeg</td>\n",
       "      <td>259635</td>\n",
       "      <td>Under Contract - Pending</td>\n",
       "      <td>http://www.har.com/15318-wandering-creek-trail/sale_9360030</td>\n",
       "      <td>NaN</td>\n",
       "      <td>9360030</td>\n",
       "      <td>No Private Pool</td>\n",
       "      <td>http://www.har.com/keller-williams-platinum/broker_KWPD01</td>\n",
       "      <td>Keller Williams Platinum</td>\n",
       "      <td>http://www.har.com/lance-loken/agent_Loken</td>\n",
       "      <td>Lance Loken</td>\n",
       "      <td>2.0</td>\n",
       "      <td>NaN</td>\n",
       "      <td>2019.0</td>\n",
       "      <td>77044</td>\n",
       "      <td>2</td>\n",
       "      <td>1</td>\n",
       "      <td>Attached</td>\n",
       "    </tr>\n",
       "    <tr>\n",
       "      <th>4</th>\n",
       "      <td>10215 Altmor Lane, Houston, TX 77075</td>\n",
       "      <td>4.0</td>\n",
       "      <td>3259.0</td>\n",
       "      <td>Single-Family Property, Contemporary/Modern Style  in Clearwood Xing Sec 02 Subdivision  in Southbelt/Ellington (Market Area)</td>\n",
       "      <td>2</td>\n",
       "      <td>https://photos.harstatic.com/174026839/lr/img-1.jpeg</td>\n",
       "      <td>259500</td>\n",
       "      <td>For Sale</td>\n",
       "      <td>http://www.har.com/10215-altmor-lane/sale_68945839</td>\n",
       "      <td>6558.0</td>\n",
       "      <td>68945839</td>\n",
       "      <td>No Private Pool</td>\n",
       "      <td>http://www.har.com/trini-j-realty-corp/broker_TENO01</td>\n",
       "      <td>Trini J Realty Corp</td>\n",
       "      <td>http://www.har.com/melinda-tran/agent_mmtran</td>\n",
       "      <td>Melinda Tran</td>\n",
       "      <td>2.0</td>\n",
       "      <td>NaN</td>\n",
       "      <td>2005.0</td>\n",
       "      <td>77075</td>\n",
       "      <td>3</td>\n",
       "      <td>1</td>\n",
       "      <td>Attached</td>\n",
       "    </tr>\n",
       "  </tbody>\n",
       "</table>\n",
       "</div>"
      ],
      "text/plain": [
       "                                          address  bedrooms  building_sqft  \\\n",
       "0  14619 Forest Lodge Drive, Houston, TX 77070     4.0       2712.0          \n",
       "1  7227 Ironwood Forest Dr, Houston, TX 77083      4.0       2318.0          \n",
       "2  18223 Humber River Lane, Houston, TX 77044      4.0       1864.0          \n",
       "3  15318 Wandering Creek Trail, Houston, TX 77044  4.0       2785.0          \n",
       "4  10215 Altmor Lane, Houston, TX 77075            4.0       3259.0          \n",
       "\n",
       "                                                                                                                             desc  \\\n",
       "0  Single-Family Property, Traditional Style  in Hunterwood Forest Subdivision  in Cypress North (Market Area)                      \n",
       "1  Single-Family Property, Contemporary/Modern Style  in Terra Del Sol Sec 5 Subdivision  in Alief (Market Area)                    \n",
       "2  Single-Family Property, Traditional Style  in Bridges On Lake Houston Subdivision  in North Channel (Market Area)                \n",
       "3  Single-Family Property, Traditional Style  in Sheldon Ridge Subdivision  in Atascocita South (Market Area)                       \n",
       "4  Single-Family Property, Contemporary/Modern Style  in Clearwood Xing Sec 02 Subdivision  in Southbelt/Ellington (Market Area)    \n",
       "\n",
       "  garages                                               img_url  list_price  \\\n",
       "0  2       https://photos.harstatic.com/174739766/lr/img-1.jpeg  259888       \n",
       "1  2       https://photos.harstatic.com/172024720/lr/img-1.jpeg  259883       \n",
       "2  2       https://photos.harstatic.com/173912336/lr/img-1.jpeg  259840       \n",
       "3  2       https://photos.harstatic.com/173895706/lr/img-1.jpeg  259635       \n",
       "4  2       https://photos.harstatic.com/174026839/lr/img-1.jpeg  259500       \n",
       "\n",
       "                list_status  \\\n",
       "0  For Sale                   \n",
       "1  For Sale                   \n",
       "2  Under Contract - Pending   \n",
       "3  Under Contract - Pending   \n",
       "4  For Sale                   \n",
       "\n",
       "                                                      list_url  lot_sqft  \\\n",
       "0  http://www.har.com/14619-forest-lodge-drive/sale_68979419    8080.0     \n",
       "1  http://www.har.com/7227-ironwood-forest-dr/sale_20983504     3852.0     \n",
       "2  http://www.har.com/18223-humber-river-lane/sale_17426339     9691.0     \n",
       "3  http://www.har.com/15318-wandering-creek-trail/sale_9360030 NaN         \n",
       "4  http://www.har.com/10215-altmor-lane/sale_68945839           6558.0     \n",
       "\n",
       "    mls_num             pool  \\\n",
       "0  68979419  No Private Pool   \n",
       "1  20983504  No Private Pool   \n",
       "2  17426339  No Private Pool   \n",
       "3  9360030   No Private Pool   \n",
       "4  68945839  No Private Pool   \n",
       "\n",
       "                                                      real_comp_link  \\\n",
       "0  http://www.har.com/re_max-fine-properties/broker_RMFP01             \n",
       "1  http://www.har.com/keller-williams-realty-southwest/broker_KWSW01   \n",
       "2  http://www.har.com/realty-associates-------------/broker_PBME01     \n",
       "3  http://www.har.com/keller-williams-platinum/broker_KWPD01           \n",
       "4  http://www.har.com/trini-j-realty-corp/broker_TENO01                \n",
       "\n",
       "                     real_comp_name  \\\n",
       "0  RE/MAX Fine Properties             \n",
       "1  Keller Williams Realty Southwest   \n",
       "2  Realty Associates                  \n",
       "3  Keller Williams Platinum           \n",
       "4  Trini J Realty Corp                \n",
       "\n",
       "                                        real_link       real_name  stories  \\\n",
       "0  http://www.har.com/dionne-randle/agent_DRAN     Dionne Randle   2.0       \n",
       "1  http://www.har.com/karine-dsouza/agent_karined  Karine D'Souza  2.0       \n",
       "2  http://www.har.com/damaris-putman/agent_putman  Damaris Putman  1.0       \n",
       "3  http://www.har.com/lance-loken/agent_Loken      Lance Loken     2.0       \n",
       "4  http://www.har.com/melinda-tran/agent_mmtran    Melinda Tran    2.0       \n",
       "\n",
       "  unknown_data  year_built zipcode  full_baths  half_baths garage_type  \n",
       "0  NaN          1983.0      77070   2           1            Detached   \n",
       "1  NaN          2016.0      77083   2           1            Attached   \n",
       "2  NaN          2019.0      77044   2           0            Attached   \n",
       "3  NaN          2019.0      77044   2           1            Attached   \n",
       "4  NaN          2005.0      77075   3           1            Attached   "
      ]
     },
     "execution_count": 301,
     "metadata": {},
     "output_type": "execute_result"
    }
   ],
   "source": [
    "print(df.shape)\n",
    "df.head()"
   ]
  },
  {
   "cell_type": "markdown",
   "metadata": {},
   "source": [
    "# Save New CSV\n",
    "\n",
    "Saving a new CSV gives us a clean dataset to use for data analysis and machine learning.  Additional data manipulation will still be needed (dependent on data analysis method used), but this should get us 90% to our end goal."
   ]
  },
  {
   "cell_type": "code",
   "execution_count": 302,
   "metadata": {},
   "outputs": [],
   "source": [
    "df.to_csv(output_dir+'CLEAN_'+filename, index=False)"
   ]
  },
  {
   "cell_type": "markdown",
   "metadata": {},
   "source": [
    "# Done!"
   ]
  }
 ],
 "metadata": {
  "kernelspec": {
   "display_name": "Python 3",
   "language": "python",
   "name": "python3"
  },
  "language_info": {
   "codemirror_mode": {
    "name": "ipython",
    "version": 3
   },
   "file_extension": ".py",
   "mimetype": "text/x-python",
   "name": "python",
   "nbconvert_exporter": "python",
   "pygments_lexer": "ipython3",
   "version": "3.7.3"
  },
  "widgets": {
   "application/vnd.jupyter.widget-state+json": {
    "state": {},
    "version_major": 2,
    "version_minor": 0
   }
  }
 },
 "nbformat": 4,
 "nbformat_minor": 2
}
