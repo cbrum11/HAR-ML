{
 "cells": [
  {
   "cell_type": "markdown",
   "metadata": {},
   "source": [
    "# Refactor Data\n",
    "\n",
    "Our goal here is to refactor the data to sensible forms for data processing and exploration.  When we're finished, we'll output a new CSV file."
   ]
  },
  {
   "cell_type": "code",
   "execution_count": 2376,
   "metadata": {},
   "outputs": [],
   "source": [
    "import pandas as pd"
   ]
  },
  {
   "cell_type": "code",
   "execution_count": 2377,
   "metadata": {},
   "outputs": [],
   "source": [
    "filename = '2019-06-20 16:42:57.005476'\n",
    "df = pd.read_csv(filename+'.csv')"
   ]
  },
  {
   "cell_type": "markdown",
   "metadata": {},
   "source": [
    "# Preview Raw Data"
   ]
  },
  {
   "cell_type": "code",
   "execution_count": 2378,
   "metadata": {},
   "outputs": [],
   "source": [
    "pd.set_option('display.max_columns', 25)"
   ]
  },
  {
   "cell_type": "code",
   "execution_count": 2379,
   "metadata": {
    "scrolled": true
   },
   "outputs": [
    {
     "data": {
      "text/html": [
       "<div>\n",
       "<style scoped>\n",
       "    .dataframe tbody tr th:only-of-type {\n",
       "        vertical-align: middle;\n",
       "    }\n",
       "\n",
       "    .dataframe tbody tr th {\n",
       "        vertical-align: top;\n",
       "    }\n",
       "\n",
       "    .dataframe thead th {\n",
       "        text-align: right;\n",
       "    }\n",
       "</style>\n",
       "<table border=\"1\" class=\"dataframe\">\n",
       "  <thead>\n",
       "    <tr style=\"text-align: right;\">\n",
       "      <th></th>\n",
       "      <th>Unnamed: 0</th>\n",
       "      <th>address</th>\n",
       "      <th>bathrooms</th>\n",
       "      <th>bedrooms</th>\n",
       "      <th>building_sqft</th>\n",
       "      <th>desc</th>\n",
       "      <th>garages</th>\n",
       "      <th>img_url</th>\n",
       "      <th>list_price</th>\n",
       "      <th>list_status</th>\n",
       "      <th>list_url</th>\n",
       "      <th>lot_sqft</th>\n",
       "      <th>mls_num</th>\n",
       "      <th>pool</th>\n",
       "      <th>real_comp_link</th>\n",
       "      <th>real_comp_name</th>\n",
       "      <th>real_link</th>\n",
       "      <th>real_name</th>\n",
       "      <th>stories</th>\n",
       "      <th>unknown_data</th>\n",
       "      <th>year_built</th>\n",
       "    </tr>\n",
       "  </thead>\n",
       "  <tbody>\n",
       "    <tr>\n",
       "      <th>0</th>\n",
       "      <td>0</td>\n",
       "      <td>11630 Ashcroft, Houston, TX 77035</td>\n",
       "      <td>.2 Full &amp; 1 Half Bath(s)</td>\n",
       "      <td>4 Bed(s)</td>\n",
       "      <td>.2,747 Building Sqft.</td>\n",
       "      <td>Single-Family Property, Traditional Style  in Westbury Subdivision  in Brays Oaks (Market Area)</td>\n",
       "      <td>2 Garage(s) / Attached/Detached</td>\n",
       "      <td>background-image:url(https://photos.harstatic.com/172553809/lr/img-1.jpeg?ts=2019-04-17T10:23:50.137);</td>\n",
       "      <td>$ 475,000</td>\n",
       "      <td>For Sale</td>\n",
       "      <td>/11630-ashcroft/sale_69756841</td>\n",
       "      <td>8,344 Lot Sqft.</td>\n",
       "      <td>MLS# 69756841</td>\n",
       "      <td>No Private Pool</td>\n",
       "      <td>/compass-re-texas-llc/broker_CMTX01</td>\n",
       "      <td>Compass RE Texas, LLC</td>\n",
       "      <td>/stephanie-finch/agent_SFinch</td>\n",
       "      <td>Stephanie Finch</td>\n",
       "      <td>.2 Stories</td>\n",
       "      <td>NaN</td>\n",
       "      <td>Built in 1960</td>\n",
       "    </tr>\n",
       "  </tbody>\n",
       "</table>\n",
       "</div>"
      ],
      "text/plain": [
       "   Unnamed: 0                            address                 bathrooms  \\\n",
       "0  0           11630 Ashcroft, Houston, TX 77035  .2 Full & 1 Half Bath(s)   \n",
       "\n",
       "   bedrooms          building_sqft  \\\n",
       "0  4 Bed(s)  .2,747 Building Sqft.   \n",
       "\n",
       "                                                                                               desc  \\\n",
       "0  Single-Family Property, Traditional Style  in Westbury Subdivision  in Brays Oaks (Market Area)    \n",
       "\n",
       "                           garages  \\\n",
       "0  2 Garage(s) / Attached/Detached   \n",
       "\n",
       "                                                                                                  img_url  \\\n",
       "0  background-image:url(https://photos.harstatic.com/172553809/lr/img-1.jpeg?ts=2019-04-17T10:23:50.137);   \n",
       "\n",
       "      list_price list_status                       list_url         lot_sqft  \\\n",
       "0   $ 475,000     For Sale    /11630-ashcroft/sale_69756841  8,344 Lot Sqft.   \n",
       "\n",
       "         mls_num              pool                       real_comp_link  \\\n",
       "0  MLS# 69756841  No Private Pool   /compass-re-texas-llc/broker_CMTX01   \n",
       "\n",
       "          real_comp_name                      real_link        real_name  \\\n",
       "0  Compass RE Texas, LLC  /stephanie-finch/agent_SFinch  Stephanie Finch   \n",
       "\n",
       "      stories unknown_data     year_built  \n",
       "0  .2 Stories  NaN          Built in 1960  "
      ]
     },
     "execution_count": 2379,
     "metadata": {},
     "output_type": "execute_result"
    }
   ],
   "source": [
    "df.head(1)"
   ]
  },
  {
   "cell_type": "code",
   "execution_count": 2380,
   "metadata": {},
   "outputs": [
    {
     "data": {
      "text/plain": [
       "Index(['Unnamed: 0', 'address', 'bathrooms', 'bedrooms', 'building_sqft',\n",
       "       'desc', 'garages', 'img_url', 'list_price', 'list_status', 'list_url',\n",
       "       'lot_sqft', 'mls_num', 'pool', 'real_comp_link', 'real_comp_name',\n",
       "       'real_link', 'real_name', 'stories', 'unknown_data', 'year_built'],\n",
       "      dtype='object')"
      ]
     },
     "execution_count": 2380,
     "metadata": {},
     "output_type": "execute_result"
    }
   ],
   "source": [
    "df.columns"
   ]
  },
  {
   "cell_type": "code",
   "execution_count": 2381,
   "metadata": {},
   "outputs": [],
   "source": [
    "# Drop Index Column\n",
    "df.drop(columns='Unnamed: 0', inplace=True)"
   ]
  },
  {
   "cell_type": "markdown",
   "metadata": {},
   "source": [
    "# Bathrooms Column"
   ]
  },
  {
   "cell_type": "markdown",
   "metadata": {},
   "source": [
    "#### Split into full bathrooms and half bathrooms columns."
   ]
  },
  {
   "cell_type": "code",
   "execution_count": 2382,
   "metadata": {},
   "outputs": [
    {
     "data": {
      "text/plain": [
       "array(['.2 Full & 1 Half Bath(s)', '.3 Full & 1 Half Bath(s)',\n",
       "       '.2 Full  Bath(s)', '.1 Full  Bath(s)', '.3 Full  Bath(s)',\n",
       "       '.1 Full & 1 Half Bath(s)', '.5 Full  Bath(s)',\n",
       "       '.2 Full & 2 Half Bath(s)', nan, '.4 Full  Bath(s)',\n",
       "       '.3 Full & 2 Half Bath(s)', '.4 Full & 2 Half Bath(s)',\n",
       "       '.5 Full & 1 Half Bath(s)', '.4 Full & 1 Half Bath(s)',\n",
       "       '.2 Full & 5 Half Bath(s)', '.6 Full  Bath(s)',\n",
       "       '.2 Full & 3 Half Bath(s)', '.2 Full & 4 Half Bath(s)',\n",
       "       '.5 Full & 2 Half Bath(s)', '.1 Full & 2 Half Bath(s)'],\n",
       "      dtype=object)"
      ]
     },
     "execution_count": 2382,
     "metadata": {},
     "output_type": "execute_result"
    }
   ],
   "source": [
    "df.bathrooms.unique()"
   ]
  },
  {
   "cell_type": "code",
   "execution_count": 2383,
   "metadata": {},
   "outputs": [],
   "source": [
    "# Cast column to string to we can use strip operations\n",
    "df.bathrooms = df.bathrooms.astype(str)\n",
    "df.bathrooms = df.bathrooms.map(lambda x: x.strip('.').strip('Bath(s)'))\n",
    "df.bathrooms = df.bathrooms.map(lambda x: x.replace('Half',\"\").replace('Full',\"\").replace(\"&\",\"\"))\n",
    "df.bathrooms = df.bathrooms.map(lambda x: x.strip())"
   ]
  },
  {
   "cell_type": "markdown",
   "metadata": {},
   "source": [
    "#### Fancy little function here that splits the single column into 2 columns with a max of '1' split per row."
   ]
  },
  {
   "cell_type": "code",
   "execution_count": 2384,
   "metadata": {},
   "outputs": [],
   "source": [
    "df['full_baths'], df['half_baths'] = df.bathrooms.str.split(' ', 1).str"
   ]
  },
  {
   "cell_type": "code",
   "execution_count": 2385,
   "metadata": {},
   "outputs": [],
   "source": [
    "# Remove original bathroom column\n",
    "df.drop(columns='bathrooms', inplace=True)"
   ]
  },
  {
   "cell_type": "code",
   "execution_count": 2386,
   "metadata": {},
   "outputs": [
    {
     "data": {
      "text/plain": [
       "array(['2', '3', '1', '5', 'nan', '4', '6'], dtype=object)"
      ]
     },
     "execution_count": 2386,
     "metadata": {},
     "output_type": "execute_result"
    }
   ],
   "source": [
    "df.full_baths.unique()"
   ]
  },
  {
   "cell_type": "code",
   "execution_count": 2387,
   "metadata": {},
   "outputs": [
    {
     "data": {
      "text/plain": [
       "array(['  1', nan, '  2', '  5', '  3', '  4'], dtype=object)"
      ]
     },
     "execution_count": 2387,
     "metadata": {},
     "output_type": "execute_result"
    }
   ],
   "source": [
    "df.half_baths.unique()"
   ]
  },
  {
   "cell_type": "markdown",
   "metadata": {},
   "source": [
    "# Bedrooms Column"
   ]
  },
  {
   "cell_type": "code",
   "execution_count": 2388,
   "metadata": {},
   "outputs": [
    {
     "data": {
      "text/plain": [
       "array(['4 Bed(s)', '3 Bed(s)', '4-5  Bed(s)', '2 Bed(s)', '3-4  Bed(s)',\n",
       "       '6 Bed(s)', '2-3  Bed(s)', '5 Bed(s)', '1 Bed(s)', nan, '7 Bed(s)',\n",
       "       '3-5  Bed(s)', '5-6  Bed(s)', '8 Bed(s)', '4-6  Bed(s)',\n",
       "       '1-2  Bed(s)', '6-8  Bed(s)', '9 Bed(s)', '1-4  Bed(s)'],\n",
       "      dtype=object)"
      ]
     },
     "execution_count": 2388,
     "metadata": {},
     "output_type": "execute_result"
    }
   ],
   "source": [
    "df.bedrooms.unique()"
   ]
  },
  {
   "cell_type": "code",
   "execution_count": 2389,
   "metadata": {},
   "outputs": [],
   "source": [
    "# Remove string 'Bed(s)'\n",
    "df.bedrooms = df.bedrooms.astype(str)\n",
    "df.bedrooms = df.bedrooms.map(lambda x: x.replace('Bed(s)', ''))\n",
    "df.bedrooms = df.bedrooms.str.strip()"
   ]
  },
  {
   "cell_type": "code",
   "execution_count": 2390,
   "metadata": {},
   "outputs": [],
   "source": [
    "# Helper function that takes averages of bedrooms data\n",
    "# that take the format '1-4'\n",
    "def avgBeds(bedrooms):\n",
    "    if '-' in bedrooms:\n",
    "        sum = float(bedrooms[0])+float(bedrooms[-1])\n",
    "        bedrooms = sum/2.0\n",
    "    return bedrooms"
   ]
  },
  {
   "cell_type": "code",
   "execution_count": 2391,
   "metadata": {},
   "outputs": [],
   "source": [
    "# Take average of bedrooms with form '1-4'\n",
    "df.bedrooms = df.bedrooms.apply(avgBeds);"
   ]
  },
  {
   "cell_type": "code",
   "execution_count": 2392,
   "metadata": {},
   "outputs": [
    {
     "data": {
      "text/plain": [
       "0    4  \n",
       "1    4  \n",
       "2    4  \n",
       "3    4  \n",
       "4    3  \n",
       "5    3  \n",
       "6    4  \n",
       "7    3  \n",
       "8    4.5\n",
       "9    2  \n",
       "Name: bedrooms, dtype: object"
      ]
     },
     "execution_count": 2392,
     "metadata": {},
     "output_type": "execute_result"
    }
   ],
   "source": [
    "df.bedrooms[:10]"
   ]
  },
  {
   "cell_type": "markdown",
   "metadata": {},
   "source": [
    "# Building Sqft Column"
   ]
  },
  {
   "cell_type": "code",
   "execution_count": 2393,
   "metadata": {},
   "outputs": [
    {
     "data": {
      "text/plain": [
       "0    .2,747 Building Sqft.\n",
       "1    .3,500 Building Sqft.\n",
       "2    .3,346 Building Sqft.\n",
       "3    .2,308 Building Sqft.\n",
       "4    .2,259 Building Sqft.\n",
       "Name: building_sqft, dtype: object"
      ]
     },
     "execution_count": 2393,
     "metadata": {},
     "output_type": "execute_result"
    }
   ],
   "source": [
    "df.building_sqft[:5]"
   ]
  },
  {
   "cell_type": "code",
   "execution_count": 2394,
   "metadata": {},
   "outputs": [],
   "source": [
    "df.building_sqft = df.building_sqft.astype(str)\n",
    "df.building_sqft = df.building_sqft.map(lambda x: x.lstrip('.'))\n",
    "df.building_sqft = df.building_sqft.map(lambda x: x.replace('Building Sqft.', ''))\n",
    "df.building_sqft = df.building_sqft.map(lambda x: x.replace(',', ''))\n",
    "df.building_sqft = df.building_sqft.astype(float)"
   ]
  },
  {
   "cell_type": "code",
   "execution_count": 2395,
   "metadata": {},
   "outputs": [
    {
     "data": {
      "text/plain": [
       "0    2747.0\n",
       "1    3500.0\n",
       "2    3346.0\n",
       "3    2308.0\n",
       "4    2259.0\n",
       "Name: building_sqft, dtype: float64"
      ]
     },
     "execution_count": 2395,
     "metadata": {},
     "output_type": "execute_result"
    }
   ],
   "source": [
    "df.building_sqft[:5]"
   ]
  },
  {
   "cell_type": "markdown",
   "metadata": {},
   "source": [
    "# Garages Column"
   ]
  },
  {
   "cell_type": "code",
   "execution_count": 2396,
   "metadata": {},
   "outputs": [
    {
     "data": {
      "text/plain": [
       "0    2 Garage(s) / Attached/Detached\n",
       "1    3 Garage(s) / Attached,Tandem  \n",
       "2    2 Garage(s) / Attached         \n",
       "3    1 Garage(s) / Detached         \n",
       "4    2 Garage(s) / Attached         \n",
       "Name: garages, dtype: object"
      ]
     },
     "execution_count": 2396,
     "metadata": {},
     "output_type": "execute_result"
    }
   ],
   "source": [
    "df.garages[0:5]"
   ]
  },
  {
   "cell_type": "markdown",
   "metadata": {},
   "source": [
    "Let's split at '/' and then worry about uniqueness"
   ]
  },
  {
   "cell_type": "code",
   "execution_count": 2397,
   "metadata": {},
   "outputs": [],
   "source": [
    "df['garages'], df['garage_type'] = df.garages.str.split('/', 1).str"
   ]
  },
  {
   "cell_type": "code",
   "execution_count": 2398,
   "metadata": {},
   "outputs": [
    {
     "data": {
      "text/plain": [
       "0    2  \n",
       "1    3  \n",
       "2    2  \n",
       "3    1  \n",
       "4    2  \n",
       "Name: garages, dtype: object"
      ]
     },
     "execution_count": 2398,
     "metadata": {},
     "output_type": "execute_result"
    }
   ],
   "source": [
    "df.garages = df.garages.astype(str)\n",
    "df.garages = df.garages.map(lambda x: x.replace('Garage(s)', ''))\n",
    "df.garages[0:5]"
   ]
  },
  {
   "cell_type": "markdown",
   "metadata": {},
   "source": [
    "#### The garage multi-label data might require some cleanup down the road..."
   ]
  },
  {
   "cell_type": "code",
   "execution_count": 2399,
   "metadata": {},
   "outputs": [
    {
     "data": {
      "text/plain": [
       "array([' Attached/Detached', ' Attached,Tandem', ' Attached', ' Detached',\n",
       "       ' Attached,Oversized', nan, ' Attached,Detached',\n",
       "       ' Attached,Oversized,Tandem', ' Attached/Detached,Oversized',\n",
       "       ' Detached,Oversized', ' Attached,Attached/Detached', ' Oversized',\n",
       "       ' Detached,Oversized,Tandem', ' Tandem',\n",
       "       ' Attached/Detached,Detached,Oversized',\n",
       "       ' Attached,Detached,Oversized', ' Attached/Detached,Detached',\n",
       "       ' Attached/Detached,Tandem', ' Detached,Tandem',\n",
       "       ' Attached,Attached/Detached,Oversized',\n",
       "       ' Attached,Attached/Detached,Detached'], dtype=object)"
      ]
     },
     "execution_count": 2399,
     "metadata": {},
     "output_type": "execute_result"
    }
   ],
   "source": [
    "df.garage_type.unique()"
   ]
  },
  {
   "cell_type": "markdown",
   "metadata": {},
   "source": [
    "# IMG URL Column"
   ]
  },
  {
   "cell_type": "code",
   "execution_count": 2400,
   "metadata": {},
   "outputs": [
    {
     "data": {
      "text/plain": [
       "'background-image:url(https://photos.harstatic.com/172553809/lr/img-1.jpeg?ts=2019-04-17T10:23:50.137);'"
      ]
     },
     "execution_count": 2400,
     "metadata": {},
     "output_type": "execute_result"
    }
   ],
   "source": [
    "df.img_url[0]"
   ]
  },
  {
   "cell_type": "code",
   "execution_count": 2401,
   "metadata": {},
   "outputs": [],
   "source": [
    "def cleanURL(img_url):\n",
    "    if '?' in img_url:\n",
    "        img_url = img_url.replace(img_url[img_url.index('?'):],'')\n",
    "    return img_url"
   ]
  },
  {
   "cell_type": "code",
   "execution_count": 2402,
   "metadata": {},
   "outputs": [],
   "source": [
    "df.img_url = df.img_url.astype(str)\n",
    "df.img_url = df.img_url.map(lambda x: x.lstrip('background-image:url('))\n",
    "df.img_url = df.img_url.apply(cleanURL)"
   ]
  },
  {
   "cell_type": "code",
   "execution_count": 2403,
   "metadata": {},
   "outputs": [],
   "source": [
    "# Turn off truncating of URLs\n",
    "pd.set_option('display.max_colwidth', -1)"
   ]
  },
  {
   "cell_type": "code",
   "execution_count": 2404,
   "metadata": {},
   "outputs": [
    {
     "data": {
      "text/plain": [
       "0    https://photos.harstatic.com/172553809/lr/img-1.jpeg\n",
       "1    https://photos.harstatic.com/172364270/lr/img-1.jpeg\n",
       "2    https://photos.harstatic.com/172320148/lr/img-1.jpeg\n",
       "3    https://photos.harstatic.com/171900008/lr/img-1.jpeg\n",
       "4    https://photos.harstatic.com/171615142/lr/img-1.jpeg\n",
       "Name: img_url, dtype: object"
      ]
     },
     "execution_count": 2404,
     "metadata": {},
     "output_type": "execute_result"
    }
   ],
   "source": [
    "df.img_url[0:5]"
   ]
  },
  {
   "cell_type": "markdown",
   "metadata": {},
   "source": [
    "# List Price Column"
   ]
  },
  {
   "cell_type": "code",
   "execution_count": 2405,
   "metadata": {},
   "outputs": [
    {
     "data": {
      "text/plain": [
       "0     $ 475,000   \n",
       "1     $ 475,000   \n",
       "2     $ 475,000   \n",
       "3     $ 475,000   \n",
       "4     $ 475,000   \n",
       "Name: list_price, dtype: object"
      ]
     },
     "execution_count": 2405,
     "metadata": {},
     "output_type": "execute_result"
    }
   ],
   "source": [
    "df.list_price[0:5]"
   ]
  },
  {
   "cell_type": "code",
   "execution_count": 2406,
   "metadata": {},
   "outputs": [],
   "source": [
    "df.list_price = df.list_price.map(lambda x: x.replace('$','').replace(',',''))\n",
    "df.list_price = df.list_price.astype(int)"
   ]
  },
  {
   "cell_type": "code",
   "execution_count": 2407,
   "metadata": {},
   "outputs": [
    {
     "data": {
      "text/plain": [
       "0    475000\n",
       "1    475000\n",
       "2    475000\n",
       "3    475000\n",
       "4    475000\n",
       "Name: list_price, dtype: int64"
      ]
     },
     "execution_count": 2407,
     "metadata": {},
     "output_type": "execute_result"
    }
   ],
   "source": [
    "df.list_price[0:5]"
   ]
  },
  {
   "cell_type": "markdown",
   "metadata": {},
   "source": [
    "# List Status Column"
   ]
  },
  {
   "cell_type": "code",
   "execution_count": 2408,
   "metadata": {},
   "outputs": [
    {
     "data": {
      "text/plain": [
       "array(['For Sale', 'Under Contract - Pending',\n",
       "       'Under Contract - Option Pending',\n",
       "       'Under Contract - Pending Continue to Show'], dtype=object)"
      ]
     },
     "execution_count": 2408,
     "metadata": {},
     "output_type": "execute_result"
    }
   ],
   "source": [
    "df.list_status.unique()"
   ]
  },
  {
   "cell_type": "markdown",
   "metadata": {},
   "source": [
    "# List URL Column"
   ]
  },
  {
   "cell_type": "code",
   "execution_count": 2409,
   "metadata": {},
   "outputs": [
    {
     "data": {
      "text/plain": [
       "0    /11630-ashcroft/sale_69756841          \n",
       "1    /18111-ponte-vecchio/sale_45037765     \n",
       "2    /5910-caddo-terrace-lane/sale_52704869 \n",
       "3    /14722-cindywood-drive/sale_29834219   \n",
       "4    /3424-timbergrove-heights/sale_40531170\n",
       "Name: list_url, dtype: object"
      ]
     },
     "execution_count": 2409,
     "metadata": {},
     "output_type": "execute_result"
    }
   ],
   "source": [
    "df.list_url[0:5]"
   ]
  },
  {
   "cell_type": "code",
   "execution_count": 2410,
   "metadata": {},
   "outputs": [],
   "source": [
    "df.list_url = df.list_url.map(lambda x: 'http://www.har.com'+x)"
   ]
  },
  {
   "cell_type": "code",
   "execution_count": 2411,
   "metadata": {},
   "outputs": [
    {
     "data": {
      "text/plain": [
       "0    http://www.har.com/11630-ashcroft/sale_69756841          \n",
       "1    http://www.har.com/18111-ponte-vecchio/sale_45037765     \n",
       "2    http://www.har.com/5910-caddo-terrace-lane/sale_52704869 \n",
       "3    http://www.har.com/14722-cindywood-drive/sale_29834219   \n",
       "4    http://www.har.com/3424-timbergrove-heights/sale_40531170\n",
       "Name: list_url, dtype: object"
      ]
     },
     "execution_count": 2411,
     "metadata": {},
     "output_type": "execute_result"
    }
   ],
   "source": [
    "df.list_url[0:5]"
   ]
  },
  {
   "cell_type": "markdown",
   "metadata": {},
   "source": [
    "# Lot Sqft Column"
   ]
  },
  {
   "cell_type": "code",
   "execution_count": 2412,
   "metadata": {},
   "outputs": [
    {
     "data": {
      "text/plain": [
       "0    8,344 Lot Sqft.\n",
       "1    NaN            \n",
       "2    9,410 Lot Sqft.\n",
       "3    8,064 Lot Sqft.\n",
       "4    NaN            \n",
       "Name: lot_sqft, dtype: object"
      ]
     },
     "execution_count": 2412,
     "metadata": {},
     "output_type": "execute_result"
    }
   ],
   "source": [
    "df.lot_sqft[0:5]"
   ]
  },
  {
   "cell_type": "code",
   "execution_count": 2413,
   "metadata": {},
   "outputs": [],
   "source": [
    "df.lot_sqft = df.lot_sqft.astype(str)\n",
    "df.lot_sqft = df.lot_sqft.map(lambda x: x.replace('Lot Sqft.', ''))\n",
    "df.lot_sqft = df.lot_sqft.map(lambda x: x.replace(',', ''))\n",
    "df.lot_sqft = df.lot_sqft.astype(float)"
   ]
  },
  {
   "cell_type": "code",
   "execution_count": 2414,
   "metadata": {},
   "outputs": [
    {
     "data": {
      "text/plain": [
       "0    8344.0\n",
       "1   NaN    \n",
       "2    9410.0\n",
       "3    8064.0\n",
       "4   NaN    \n",
       "Name: lot_sqft, dtype: float64"
      ]
     },
     "execution_count": 2414,
     "metadata": {},
     "output_type": "execute_result"
    }
   ],
   "source": [
    "df.lot_sqft[0:5]"
   ]
  },
  {
   "cell_type": "markdown",
   "metadata": {},
   "source": [
    "# MLS Number Column"
   ]
  },
  {
   "cell_type": "code",
   "execution_count": 2415,
   "metadata": {},
   "outputs": [
    {
     "data": {
      "text/plain": [
       "0    MLS# 69756841\n",
       "1    MLS# 45037765\n",
       "2    MLS# 52704869\n",
       "3    MLS# 29834219\n",
       "4    MLS# 40531170\n",
       "Name: mls_num, dtype: object"
      ]
     },
     "execution_count": 2415,
     "metadata": {},
     "output_type": "execute_result"
    }
   ],
   "source": [
    "df.mls_num[0:5]"
   ]
  },
  {
   "cell_type": "code",
   "execution_count": 2416,
   "metadata": {},
   "outputs": [],
   "source": [
    "df.mls_num = df.mls_num.map(lambda x: x.replace('MLS# ', ''))"
   ]
  },
  {
   "cell_type": "code",
   "execution_count": 2417,
   "metadata": {},
   "outputs": [
    {
     "data": {
      "text/plain": [
       "0    69756841\n",
       "1    45037765\n",
       "2    52704869\n",
       "3    29834219\n",
       "4    40531170\n",
       "Name: mls_num, dtype: object"
      ]
     },
     "execution_count": 2417,
     "metadata": {},
     "output_type": "execute_result"
    }
   ],
   "source": [
    "df.mls_num[0:5]"
   ]
  },
  {
   "cell_type": "markdown",
   "metadata": {},
   "source": [
    "# Pool Column"
   ]
  },
  {
   "cell_type": "code",
   "execution_count": 2418,
   "metadata": {},
   "outputs": [
    {
     "data": {
      "text/plain": [
       "array(['No Private Pool ', ' Has Private Pool'], dtype=object)"
      ]
     },
     "execution_count": 2418,
     "metadata": {},
     "output_type": "execute_result"
    }
   ],
   "source": [
    "df.pool.unique()"
   ]
  },
  {
   "cell_type": "code",
   "execution_count": 2419,
   "metadata": {},
   "outputs": [],
   "source": [
    "# Remove leading white space from ' Has Private Pool' category\n",
    "df.pool = df.pool.str.lstrip()"
   ]
  },
  {
   "cell_type": "code",
   "execution_count": 2420,
   "metadata": {},
   "outputs": [
    {
     "data": {
      "text/plain": [
       "0    No Private Pool \n",
       "1    No Private Pool \n",
       "2    Has Private Pool\n",
       "3    No Private Pool \n",
       "4    No Private Pool \n",
       "Name: pool, dtype: object"
      ]
     },
     "execution_count": 2420,
     "metadata": {},
     "output_type": "execute_result"
    }
   ],
   "source": [
    "df.pool[0:5]"
   ]
  },
  {
   "cell_type": "markdown",
   "metadata": {},
   "source": [
    "# Realtor Company Link Column"
   ]
  },
  {
   "cell_type": "code",
   "execution_count": 2421,
   "metadata": {},
   "outputs": [
    {
     "data": {
      "text/plain": [
       "0    /compass-re-texas-llc/broker_CMTX01                \n",
       "1    /keller-williams-realty-the-woodlands/broker_KWWD01\n",
       "2    /keller-williams-realty-metropolitan/broker_KWHM01 \n",
       "3    /realty-associates-------------/broker_PBME01      \n",
       "4    /intown-homes/broker_INTW01                        \n",
       "Name: real_comp_link, dtype: object"
      ]
     },
     "execution_count": 2421,
     "metadata": {},
     "output_type": "execute_result"
    }
   ],
   "source": [
    "df.real_comp_link[0:5]"
   ]
  },
  {
   "cell_type": "code",
   "execution_count": 2422,
   "metadata": {},
   "outputs": [],
   "source": [
    "df.real_comp_link = df.real_comp_link.map(lambda x: 'http://www.har.com'+x)"
   ]
  },
  {
   "cell_type": "code",
   "execution_count": 2423,
   "metadata": {},
   "outputs": [
    {
     "data": {
      "text/plain": [
       "0    http://www.har.com/compass-re-texas-llc/broker_CMTX01                \n",
       "1    http://www.har.com/keller-williams-realty-the-woodlands/broker_KWWD01\n",
       "2    http://www.har.com/keller-williams-realty-metropolitan/broker_KWHM01 \n",
       "3    http://www.har.com/realty-associates-------------/broker_PBME01      \n",
       "4    http://www.har.com/intown-homes/broker_INTW01                        \n",
       "Name: real_comp_link, dtype: object"
      ]
     },
     "execution_count": 2423,
     "metadata": {},
     "output_type": "execute_result"
    }
   ],
   "source": [
    "df.real_comp_link[0:5]"
   ]
  },
  {
   "cell_type": "markdown",
   "metadata": {},
   "source": [
    "# Realtor Company Name Column"
   ]
  },
  {
   "cell_type": "code",
   "execution_count": 2424,
   "metadata": {},
   "outputs": [
    {
     "data": {
      "text/plain": [
       "0    Compass RE Texas, LLC               \n",
       "1    Keller Williams Realty The Woodlands\n",
       "2    Keller Williams Realty Metropolitan \n",
       "3    Realty Associates                   \n",
       "4    Intown Homes                        \n",
       "Name: real_comp_name, dtype: object"
      ]
     },
     "execution_count": 2424,
     "metadata": {},
     "output_type": "execute_result"
    }
   ],
   "source": [
    "df.real_comp_name[0:5]"
   ]
  },
  {
   "cell_type": "markdown",
   "metadata": {},
   "source": [
    "# Realtor Link"
   ]
  },
  {
   "cell_type": "code",
   "execution_count": 2425,
   "metadata": {},
   "outputs": [
    {
     "data": {
      "text/plain": [
       "0    /stephanie-finch/agent_SFinch  \n",
       "1    /garland-bennett/agent_GBENNETT\n",
       "2    /lorna-ramsay/agent_cornhill   \n",
       "3    /richard-gannon/agent_RGANNON  \n",
       "4    /emily-wang/agent_emwang       \n",
       "Name: real_link, dtype: object"
      ]
     },
     "execution_count": 2425,
     "metadata": {},
     "output_type": "execute_result"
    }
   ],
   "source": [
    "df.real_link[0:5]"
   ]
  },
  {
   "cell_type": "code",
   "execution_count": 2426,
   "metadata": {},
   "outputs": [],
   "source": [
    "df.real_link = df.real_link.map(lambda x: 'http://www.har.com'+x)"
   ]
  },
  {
   "cell_type": "code",
   "execution_count": 2427,
   "metadata": {},
   "outputs": [
    {
     "data": {
      "text/plain": [
       "0    http://www.har.com/stephanie-finch/agent_SFinch  \n",
       "1    http://www.har.com/garland-bennett/agent_GBENNETT\n",
       "2    http://www.har.com/lorna-ramsay/agent_cornhill   \n",
       "3    http://www.har.com/richard-gannon/agent_RGANNON  \n",
       "4    http://www.har.com/emily-wang/agent_emwang       \n",
       "Name: real_link, dtype: object"
      ]
     },
     "execution_count": 2427,
     "metadata": {},
     "output_type": "execute_result"
    }
   ],
   "source": [
    "df.real_link[0:5]"
   ]
  },
  {
   "cell_type": "markdown",
   "metadata": {},
   "source": [
    "# Realtor Name"
   ]
  },
  {
   "cell_type": "code",
   "execution_count": 2428,
   "metadata": {},
   "outputs": [
    {
     "data": {
      "text/plain": [
       "0    Stephanie Finch\n",
       "1    Garland Bennett\n",
       "2    Lorna Ramsay   \n",
       "3    Richard Gannon \n",
       "4    Emily Wang     \n",
       "Name: real_name, dtype: object"
      ]
     },
     "execution_count": 2428,
     "metadata": {},
     "output_type": "execute_result"
    }
   ],
   "source": [
    "df.real_name[0:5]"
   ]
  },
  {
   "cell_type": "markdown",
   "metadata": {},
   "source": [
    "# Stories Column"
   ]
  },
  {
   "cell_type": "code",
   "execution_count": 2429,
   "metadata": {},
   "outputs": [
    {
     "data": {
      "text/plain": [
       "array(['.2 Stories', '.1 Stories', '.3 Stories', '.4 Stories',\n",
       "       '.1.5 Stories', nan, '.2.5 Stories'], dtype=object)"
      ]
     },
     "execution_count": 2429,
     "metadata": {},
     "output_type": "execute_result"
    }
   ],
   "source": [
    "df.stories.unique()"
   ]
  },
  {
   "cell_type": "code",
   "execution_count": 2430,
   "metadata": {},
   "outputs": [],
   "source": [
    "# Cast column to string to we can use strip operations\n",
    "df.stories = df.stories.astype(str)\n",
    "df.stories = df.stories.map(lambda x: x.lstrip('.').rstrip('Stories'))\n",
    "# Cast column back to float\n",
    "df.stories = df.stories.astype(float)"
   ]
  },
  {
   "cell_type": "code",
   "execution_count": 2431,
   "metadata": {},
   "outputs": [
    {
     "data": {
      "text/plain": [
       "0    2.0\n",
       "1    1.0\n",
       "2    2.0\n",
       "3    1.0\n",
       "4    3.0\n",
       "Name: stories, dtype: float64"
      ]
     },
     "execution_count": 2431,
     "metadata": {},
     "output_type": "execute_result"
    }
   ],
   "source": [
    "df.stories[:5]"
   ]
  },
  {
   "cell_type": "code",
   "execution_count": 2432,
   "metadata": {},
   "outputs": [
    {
     "data": {
      "text/plain": [
       "array([2. , 1. , 3. , 4. , 1.5, nan, 2.5])"
      ]
     },
     "execution_count": 2432,
     "metadata": {},
     "output_type": "execute_result"
    }
   ],
   "source": [
    "df.stories.unique()"
   ]
  },
  {
   "cell_type": "markdown",
   "metadata": {},
   "source": [
    "# Unknown Column\n",
    "\n",
    "Might decide to return and use acres..."
   ]
  },
  {
   "cell_type": "code",
   "execution_count": 2433,
   "metadata": {},
   "outputs": [
    {
     "data": {
      "text/plain": [
       "array([nan, '1.92 Acre(s)', '0.43 Acre(s)', '2.71 Acre(s)',\n",
       "       '1.64 Acre(s)', '0.55 Acre(s)', '0.96 Acre(s)', '0.61 Acre(s)',\n",
       "       '2 Acre(s)', '5.89 Acre(s)', '1.01 Acre(s)', '1.06 Acre(s)',\n",
       "       '4.81 Acre(s)', '0.69 Acre(s)', '1.37 Acre(s)', '0.18 Acre(s)',\n",
       "       '2.13 Acre(s)', '0.16 Acre(s)', '1.53 Acre(s)', '0.56 Acre(s)',\n",
       "       '0.07 Acre(s)', '0.13 Acre(s)', '0.30 Acre(s)', '1.30 Acre(s)',\n",
       "       '1 Acre(s)', '1.26 Acre(s)', '1.10 Acre(s)', '2.83 Acre(s)',\n",
       "       '1.02 Acre(s)', '1.60 Acre(s)', '1.66 Acre(s)', '1.13 Acre(s)',\n",
       "       '1.08 Acre(s)', '2.24 Acre(s)', '1.22 Acre(s)', '1.42 Acre(s)',\n",
       "       '4.01 Acre(s)', '1.88 Acre(s)', '5 Acre(s)', '2.47 Acre(s)',\n",
       "       '2.98 Acre(s)', '0.20 Acre(s)', '1.21 Acre(s)', '1.09 Acre(s)',\n",
       "       '0.04 Acre(s)', '0.11 Acre(s)', '1.04 Acre(s)'], dtype=object)"
      ]
     },
     "execution_count": 2433,
     "metadata": {},
     "output_type": "execute_result"
    }
   ],
   "source": [
    "df.unknown_data.unique()"
   ]
  },
  {
   "cell_type": "markdown",
   "metadata": {},
   "source": [
    "# Year Built Column"
   ]
  },
  {
   "cell_type": "code",
   "execution_count": 2434,
   "metadata": {},
   "outputs": [
    {
     "data": {
      "text/plain": [
       "0    Built in 1960\n",
       "1    Built in 2018\n",
       "2    Built in 2003\n",
       "3    Built in 1969\n",
       "4    Built in 2019\n",
       "Name: year_built, dtype: object"
      ]
     },
     "execution_count": 2434,
     "metadata": {},
     "output_type": "execute_result"
    }
   ],
   "source": [
    "df.year_built[0:5]"
   ]
  },
  {
   "cell_type": "code",
   "execution_count": 2435,
   "metadata": {},
   "outputs": [],
   "source": [
    "df.year_built = df.year_built.astype(str)\n",
    "df.year_built = df.year_built.map(lambda x: x.replace('Built in ', ''))"
   ]
  },
  {
   "cell_type": "code",
   "execution_count": 2436,
   "metadata": {},
   "outputs": [
    {
     "data": {
      "text/plain": [
       "0    1960\n",
       "1    2018\n",
       "2    2003\n",
       "3    1969\n",
       "4    2019\n",
       "Name: year_built, dtype: object"
      ]
     },
     "execution_count": 2436,
     "metadata": {},
     "output_type": "execute_result"
    }
   ],
   "source": [
    "df.year_built[0:5]"
   ]
  },
  {
   "cell_type": "markdown",
   "metadata": {},
   "source": [
    "# Save New CSV"
   ]
  },
  {
   "cell_type": "code",
   "execution_count": 2437,
   "metadata": {},
   "outputs": [],
   "source": [
    "df.to_csv('CLEAN_'+filename+'.csv')"
   ]
  },
  {
   "cell_type": "markdown",
   "metadata": {},
   "source": [
    "# Done!"
   ]
  },
  {
   "cell_type": "code",
   "execution_count": 2438,
   "metadata": {},
   "outputs": [],
   "source": [
    "# locate rows in a column with a specific value\n",
    "#df.loc[df['bedrooms'] == '1-4  Bed(s)']"
   ]
  }
 ],
 "metadata": {
  "kernelspec": {
   "display_name": "Python 3",
   "language": "python",
   "name": "python3"
  },
  "language_info": {
   "codemirror_mode": {
    "name": "ipython",
    "version": 3
   },
   "file_extension": ".py",
   "mimetype": "text/x-python",
   "name": "python",
   "nbconvert_exporter": "python",
   "pygments_lexer": "ipython3",
   "version": "3.7.3"
  }
 },
 "nbformat": 4,
 "nbformat_minor": 2
}
