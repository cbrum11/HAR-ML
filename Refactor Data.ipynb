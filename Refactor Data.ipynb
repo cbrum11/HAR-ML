{
 "cells": [
  {
   "cell_type": "markdown",
   "metadata": {},
   "source": [
    "# Refactor Data\n",
    "\n",
    "Our goal here is to refactor the data to sensible forms for data processing and exploration.  When we're finished, we'll output a new CSV file."
   ]
  },
  {
   "cell_type": "code",
   "execution_count": 4110,
   "metadata": {},
   "outputs": [],
   "source": [
    "import pandas as pd"
   ]
  },
  {
   "cell_type": "code",
   "execution_count": 4111,
   "metadata": {},
   "outputs": [],
   "source": [
    "output_dir = 'output/'\n",
    "filename = '2019-06-20 16:42:57.005476'\n",
    "df = pd.read_csv(output_dir+filename+'.csv')"
   ]
  },
  {
   "cell_type": "markdown",
   "metadata": {},
   "source": [
    "# Preview Raw Data"
   ]
  },
  {
   "cell_type": "code",
   "execution_count": 4112,
   "metadata": {},
   "outputs": [],
   "source": [
    "pd.set_option('display.max_columns', 25)"
   ]
  },
  {
   "cell_type": "code",
   "execution_count": 4113,
   "metadata": {
    "scrolled": true
   },
   "outputs": [
    {
     "data": {
      "text/html": [
       "<div>\n",
       "<style scoped>\n",
       "    .dataframe tbody tr th:only-of-type {\n",
       "        vertical-align: middle;\n",
       "    }\n",
       "\n",
       "    .dataframe tbody tr th {\n",
       "        vertical-align: top;\n",
       "    }\n",
       "\n",
       "    .dataframe thead th {\n",
       "        text-align: right;\n",
       "    }\n",
       "</style>\n",
       "<table border=\"1\" class=\"dataframe\">\n",
       "  <thead>\n",
       "    <tr style=\"text-align: right;\">\n",
       "      <th></th>\n",
       "      <th>Unnamed: 0</th>\n",
       "      <th>address</th>\n",
       "      <th>bathrooms</th>\n",
       "      <th>bedrooms</th>\n",
       "      <th>building_sqft</th>\n",
       "      <th>desc</th>\n",
       "      <th>garages</th>\n",
       "      <th>img_url</th>\n",
       "      <th>list_price</th>\n",
       "      <th>list_status</th>\n",
       "      <th>list_url</th>\n",
       "      <th>lot_sqft</th>\n",
       "      <th>mls_num</th>\n",
       "      <th>pool</th>\n",
       "      <th>real_comp_link</th>\n",
       "      <th>real_comp_name</th>\n",
       "      <th>real_link</th>\n",
       "      <th>real_name</th>\n",
       "      <th>stories</th>\n",
       "      <th>unknown_data</th>\n",
       "      <th>year_built</th>\n",
       "    </tr>\n",
       "  </thead>\n",
       "  <tbody>\n",
       "    <tr>\n",
       "      <th>0</th>\n",
       "      <td>0</td>\n",
       "      <td>11630 Ashcroft, Houston, TX 77035</td>\n",
       "      <td>.2 Full &amp; 1 Half Bath(s)</td>\n",
       "      <td>4 Bed(s)</td>\n",
       "      <td>.2,747 Building Sqft.</td>\n",
       "      <td>Single-Family Property, Traditional Style  in Westbury Subdivision  in Brays Oaks (Market Area)</td>\n",
       "      <td>2 Garage(s) / Attached/Detached</td>\n",
       "      <td>background-image:url(https://photos.harstatic.com/172553809/lr/img-1.jpeg?ts=2019-04-17T10:23:50.137);</td>\n",
       "      <td>$ 475,000</td>\n",
       "      <td>For Sale</td>\n",
       "      <td>/11630-ashcroft/sale_69756841</td>\n",
       "      <td>8,344 Lot Sqft.</td>\n",
       "      <td>MLS# 69756841</td>\n",
       "      <td>No Private Pool</td>\n",
       "      <td>/compass-re-texas-llc/broker_CMTX01</td>\n",
       "      <td>Compass RE Texas, LLC</td>\n",
       "      <td>/stephanie-finch/agent_SFinch</td>\n",
       "      <td>Stephanie Finch</td>\n",
       "      <td>.2 Stories</td>\n",
       "      <td>NaN</td>\n",
       "      <td>Built in 1960</td>\n",
       "    </tr>\n",
       "  </tbody>\n",
       "</table>\n",
       "</div>"
      ],
      "text/plain": [
       "   Unnamed: 0                            address                 bathrooms  \\\n",
       "0  0           11630 Ashcroft, Houston, TX 77035  .2 Full & 1 Half Bath(s)   \n",
       "\n",
       "   bedrooms          building_sqft  \\\n",
       "0  4 Bed(s)  .2,747 Building Sqft.   \n",
       "\n",
       "                                                                                               desc  \\\n",
       "0  Single-Family Property, Traditional Style  in Westbury Subdivision  in Brays Oaks (Market Area)    \n",
       "\n",
       "                           garages  \\\n",
       "0  2 Garage(s) / Attached/Detached   \n",
       "\n",
       "                                                                                                  img_url  \\\n",
       "0  background-image:url(https://photos.harstatic.com/172553809/lr/img-1.jpeg?ts=2019-04-17T10:23:50.137);   \n",
       "\n",
       "      list_price list_status                       list_url         lot_sqft  \\\n",
       "0   $ 475,000     For Sale    /11630-ashcroft/sale_69756841  8,344 Lot Sqft.   \n",
       "\n",
       "         mls_num              pool                       real_comp_link  \\\n",
       "0  MLS# 69756841  No Private Pool   /compass-re-texas-llc/broker_CMTX01   \n",
       "\n",
       "          real_comp_name                      real_link        real_name  \\\n",
       "0  Compass RE Texas, LLC  /stephanie-finch/agent_SFinch  Stephanie Finch   \n",
       "\n",
       "      stories unknown_data     year_built  \n",
       "0  .2 Stories  NaN          Built in 1960  "
      ]
     },
     "execution_count": 4113,
     "metadata": {},
     "output_type": "execute_result"
    }
   ],
   "source": [
    "df.head(1)"
   ]
  },
  {
   "cell_type": "code",
   "execution_count": 4114,
   "metadata": {},
   "outputs": [
    {
     "data": {
      "text/plain": [
       "Index(['Unnamed: 0', 'address', 'bathrooms', 'bedrooms', 'building_sqft',\n",
       "       'desc', 'garages', 'img_url', 'list_price', 'list_status', 'list_url',\n",
       "       'lot_sqft', 'mls_num', 'pool', 'real_comp_link', 'real_comp_name',\n",
       "       'real_link', 'real_name', 'stories', 'unknown_data', 'year_built'],\n",
       "      dtype='object')"
      ]
     },
     "execution_count": 4114,
     "metadata": {},
     "output_type": "execute_result"
    }
   ],
   "source": [
    "df.columns"
   ]
  },
  {
   "cell_type": "code",
   "execution_count": 4115,
   "metadata": {},
   "outputs": [],
   "source": [
    "# Drop Index Column\n",
    "df.drop(columns='Unnamed: 0', inplace=True)"
   ]
  },
  {
   "cell_type": "markdown",
   "metadata": {},
   "source": [
    "# Zip Code"
   ]
  },
  {
   "cell_type": "markdown",
   "metadata": {},
   "source": [
    "Let's split out the zipcode from the address because it might come in handly later..."
   ]
  },
  {
   "cell_type": "code",
   "execution_count": 4116,
   "metadata": {},
   "outputs": [
    {
     "data": {
      "text/plain": [
       "array(['77035', '77044', '77041', '77079', '77008', '77042', '77007',\n",
       "       '77009', '77071', '77586', '77084', '77064', '77080', '77062',\n",
       "       '77070', '77066', '77043', '77018', '77065', '77095', '77082',\n",
       "       '77077', '77063', '77096', '77054', '77055', '77345', '77032',\n",
       "       '77073', '77026', '77033', '77067', '77037', '77074', '77088',\n",
       "       '77016', '77045', '77090', '77069', '77049', '77051', '77023',\n",
       "       '77092', '77094', '77004', '77006', '77025', '77040', '77099',\n",
       "       '77021', '77014', '77028', '77072', '77022', '77053', '77031',\n",
       "       '77089', '77047', '77086', '77087', '77081', '77373', '77083',\n",
       "       '77076', '77078', '77091', '77060', '77020', '77034', '77396',\n",
       "       '77059', '77003', '77038', '77061', '77015', '77339', '77068',\n",
       "       '77075', '77058', '77057', '77048', '77085', '77489', '77093',\n",
       "       '77036', '77011', '77005', '77346', '77598', '77039', '77477',\n",
       "       '77017', '77029', '77019', '77336', '77012', '77024', '77013',\n",
       "       '77056', '77027', '77483', '77002', '77365', '77098', '-1273',\n",
       "       '77050', '77433', '77030', '77350', '77338', '77504'], dtype=object)"
      ]
     },
     "execution_count": 4116,
     "metadata": {},
     "output_type": "execute_result"
    }
   ],
   "source": [
    "df['zipcode'] = df.address.map(lambda x: x[-5:])\n",
    "df.zipcode.unique()"
   ]
  },
  {
   "cell_type": "markdown",
   "metadata": {},
   "source": [
    "Strange zipcode \"-1273\", let's take a look..."
   ]
  },
  {
   "cell_type": "code",
   "execution_count": 4117,
   "metadata": {},
   "outputs": [
    {
     "data": {
      "text/html": [
       "<div>\n",
       "<style scoped>\n",
       "    .dataframe tbody tr th:only-of-type {\n",
       "        vertical-align: middle;\n",
       "    }\n",
       "\n",
       "    .dataframe tbody tr th {\n",
       "        vertical-align: top;\n",
       "    }\n",
       "\n",
       "    .dataframe thead th {\n",
       "        text-align: right;\n",
       "    }\n",
       "</style>\n",
       "<table border=\"1\" class=\"dataframe\">\n",
       "  <thead>\n",
       "    <tr style=\"text-align: right;\">\n",
       "      <th></th>\n",
       "      <th>address</th>\n",
       "      <th>bathrooms</th>\n",
       "      <th>bedrooms</th>\n",
       "      <th>building_sqft</th>\n",
       "      <th>desc</th>\n",
       "      <th>garages</th>\n",
       "      <th>img_url</th>\n",
       "      <th>list_price</th>\n",
       "      <th>list_status</th>\n",
       "      <th>list_url</th>\n",
       "      <th>lot_sqft</th>\n",
       "      <th>mls_num</th>\n",
       "      <th>pool</th>\n",
       "      <th>real_comp_link</th>\n",
       "      <th>real_comp_name</th>\n",
       "      <th>real_link</th>\n",
       "      <th>real_name</th>\n",
       "      <th>stories</th>\n",
       "      <th>unknown_data</th>\n",
       "      <th>year_built</th>\n",
       "      <th>zipcode</th>\n",
       "    </tr>\n",
       "  </thead>\n",
       "  <tbody>\n",
       "    <tr>\n",
       "      <th>5104</th>\n",
       "      <td>2218 Lazybrook Drive, Houston, TX 77008-1273</td>\n",
       "      <td>.2 Full  Bath(s)</td>\n",
       "      <td>3 Bed(s)</td>\n",
       "      <td>.1,411 Building Sqft.</td>\n",
       "      <td>Single-Family Property, Ranch,Traditional Style  in Lazybrook Subdivision  in Timbergrove/Lazybrook (Market Area)</td>\n",
       "      <td>2 Garage(s) / Attached</td>\n",
       "      <td>background-image:url(https://photos.harstatic.com/174712810/lr/img-1.jpeg?ts=2019-06-13T13:33:30.973);</td>\n",
       "      <td>$ 449,500</td>\n",
       "      <td>For Sale</td>\n",
       "      <td>/2218-lazybrook-drive/sale_80751978</td>\n",
       "      <td>7,200 Lot Sqft.</td>\n",
       "      <td>MLS# 80751978</td>\n",
       "      <td>No Private Pool</td>\n",
       "      <td>/coldwell-banker-united-realtors---metropolitan/broker_COLD03</td>\n",
       "      <td>Coldwell Banker United, Realtors - Metropolitan</td>\n",
       "      <td>/steve-louis/agent_LOUIS</td>\n",
       "      <td>Steve Louis</td>\n",
       "      <td>.1 Stories</td>\n",
       "      <td>NaN</td>\n",
       "      <td>Built in 1957</td>\n",
       "      <td>-1273</td>\n",
       "    </tr>\n",
       "  </tbody>\n",
       "</table>\n",
       "</div>"
      ],
      "text/plain": [
       "                                           address         bathrooms  \\\n",
       "5104  2218 Lazybrook Drive, Houston, TX 77008-1273  .2 Full  Bath(s)   \n",
       "\n",
       "      bedrooms          building_sqft  \\\n",
       "5104  3 Bed(s)  .1,411 Building Sqft.   \n",
       "\n",
       "                                                                                                                    desc  \\\n",
       "5104  Single-Family Property, Ranch,Traditional Style  in Lazybrook Subdivision  in Timbergrove/Lazybrook (Market Area)    \n",
       "\n",
       "                     garages  \\\n",
       "5104  2 Garage(s) / Attached   \n",
       "\n",
       "                                                                                                     img_url  \\\n",
       "5104  background-image:url(https://photos.harstatic.com/174712810/lr/img-1.jpeg?ts=2019-06-13T13:33:30.973);   \n",
       "\n",
       "         list_price list_status                             list_url  \\\n",
       "5104   $ 449,500     For Sale    /2218-lazybrook-drive/sale_80751978   \n",
       "\n",
       "             lot_sqft        mls_num              pool  \\\n",
       "5104  7,200 Lot Sqft.  MLS# 80751978  No Private Pool    \n",
       "\n",
       "                                                     real_comp_link  \\\n",
       "5104  /coldwell-banker-united-realtors---metropolitan/broker_COLD03   \n",
       "\n",
       "                                       real_comp_name  \\\n",
       "5104  Coldwell Banker United, Realtors - Metropolitan   \n",
       "\n",
       "                     real_link    real_name     stories unknown_data  \\\n",
       "5104  /steve-louis/agent_LOUIS  Steve Louis  .1 Stories  NaN           \n",
       "\n",
       "         year_built zipcode  \n",
       "5104  Built in 1957  -1273   "
      ]
     },
     "execution_count": 4117,
     "metadata": {},
     "output_type": "execute_result"
    }
   ],
   "source": [
    "df[df.zipcode == '-1273']"
   ]
  },
  {
   "cell_type": "code",
   "execution_count": 4118,
   "metadata": {},
   "outputs": [],
   "source": [
    "df.at[5104, 'zipcode'] = 77008"
   ]
  },
  {
   "cell_type": "code",
   "execution_count": 4119,
   "metadata": {},
   "outputs": [
    {
     "data": {
      "text/html": [
       "<div>\n",
       "<style scoped>\n",
       "    .dataframe tbody tr th:only-of-type {\n",
       "        vertical-align: middle;\n",
       "    }\n",
       "\n",
       "    .dataframe tbody tr th {\n",
       "        vertical-align: top;\n",
       "    }\n",
       "\n",
       "    .dataframe thead th {\n",
       "        text-align: right;\n",
       "    }\n",
       "</style>\n",
       "<table border=\"1\" class=\"dataframe\">\n",
       "  <thead>\n",
       "    <tr style=\"text-align: right;\">\n",
       "      <th></th>\n",
       "      <th>address</th>\n",
       "      <th>bathrooms</th>\n",
       "      <th>bedrooms</th>\n",
       "      <th>building_sqft</th>\n",
       "      <th>desc</th>\n",
       "      <th>garages</th>\n",
       "      <th>img_url</th>\n",
       "      <th>list_price</th>\n",
       "      <th>list_status</th>\n",
       "      <th>list_url</th>\n",
       "      <th>lot_sqft</th>\n",
       "      <th>mls_num</th>\n",
       "      <th>pool</th>\n",
       "      <th>real_comp_link</th>\n",
       "      <th>real_comp_name</th>\n",
       "      <th>real_link</th>\n",
       "      <th>real_name</th>\n",
       "      <th>stories</th>\n",
       "      <th>unknown_data</th>\n",
       "      <th>year_built</th>\n",
       "      <th>zipcode</th>\n",
       "    </tr>\n",
       "  </thead>\n",
       "  <tbody>\n",
       "  </tbody>\n",
       "</table>\n",
       "</div>"
      ],
      "text/plain": [
       "Empty DataFrame\n",
       "Columns: [address, bathrooms, bedrooms, building_sqft, desc, garages, img_url, list_price, list_status, list_url, lot_sqft, mls_num, pool, real_comp_link, real_comp_name, real_link, real_name, stories, unknown_data, year_built, zipcode]\n",
       "Index: []"
      ]
     },
     "execution_count": 4119,
     "metadata": {},
     "output_type": "execute_result"
    }
   ],
   "source": [
    "# Sanity check. Is it gone?\n",
    "df[df.zipcode == '-1273']"
   ]
  },
  {
   "cell_type": "code",
   "execution_count": 4120,
   "metadata": {},
   "outputs": [
    {
     "data": {
      "text/plain": [
       "77084    503\n",
       "77044    440\n",
       "77095    393\n",
       "77077    385\n",
       "77008    363\n",
       "77018    322\n",
       "77009    311\n",
       "77007    306\n",
       "77096    296\n",
       "77080    277\n",
       "77070    241\n",
       "77069    210\n",
       "77083    209\n",
       "77092    207\n",
       "77043    206\n",
       "77004    183\n",
       "77035    180\n",
       "77082    178\n",
       "77041    178\n",
       "77088    157\n",
       "77066    156\n",
       "77055    148\n",
       "77073    142\n",
       "77089    142\n",
       "77025    142\n",
       "77059    141\n",
       "77091    132\n",
       "77062    130\n",
       "77064    127\n",
       "77079    126\n",
       "        ... \n",
       "77012    24 \n",
       "77060    23 \n",
       "77013    21 \n",
       "77396    20 \n",
       "77085    19 \n",
       "77346    19 \n",
       "77032    17 \n",
       "77057    16 \n",
       "77006    15 \n",
       "77037    14 \n",
       "77598    13 \n",
       "77336    13 \n",
       "77024    9  \n",
       "77056    8  \n",
       "77365    7  \n",
       "77477    6  \n",
       "77005    5  \n",
       "77002    4  \n",
       "77098    4  \n",
       "77433    2  \n",
       "77373    2  \n",
       "77050    2  \n",
       "77008    1  \n",
       "77504    1  \n",
       "77030    1  \n",
       "77586    1  \n",
       "77350    1  \n",
       "77338    1  \n",
       "77027    1  \n",
       "77483    1  \n",
       "Name: zipcode, Length: 111, dtype: int64"
      ]
     },
     "execution_count": 4120,
     "metadata": {},
     "output_type": "execute_result"
    }
   ],
   "source": [
    "# Check zipcode balance\n",
    "df.zipcode.value_counts()"
   ]
  },
  {
   "cell_type": "code",
   "execution_count": 4121,
   "metadata": {},
   "outputs": [],
   "source": [
    "# Grab unique zips and how many times they appear\n",
    "keep_zips = df.zipcode.value_counts()\n",
    "# Grab only zips that have >= 20 instances (more than 20 properties in this zip)\n",
    "keep_zips = keep_zips[keep_zips.values >= 20].index\n",
    "# Finalize dataframe to include only properties with zipcodes in keep_zips list\n",
    "df = df[df.zipcode.isin(keep_zips)]"
   ]
  },
  {
   "cell_type": "code",
   "execution_count": 4122,
   "metadata": {},
   "outputs": [],
   "source": [
    "# Remove NaN's and Set Final Form\n",
    "df.dropna(inplace=True, subset=['zipcode'])\n",
    "df.zipcode = df.zipcode.astype(str)"
   ]
  },
  {
   "cell_type": "code",
   "execution_count": 4123,
   "metadata": {},
   "outputs": [
    {
     "data": {
      "text/plain": [
       "20"
      ]
     },
     "execution_count": 4123,
     "metadata": {},
     "output_type": "execute_result"
    }
   ],
   "source": [
    "# Sanity Check\n",
    "df.zipcode.value_counts().values.min()"
   ]
  },
  {
   "cell_type": "markdown",
   "metadata": {},
   "source": [
    "# Bathrooms Column"
   ]
  },
  {
   "cell_type": "markdown",
   "metadata": {},
   "source": [
    "#### Split into full bathrooms and half bathrooms columns."
   ]
  },
  {
   "cell_type": "code",
   "execution_count": 4124,
   "metadata": {},
   "outputs": [
    {
     "data": {
      "text/plain": [
       "array(['.2 Full & 1 Half Bath(s)', '.3 Full & 1 Half Bath(s)',\n",
       "       '.2 Full  Bath(s)', '.1 Full  Bath(s)', '.3 Full  Bath(s)',\n",
       "       '.1 Full & 1 Half Bath(s)', '.5 Full  Bath(s)',\n",
       "       '.2 Full & 2 Half Bath(s)', nan, '.4 Full  Bath(s)',\n",
       "       '.3 Full & 2 Half Bath(s)', '.4 Full & 2 Half Bath(s)',\n",
       "       '.5 Full & 1 Half Bath(s)', '.4 Full & 1 Half Bath(s)',\n",
       "       '.2 Full & 5 Half Bath(s)', '.6 Full  Bath(s)',\n",
       "       '.2 Full & 3 Half Bath(s)', '.2 Full & 4 Half Bath(s)',\n",
       "       '.5 Full & 2 Half Bath(s)', '.1 Full & 2 Half Bath(s)'],\n",
       "      dtype=object)"
      ]
     },
     "execution_count": 4124,
     "metadata": {},
     "output_type": "execute_result"
    }
   ],
   "source": [
    "df.bathrooms.unique()"
   ]
  },
  {
   "cell_type": "code",
   "execution_count": 4125,
   "metadata": {},
   "outputs": [],
   "source": [
    "# Cast column to string to we can use strip operations\n",
    "df.bathrooms = df.bathrooms.astype(str)\n",
    "df.bathrooms = df.bathrooms.map(lambda x: x.strip('.').strip('Bath(s)'))\n",
    "df.bathrooms = df.bathrooms.map(lambda x: x.replace('Half',\"\").replace('Full',\"\").replace(\"&\",\"\"))\n",
    "df.bathrooms = df.bathrooms.map(lambda x: x.strip())"
   ]
  },
  {
   "cell_type": "markdown",
   "metadata": {},
   "source": [
    "#### Fancy little function here that splits the single column into 2 columns with a max of '1' split per row."
   ]
  },
  {
   "cell_type": "code",
   "execution_count": 4126,
   "metadata": {},
   "outputs": [],
   "source": [
    "df['full_baths'], df['half_baths'] = df.bathrooms.str.split(' ', 1).str\n",
    "df.half_baths = df.half_baths.str.lstrip()"
   ]
  },
  {
   "cell_type": "code",
   "execution_count": 4127,
   "metadata": {},
   "outputs": [],
   "source": [
    "# Remove original bathroom column\n",
    "df.drop(columns='bathrooms', inplace=True)"
   ]
  },
  {
   "cell_type": "code",
   "execution_count": 4128,
   "metadata": {},
   "outputs": [
    {
     "data": {
      "text/plain": [
       "array(['2', '3', '1', '5', 'nan', '4', '6'], dtype=object)"
      ]
     },
     "execution_count": 4128,
     "metadata": {},
     "output_type": "execute_result"
    }
   ],
   "source": [
    "df.full_baths.unique()"
   ]
  },
  {
   "cell_type": "code",
   "execution_count": 4129,
   "metadata": {},
   "outputs": [
    {
     "data": {
      "text/plain": [
       "array(['1', nan, '2', '5', '3', '4'], dtype=object)"
      ]
     },
     "execution_count": 4129,
     "metadata": {},
     "output_type": "execute_result"
    }
   ],
   "source": [
    "df.half_baths.unique()"
   ]
  },
  {
   "cell_type": "code",
   "execution_count": 4130,
   "metadata": {},
   "outputs": [],
   "source": [
    "# Pandas won't find NaN if not float...\n",
    "df.full_baths = df.full_baths.astype(float)\n",
    "# Remove NaN's and Set Final Form \n",
    "df.dropna(subset=['full_baths'], inplace=True)\n",
    "# Replace NaN with 0 (don't want to remove if property doesn't have a half bath)\n",
    "df.half_baths.fillna(0, inplace=True)\n",
    "df.full_baths = df.full_baths.astype(int)\n",
    "df.half_baths = df.half_baths.astype(int)"
   ]
  },
  {
   "cell_type": "code",
   "execution_count": 4131,
   "metadata": {},
   "outputs": [
    {
     "data": {
      "text/plain": [
       "(10835, 22)"
      ]
     },
     "execution_count": 4131,
     "metadata": {},
     "output_type": "execute_result"
    }
   ],
   "source": [
    "df.shape"
   ]
  },
  {
   "cell_type": "code",
   "execution_count": 4132,
   "metadata": {},
   "outputs": [
    {
     "data": {
      "text/plain": [
       "array([2, 3, 1, 5, 4, 6])"
      ]
     },
     "execution_count": 4132,
     "metadata": {},
     "output_type": "execute_result"
    }
   ],
   "source": [
    "df.full_baths.unique()"
   ]
  },
  {
   "cell_type": "code",
   "execution_count": 4133,
   "metadata": {},
   "outputs": [
    {
     "data": {
      "text/plain": [
       "array([1, 0, 2, 5, 3, 4])"
      ]
     },
     "execution_count": 4133,
     "metadata": {},
     "output_type": "execute_result"
    }
   ],
   "source": [
    "df.half_baths.unique()"
   ]
  },
  {
   "cell_type": "markdown",
   "metadata": {},
   "source": [
    "# Bedrooms Column"
   ]
  },
  {
   "cell_type": "code",
   "execution_count": 4134,
   "metadata": {},
   "outputs": [
    {
     "data": {
      "text/plain": [
       "array(['4 Bed(s)', '3 Bed(s)', '4-5  Bed(s)', '2 Bed(s)', '3-4  Bed(s)',\n",
       "       '6 Bed(s)', '2-3  Bed(s)', '5 Bed(s)', '1 Bed(s)', nan, '7 Bed(s)',\n",
       "       '3-5  Bed(s)', '5-6  Bed(s)', '8 Bed(s)', '4-6  Bed(s)',\n",
       "       '1-2  Bed(s)', '6-8  Bed(s)', '9 Bed(s)', '1-4  Bed(s)'],\n",
       "      dtype=object)"
      ]
     },
     "execution_count": 4134,
     "metadata": {},
     "output_type": "execute_result"
    }
   ],
   "source": [
    "df.bedrooms.unique()"
   ]
  },
  {
   "cell_type": "code",
   "execution_count": 4135,
   "metadata": {},
   "outputs": [],
   "source": [
    "# Remove string 'Bed(s)'\n",
    "df.bedrooms = df.bedrooms.astype(str)\n",
    "df.bedrooms = df.bedrooms.map(lambda x: x.replace('Bed(s)', ''))\n",
    "df.bedrooms = df.bedrooms.str.strip()"
   ]
  },
  {
   "cell_type": "code",
   "execution_count": 4136,
   "metadata": {},
   "outputs": [],
   "source": [
    "# Helper function that takes averages of bedrooms data\n",
    "# that take the format '1-4'\n",
    "def avgBeds(bedrooms):\n",
    "    if '-' in bedrooms:\n",
    "        sum = float(bedrooms[0])+float(bedrooms[-1])\n",
    "        bedrooms = sum/2.0\n",
    "    return bedrooms"
   ]
  },
  {
   "cell_type": "code",
   "execution_count": 4137,
   "metadata": {},
   "outputs": [],
   "source": [
    "# Take average of bedrooms with form '1-4'\n",
    "df.bedrooms = df.bedrooms.apply(avgBeds);"
   ]
  },
  {
   "cell_type": "code",
   "execution_count": 4138,
   "metadata": {},
   "outputs": [
    {
     "data": {
      "text/plain": [
       "0    4  \n",
       "1    4  \n",
       "2    4  \n",
       "3    4  \n",
       "4    3  \n",
       "5    3  \n",
       "6    4  \n",
       "7    3  \n",
       "8    4.5\n",
       "9    2  \n",
       "Name: bedrooms, dtype: object"
      ]
     },
     "execution_count": 4138,
     "metadata": {},
     "output_type": "execute_result"
    }
   ],
   "source": [
    "df.bedrooms[:10]"
   ]
  },
  {
   "cell_type": "code",
   "execution_count": 4139,
   "metadata": {},
   "outputs": [
    {
     "data": {
      "text/plain": [
       "22"
      ]
     },
     "execution_count": 4139,
     "metadata": {},
     "output_type": "execute_result"
    }
   ],
   "source": [
    "# How many homes don't have bedrooms? Must be a float to pick up NaN's\n",
    "df.bedrooms = df.bedrooms.astype(float)\n",
    "df.bedrooms.isna().sum()"
   ]
  },
  {
   "cell_type": "markdown",
   "metadata": {},
   "source": [
    "What home doesn't have a bedroom?  Let's get rid of these."
   ]
  },
  {
   "cell_type": "code",
   "execution_count": 4140,
   "metadata": {},
   "outputs": [],
   "source": [
    "# Remove NaN's and Set Final Form\n",
    "df.dropna(inplace=True, subset=['bedrooms'])\n",
    "df.bedrooms.astype(float);"
   ]
  },
  {
   "cell_type": "markdown",
   "metadata": {},
   "source": [
    "# Building Sqft Column"
   ]
  },
  {
   "cell_type": "code",
   "execution_count": 4141,
   "metadata": {},
   "outputs": [
    {
     "data": {
      "text/plain": [
       "0    .2,747 Building Sqft.\n",
       "1    .3,500 Building Sqft.\n",
       "2    .3,346 Building Sqft.\n",
       "3    .2,308 Building Sqft.\n",
       "4    .2,259 Building Sqft.\n",
       "Name: building_sqft, dtype: object"
      ]
     },
     "execution_count": 4141,
     "metadata": {},
     "output_type": "execute_result"
    }
   ],
   "source": [
    "df.building_sqft[:5]"
   ]
  },
  {
   "cell_type": "code",
   "execution_count": 4142,
   "metadata": {},
   "outputs": [],
   "source": [
    "df.building_sqft = df.building_sqft.astype(str)\n",
    "df.building_sqft = df.building_sqft.map(lambda x: x.lstrip('.'))\n",
    "df.building_sqft = df.building_sqft.map(lambda x: x.replace('Building Sqft.', ''))\n",
    "df.building_sqft = df.building_sqft.map(lambda x: x.replace(',', ''))"
   ]
  },
  {
   "cell_type": "code",
   "execution_count": 4143,
   "metadata": {},
   "outputs": [
    {
     "data": {
      "text/plain": [
       "0    2747 \n",
       "1    3500 \n",
       "2    3346 \n",
       "3    2308 \n",
       "4    2259 \n",
       "Name: building_sqft, dtype: object"
      ]
     },
     "execution_count": 4143,
     "metadata": {},
     "output_type": "execute_result"
    }
   ],
   "source": [
    "df.building_sqft[:5]"
   ]
  },
  {
   "cell_type": "code",
   "execution_count": 4144,
   "metadata": {},
   "outputs": [
    {
     "data": {
      "text/plain": [
       "41"
      ]
     },
     "execution_count": 4144,
     "metadata": {},
     "output_type": "execute_result"
    }
   ],
   "source": [
    "# Must be float to pick up NaN.  How many homes don't have sqft listed?\n",
    "df.building_sqft = df.building_sqft.astype(float)\n",
    "df.building_sqft.isna().sum()"
   ]
  },
  {
   "cell_type": "markdown",
   "metadata": {},
   "source": [
    "Sqft is an important metric.  We'll remove all properties that do not have Sqft as a datapoint."
   ]
  },
  {
   "cell_type": "code",
   "execution_count": 4145,
   "metadata": {},
   "outputs": [],
   "source": [
    "# Remove NaN's and Set Final Form\n",
    "df.dropna(inplace=True, subset=['building_sqft'])\n",
    "df.building_sqft.astype(int);"
   ]
  },
  {
   "cell_type": "markdown",
   "metadata": {},
   "source": [
    "# Garages Column"
   ]
  },
  {
   "cell_type": "code",
   "execution_count": 4146,
   "metadata": {},
   "outputs": [
    {
     "data": {
      "text/plain": [
       "0    2 Garage(s) / Attached/Detached\n",
       "1    3 Garage(s) / Attached,Tandem  \n",
       "2    2 Garage(s) / Attached         \n",
       "3    1 Garage(s) / Detached         \n",
       "4    2 Garage(s) / Attached         \n",
       "Name: garages, dtype: object"
      ]
     },
     "execution_count": 4146,
     "metadata": {},
     "output_type": "execute_result"
    }
   ],
   "source": [
    "df.garages[0:5]"
   ]
  },
  {
   "cell_type": "markdown",
   "metadata": {},
   "source": [
    "Let's split at '/' and then worry about uniqueness later"
   ]
  },
  {
   "cell_type": "code",
   "execution_count": 4147,
   "metadata": {},
   "outputs": [],
   "source": [
    "df['garages'], df['garage_type'] = df.garages.str.split('/', 1).str"
   ]
  },
  {
   "cell_type": "code",
   "execution_count": 4148,
   "metadata": {},
   "outputs": [
    {
     "data": {
      "text/plain": [
       "array(['2 Garage(s) ', '3 Garage(s) ', '1 Garage(s) ', nan,\n",
       "       '22 Garage(s) ', '32 Garage(s) ', '4 Garage(s) ', '60 Garage(s) ',\n",
       "       '40 Garage(s) ', '12 Garage(s) ', '18 Garage(s) ', '5 Garage(s) ',\n",
       "       '6 Garage(s) ', '8234 Garage(s) ', '50 Garage(s) ',\n",
       "       '66 Garage(s) ', '16 Garage(s) ', '48 Garage(s) ', '43 Garage(s) ',\n",
       "       '21 Garage(s) ', '36 Garage(s) '], dtype=object)"
      ]
     },
     "execution_count": 4148,
     "metadata": {},
     "output_type": "execute_result"
    }
   ],
   "source": [
    "df.garages.unique()"
   ]
  },
  {
   "cell_type": "markdown",
   "metadata": {},
   "source": [
    "#### Looks like we've got some crazy garage numbers and 'nan'.  I checked a few, they're obviously innacurate.  How many do we have?"
   ]
  },
  {
   "cell_type": "markdown",
   "metadata": {},
   "source": [
    "Let's fill the nan's before we cast to string."
   ]
  },
  {
   "cell_type": "code",
   "execution_count": 4149,
   "metadata": {},
   "outputs": [],
   "source": [
    "# Change 'nan' to 0.  Mostly to play nice with seaborn when we graph.\n",
    "df.garages.fillna(0, inplace=True)"
   ]
  },
  {
   "cell_type": "code",
   "execution_count": 4150,
   "metadata": {},
   "outputs": [],
   "source": [
    "df.garages = df.garages.astype(str)\n",
    "df.garages = df.garages.map(lambda x: x.replace('Garage(s)', ''))\n",
    "df.garages = df.garages.map(lambda x: x.rstrip().lstrip())"
   ]
  },
  {
   "cell_type": "code",
   "execution_count": 4151,
   "metadata": {},
   "outputs": [
    {
     "data": {
      "text/plain": [
       "2       7747\n",
       "0       1309\n",
       "1       1156\n",
       "3       496 \n",
       "4       34  \n",
       "5       4   \n",
       "6       4   \n",
       "60      3   \n",
       "8234    2   \n",
       "50      2   \n",
       "21      2   \n",
       "18      2   \n",
       "22      2   \n",
       "12      2   \n",
       "32      1   \n",
       "16      1   \n",
       "40      1   \n",
       "66      1   \n",
       "43      1   \n",
       "36      1   \n",
       "48      1   \n",
       "Name: garages, dtype: int64"
      ]
     },
     "execution_count": 4151,
     "metadata": {},
     "output_type": "execute_result"
    }
   ],
   "source": [
    "df.garages.value_counts()"
   ]
  },
  {
   "cell_type": "markdown",
   "metadata": {},
   "source": [
    "Not that many crazy garages out of 11,000 homes... let's drop any multi digit garages."
   ]
  },
  {
   "cell_type": "code",
   "execution_count": 4152,
   "metadata": {},
   "outputs": [],
   "source": [
    "# Important, must create a copy here.\n",
    "df2 = df[df.garages.map(lambda x: len(x)<=1)]"
   ]
  },
  {
   "cell_type": "code",
   "execution_count": 4153,
   "metadata": {},
   "outputs": [
    {
     "data": {
      "text/plain": [
       "2    7747\n",
       "0    1309\n",
       "1    1156\n",
       "3    496 \n",
       "4    34  \n",
       "5    4   \n",
       "6    4   \n",
       "Name: garages, dtype: int64"
      ]
     },
     "execution_count": 4153,
     "metadata": {},
     "output_type": "execute_result"
    }
   ],
   "source": [
    "# Swap back to original df variable so we don't get confused.\n",
    "df = df2\n",
    "df.garages.value_counts()"
   ]
  },
  {
   "cell_type": "code",
   "execution_count": 4154,
   "metadata": {},
   "outputs": [],
   "source": [
    "# Remove NaN's and Set Final Form\n",
    "df.dropna(inplace=True, subset=['garages'])\n",
    "df.garages.astype(int);"
   ]
  },
  {
   "cell_type": "code",
   "execution_count": 4155,
   "metadata": {},
   "outputs": [
    {
     "data": {
      "text/html": [
       "<div>\n",
       "<style scoped>\n",
       "    .dataframe tbody tr th:only-of-type {\n",
       "        vertical-align: middle;\n",
       "    }\n",
       "\n",
       "    .dataframe tbody tr th {\n",
       "        vertical-align: top;\n",
       "    }\n",
       "\n",
       "    .dataframe thead th {\n",
       "        text-align: right;\n",
       "    }\n",
       "</style>\n",
       "<table border=\"1\" class=\"dataframe\">\n",
       "  <thead>\n",
       "    <tr style=\"text-align: right;\">\n",
       "      <th></th>\n",
       "      <th>address</th>\n",
       "      <th>bedrooms</th>\n",
       "      <th>building_sqft</th>\n",
       "      <th>desc</th>\n",
       "      <th>garages</th>\n",
       "      <th>img_url</th>\n",
       "      <th>list_price</th>\n",
       "      <th>list_status</th>\n",
       "      <th>list_url</th>\n",
       "      <th>lot_sqft</th>\n",
       "      <th>mls_num</th>\n",
       "      <th>pool</th>\n",
       "      <th>real_comp_link</th>\n",
       "      <th>real_comp_name</th>\n",
       "      <th>real_link</th>\n",
       "      <th>real_name</th>\n",
       "      <th>stories</th>\n",
       "      <th>unknown_data</th>\n",
       "      <th>year_built</th>\n",
       "      <th>zipcode</th>\n",
       "      <th>full_baths</th>\n",
       "      <th>half_baths</th>\n",
       "      <th>garage_type</th>\n",
       "    </tr>\n",
       "  </thead>\n",
       "  <tbody>\n",
       "    <tr>\n",
       "      <th>0</th>\n",
       "      <td>11630 Ashcroft, Houston, TX 77035</td>\n",
       "      <td>4.0</td>\n",
       "      <td>2747.0</td>\n",
       "      <td>Single-Family Property, Traditional Style  in Westbury Subdivision  in Brays Oaks (Market Area)</td>\n",
       "      <td>2</td>\n",
       "      <td>background-image:url(https://photos.harstatic.com/172553809/lr/img-1.jpeg?ts=2019-04-17T10:23:50.137);</td>\n",
       "      <td>$ 475,000</td>\n",
       "      <td>For Sale</td>\n",
       "      <td>/11630-ashcroft/sale_69756841</td>\n",
       "      <td>8,344 Lot Sqft.</td>\n",
       "      <td>MLS# 69756841</td>\n",
       "      <td>No Private Pool</td>\n",
       "      <td>/compass-re-texas-llc/broker_CMTX01</td>\n",
       "      <td>Compass RE Texas, LLC</td>\n",
       "      <td>/stephanie-finch/agent_SFinch</td>\n",
       "      <td>Stephanie Finch</td>\n",
       "      <td>.2 Stories</td>\n",
       "      <td>NaN</td>\n",
       "      <td>Built in 1960</td>\n",
       "      <td>77035</td>\n",
       "      <td>2</td>\n",
       "      <td>1</td>\n",
       "      <td>Attached/Detached</td>\n",
       "    </tr>\n",
       "    <tr>\n",
       "      <th>1</th>\n",
       "      <td>18111 Ponte Vecchio, Houston, TX 77044</td>\n",
       "      <td>4.0</td>\n",
       "      <td>3500.0</td>\n",
       "      <td>Single-Family Property, Traditional Style  in Bridges On Lake Houston Subdivision  in Atascocita South (Market Area)</td>\n",
       "      <td>3</td>\n",
       "      <td>background-image:url(https://photos.harstatic.com/172364270/lr/img-1.jpeg?ts=2019-04-11T19:58:44.963);</td>\n",
       "      <td>$ 475,000</td>\n",
       "      <td>For Sale</td>\n",
       "      <td>/18111-ponte-vecchio/sale_45037765</td>\n",
       "      <td>NaN</td>\n",
       "      <td>MLS# 45037765</td>\n",
       "      <td>No Private Pool</td>\n",
       "      <td>/keller-williams-realty-the-woodlands/broker_KWWD01</td>\n",
       "      <td>Keller Williams Realty The Woodlands</td>\n",
       "      <td>/garland-bennett/agent_GBENNETT</td>\n",
       "      <td>Garland Bennett</td>\n",
       "      <td>.1 Stories</td>\n",
       "      <td>NaN</td>\n",
       "      <td>Built in 2018</td>\n",
       "      <td>77044</td>\n",
       "      <td>3</td>\n",
       "      <td>1</td>\n",
       "      <td>Attached,Tandem</td>\n",
       "    </tr>\n",
       "    <tr>\n",
       "      <th>2</th>\n",
       "      <td>5910 Caddo Terrace Lane, Houston, TX 77041</td>\n",
       "      <td>4.0</td>\n",
       "      <td>3346.0</td>\n",
       "      <td>Single-Family Property, Traditional Style  in Lakes On Eldridge North Sec Subdivision  in Eldridge North (Market Area)</td>\n",
       "      <td>2</td>\n",
       "      <td>background-image:url(https://photos.harstatic.com/172320148/lr/img-1.jpeg?ts=2019-04-09T23:55:57.253);</td>\n",
       "      <td>$ 475,000</td>\n",
       "      <td>For Sale</td>\n",
       "      <td>/5910-caddo-terrace-lane/sale_52704869</td>\n",
       "      <td>9,410 Lot Sqft.</td>\n",
       "      <td>MLS# 52704869</td>\n",
       "      <td>Has Private Pool</td>\n",
       "      <td>/keller-williams-realty-metropolitan/broker_KWHM01</td>\n",
       "      <td>Keller Williams Realty Metropolitan</td>\n",
       "      <td>/lorna-ramsay/agent_cornhill</td>\n",
       "      <td>Lorna Ramsay</td>\n",
       "      <td>.2 Stories</td>\n",
       "      <td>NaN</td>\n",
       "      <td>Built in 2003</td>\n",
       "      <td>77041</td>\n",
       "      <td>3</td>\n",
       "      <td>1</td>\n",
       "      <td>Attached</td>\n",
       "    </tr>\n",
       "    <tr>\n",
       "      <th>3</th>\n",
       "      <td>14722 Cindywood Drive, Houston, TX 77079</td>\n",
       "      <td>4.0</td>\n",
       "      <td>2308.0</td>\n",
       "      <td>Single-Family Property, Traditional Style  in Westchester Sec 02 Subdivision  in Memorial West (Market Area)</td>\n",
       "      <td>1</td>\n",
       "      <td>background-image:url(https://photos.harstatic.com/171900008/lr/img-1.jpeg?ts=2019-03-29T11:36:32.677);</td>\n",
       "      <td>$ 475,000</td>\n",
       "      <td>For Sale</td>\n",
       "      <td>/14722-cindywood-drive/sale_29834219</td>\n",
       "      <td>8,064 Lot Sqft.</td>\n",
       "      <td>MLS# 29834219</td>\n",
       "      <td>No Private Pool</td>\n",
       "      <td>/realty-associates-------------/broker_PBME01</td>\n",
       "      <td>Realty Associates</td>\n",
       "      <td>/richard-gannon/agent_RGANNON</td>\n",
       "      <td>Richard Gannon</td>\n",
       "      <td>.1 Stories</td>\n",
       "      <td>NaN</td>\n",
       "      <td>Built in 1969</td>\n",
       "      <td>77079</td>\n",
       "      <td>2</td>\n",
       "      <td>1</td>\n",
       "      <td>Detached</td>\n",
       "    </tr>\n",
       "    <tr>\n",
       "      <th>4</th>\n",
       "      <td>3424 Timbergrove Heights, Houston, TX 77008</td>\n",
       "      <td>3.0</td>\n",
       "      <td>2259.0</td>\n",
       "      <td>Single-Family Property, Contemporary/Modern,French,Traditional Style  in Timbergrove Heights Subdivision  in Timbergrove/Lazybrook (Market Area)</td>\n",
       "      <td>2</td>\n",
       "      <td>background-image:url(https://photos.harstatic.com/171615142/lr/img-1.jpeg?ts=2019-03-28T11:49:12.817);</td>\n",
       "      <td>$ 475,000</td>\n",
       "      <td>Under Contract - Pending</td>\n",
       "      <td>/3424-timbergrove-heights/sale_40531170</td>\n",
       "      <td>NaN</td>\n",
       "      <td>MLS# 40531170</td>\n",
       "      <td>No Private Pool</td>\n",
       "      <td>/intown-homes/broker_INTW01</td>\n",
       "      <td>Intown Homes</td>\n",
       "      <td>/emily-wang/agent_emwang</td>\n",
       "      <td>Emily Wang</td>\n",
       "      <td>.3 Stories</td>\n",
       "      <td>NaN</td>\n",
       "      <td>Built in 2019</td>\n",
       "      <td>77008</td>\n",
       "      <td>3</td>\n",
       "      <td>1</td>\n",
       "      <td>Attached</td>\n",
       "    </tr>\n",
       "  </tbody>\n",
       "</table>\n",
       "</div>"
      ],
      "text/plain": [
       "                                       address  bedrooms  building_sqft  \\\n",
       "0  11630 Ashcroft, Houston, TX 77035            4.0       2747.0          \n",
       "1  18111 Ponte Vecchio, Houston, TX 77044       4.0       3500.0          \n",
       "2  5910 Caddo Terrace Lane, Houston, TX 77041   4.0       3346.0          \n",
       "3  14722 Cindywood Drive, Houston, TX 77079     4.0       2308.0          \n",
       "4  3424 Timbergrove Heights, Houston, TX 77008  3.0       2259.0          \n",
       "\n",
       "                                                                                                                                                desc  \\\n",
       "0  Single-Family Property, Traditional Style  in Westbury Subdivision  in Brays Oaks (Market Area)                                                     \n",
       "1  Single-Family Property, Traditional Style  in Bridges On Lake Houston Subdivision  in Atascocita South (Market Area)                                \n",
       "2  Single-Family Property, Traditional Style  in Lakes On Eldridge North Sec Subdivision  in Eldridge North (Market Area)                              \n",
       "3  Single-Family Property, Traditional Style  in Westchester Sec 02 Subdivision  in Memorial West (Market Area)                                        \n",
       "4  Single-Family Property, Contemporary/Modern,French,Traditional Style  in Timbergrove Heights Subdivision  in Timbergrove/Lazybrook (Market Area)    \n",
       "\n",
       "  garages  \\\n",
       "0  2        \n",
       "1  3        \n",
       "2  2        \n",
       "3  1        \n",
       "4  2        \n",
       "\n",
       "                                                                                                  img_url  \\\n",
       "0  background-image:url(https://photos.harstatic.com/172553809/lr/img-1.jpeg?ts=2019-04-17T10:23:50.137);   \n",
       "1  background-image:url(https://photos.harstatic.com/172364270/lr/img-1.jpeg?ts=2019-04-11T19:58:44.963);   \n",
       "2  background-image:url(https://photos.harstatic.com/172320148/lr/img-1.jpeg?ts=2019-04-09T23:55:57.253);   \n",
       "3  background-image:url(https://photos.harstatic.com/171900008/lr/img-1.jpeg?ts=2019-03-29T11:36:32.677);   \n",
       "4  background-image:url(https://photos.harstatic.com/171615142/lr/img-1.jpeg?ts=2019-03-28T11:49:12.817);   \n",
       "\n",
       "      list_price               list_status  \\\n",
       "0   $ 475,000     For Sale                   \n",
       "1   $ 475,000     For Sale                   \n",
       "2   $ 475,000     For Sale                   \n",
       "3   $ 475,000     For Sale                   \n",
       "4   $ 475,000     Under Contract - Pending   \n",
       "\n",
       "                                  list_url         lot_sqft        mls_num  \\\n",
       "0  /11630-ashcroft/sale_69756841            8,344 Lot Sqft.  MLS# 69756841   \n",
       "1  /18111-ponte-vecchio/sale_45037765       NaN              MLS# 45037765   \n",
       "2  /5910-caddo-terrace-lane/sale_52704869   9,410 Lot Sqft.  MLS# 52704869   \n",
       "3  /14722-cindywood-drive/sale_29834219     8,064 Lot Sqft.  MLS# 29834219   \n",
       "4  /3424-timbergrove-heights/sale_40531170  NaN              MLS# 40531170   \n",
       "\n",
       "                pool                                       real_comp_link  \\\n",
       "0  No Private Pool    /compass-re-texas-llc/broker_CMTX01                   \n",
       "1  No Private Pool    /keller-williams-realty-the-woodlands/broker_KWWD01   \n",
       "2   Has Private Pool  /keller-williams-realty-metropolitan/broker_KWHM01    \n",
       "3  No Private Pool    /realty-associates-------------/broker_PBME01         \n",
       "4  No Private Pool    /intown-homes/broker_INTW01                           \n",
       "\n",
       "                         real_comp_name                        real_link  \\\n",
       "0  Compass RE Texas, LLC                 /stephanie-finch/agent_SFinch     \n",
       "1  Keller Williams Realty The Woodlands  /garland-bennett/agent_GBENNETT   \n",
       "2  Keller Williams Realty Metropolitan   /lorna-ramsay/agent_cornhill      \n",
       "3  Realty Associates                     /richard-gannon/agent_RGANNON     \n",
       "4  Intown Homes                          /emily-wang/agent_emwang          \n",
       "\n",
       "         real_name     stories unknown_data     year_built zipcode  \\\n",
       "0  Stephanie Finch  .2 Stories  NaN          Built in 1960  77035    \n",
       "1  Garland Bennett  .1 Stories  NaN          Built in 2018  77044    \n",
       "2  Lorna Ramsay     .2 Stories  NaN          Built in 2003  77041    \n",
       "3  Richard Gannon   .1 Stories  NaN          Built in 1969  77079    \n",
       "4  Emily Wang       .3 Stories  NaN          Built in 2019  77008    \n",
       "\n",
       "   full_baths  half_baths         garage_type  \n",
       "0  2           1            Attached/Detached  \n",
       "1  3           1            Attached,Tandem    \n",
       "2  3           1            Attached           \n",
       "3  2           1            Detached           \n",
       "4  3           1            Attached           "
      ]
     },
     "execution_count": 4155,
     "metadata": {},
     "output_type": "execute_result"
    }
   ],
   "source": [
    "# Sanity Check\n",
    "df.head()"
   ]
  },
  {
   "cell_type": "markdown",
   "metadata": {},
   "source": [
    "#### The garage multi-label data might require some cleanup down the road..."
   ]
  },
  {
   "cell_type": "code",
   "execution_count": 4156,
   "metadata": {},
   "outputs": [
    {
     "data": {
      "text/plain": [
       "array([' Attached/Detached', ' Attached,Tandem', ' Attached', ' Detached',\n",
       "       ' Attached,Oversized', nan, ' Attached,Detached',\n",
       "       ' Attached,Oversized,Tandem', ' Attached/Detached,Oversized',\n",
       "       ' Detached,Oversized', ' Attached,Attached/Detached', ' Oversized',\n",
       "       ' Tandem', ' Attached/Detached,Detached,Oversized',\n",
       "       ' Attached,Detached,Oversized', ' Attached/Detached,Detached',\n",
       "       ' Attached/Detached,Tandem', ' Detached,Tandem',\n",
       "       ' Attached,Attached/Detached,Oversized',\n",
       "       ' Detached,Oversized,Tandem',\n",
       "       ' Attached,Attached/Detached,Detached'], dtype=object)"
      ]
     },
     "execution_count": 4156,
     "metadata": {},
     "output_type": "execute_result"
    }
   ],
   "source": [
    "df2.garage_type.unique()"
   ]
  },
  {
   "cell_type": "markdown",
   "metadata": {},
   "source": [
    "# IMG URL Column"
   ]
  },
  {
   "cell_type": "code",
   "execution_count": 4157,
   "metadata": {},
   "outputs": [
    {
     "data": {
      "text/plain": [
       "'background-image:url(https://photos.harstatic.com/172553809/lr/img-1.jpeg?ts=2019-04-17T10:23:50.137);'"
      ]
     },
     "execution_count": 4157,
     "metadata": {},
     "output_type": "execute_result"
    }
   ],
   "source": [
    "df.img_url[0]"
   ]
  },
  {
   "cell_type": "code",
   "execution_count": 4158,
   "metadata": {},
   "outputs": [],
   "source": [
    "def cleanURL(img_url):\n",
    "    if '?' in img_url:\n",
    "        img_url = img_url.replace(img_url[img_url.index('?'):],'')\n",
    "    return img_url"
   ]
  },
  {
   "cell_type": "code",
   "execution_count": 4159,
   "metadata": {},
   "outputs": [],
   "source": [
    "df.img_url = df.img_url.astype(str)\n",
    "df.img_url = df.img_url.map(lambda x: x.lstrip('background-image:url('))\n",
    "df.img_url = df.img_url.apply(cleanURL)"
   ]
  },
  {
   "cell_type": "code",
   "execution_count": 4160,
   "metadata": {},
   "outputs": [],
   "source": [
    "# Turn off truncating of URLs\n",
    "pd.set_option('display.max_colwidth', -1)"
   ]
  },
  {
   "cell_type": "code",
   "execution_count": 4161,
   "metadata": {},
   "outputs": [
    {
     "data": {
      "text/plain": [
       "0    https://photos.harstatic.com/172553809/lr/img-1.jpeg\n",
       "1    https://photos.harstatic.com/172364270/lr/img-1.jpeg\n",
       "2    https://photos.harstatic.com/172320148/lr/img-1.jpeg\n",
       "3    https://photos.harstatic.com/171900008/lr/img-1.jpeg\n",
       "4    https://photos.harstatic.com/171615142/lr/img-1.jpeg\n",
       "Name: img_url, dtype: object"
      ]
     },
     "execution_count": 4161,
     "metadata": {},
     "output_type": "execute_result"
    }
   ],
   "source": [
    "df.img_url[0:5]"
   ]
  },
  {
   "cell_type": "markdown",
   "metadata": {},
   "source": [
    "# List Price Column"
   ]
  },
  {
   "cell_type": "code",
   "execution_count": 4162,
   "metadata": {},
   "outputs": [
    {
     "data": {
      "text/plain": [
       "0     $ 475,000   \n",
       "1     $ 475,000   \n",
       "2     $ 475,000   \n",
       "3     $ 475,000   \n",
       "4     $ 475,000   \n",
       "Name: list_price, dtype: object"
      ]
     },
     "execution_count": 4162,
     "metadata": {},
     "output_type": "execute_result"
    }
   ],
   "source": [
    "df.list_price[0:5]"
   ]
  },
  {
   "cell_type": "code",
   "execution_count": 4163,
   "metadata": {},
   "outputs": [],
   "source": [
    "df.list_price = df.list_price.map(lambda x: x.replace('$','').replace(',',''))\n",
    "df.list_price = df.list_price.astype(int)"
   ]
  },
  {
   "cell_type": "code",
   "execution_count": 4164,
   "metadata": {},
   "outputs": [
    {
     "data": {
      "text/plain": [
       "0    475000\n",
       "1    475000\n",
       "2    475000\n",
       "3    475000\n",
       "4    475000\n",
       "Name: list_price, dtype: int64"
      ]
     },
     "execution_count": 4164,
     "metadata": {},
     "output_type": "execute_result"
    }
   ],
   "source": [
    "df.list_price[0:5]"
   ]
  },
  {
   "cell_type": "code",
   "execution_count": 4165,
   "metadata": {},
   "outputs": [],
   "source": [
    "# Remove NaN's and Set Final Form\n",
    "df.dropna(inplace=True, subset=['list_price'])\n",
    "df.list_price.astype(int);"
   ]
  },
  {
   "cell_type": "markdown",
   "metadata": {},
   "source": [
    "# List Status Column"
   ]
  },
  {
   "cell_type": "code",
   "execution_count": 4166,
   "metadata": {},
   "outputs": [
    {
     "data": {
      "text/plain": [
       "array(['For Sale', 'Under Contract - Pending',\n",
       "       'Under Contract - Option Pending',\n",
       "       'Under Contract - Pending Continue to Show'], dtype=object)"
      ]
     },
     "execution_count": 4166,
     "metadata": {},
     "output_type": "execute_result"
    }
   ],
   "source": [
    "df.list_status.unique()"
   ]
  },
  {
   "cell_type": "markdown",
   "metadata": {},
   "source": [
    "# List URL Column"
   ]
  },
  {
   "cell_type": "code",
   "execution_count": 4167,
   "metadata": {},
   "outputs": [
    {
     "data": {
      "text/plain": [
       "0    /11630-ashcroft/sale_69756841          \n",
       "1    /18111-ponte-vecchio/sale_45037765     \n",
       "2    /5910-caddo-terrace-lane/sale_52704869 \n",
       "3    /14722-cindywood-drive/sale_29834219   \n",
       "4    /3424-timbergrove-heights/sale_40531170\n",
       "Name: list_url, dtype: object"
      ]
     },
     "execution_count": 4167,
     "metadata": {},
     "output_type": "execute_result"
    }
   ],
   "source": [
    "df.list_url[0:5]"
   ]
  },
  {
   "cell_type": "code",
   "execution_count": 4168,
   "metadata": {},
   "outputs": [],
   "source": [
    "df.list_url = df.list_url.map(lambda x: 'http://www.har.com'+x)"
   ]
  },
  {
   "cell_type": "code",
   "execution_count": 4169,
   "metadata": {},
   "outputs": [
    {
     "data": {
      "text/plain": [
       "0    http://www.har.com/11630-ashcroft/sale_69756841          \n",
       "1    http://www.har.com/18111-ponte-vecchio/sale_45037765     \n",
       "2    http://www.har.com/5910-caddo-terrace-lane/sale_52704869 \n",
       "3    http://www.har.com/14722-cindywood-drive/sale_29834219   \n",
       "4    http://www.har.com/3424-timbergrove-heights/sale_40531170\n",
       "Name: list_url, dtype: object"
      ]
     },
     "execution_count": 4169,
     "metadata": {},
     "output_type": "execute_result"
    }
   ],
   "source": [
    "df.list_url[0:5]"
   ]
  },
  {
   "cell_type": "markdown",
   "metadata": {},
   "source": [
    "# Lot Sqft Column"
   ]
  },
  {
   "cell_type": "code",
   "execution_count": 4170,
   "metadata": {},
   "outputs": [
    {
     "data": {
      "text/plain": [
       "0    8,344 Lot Sqft.\n",
       "1    NaN            \n",
       "2    9,410 Lot Sqft.\n",
       "3    8,064 Lot Sqft.\n",
       "4    NaN            \n",
       "Name: lot_sqft, dtype: object"
      ]
     },
     "execution_count": 4170,
     "metadata": {},
     "output_type": "execute_result"
    }
   ],
   "source": [
    "df.lot_sqft[0:5]"
   ]
  },
  {
   "cell_type": "code",
   "execution_count": 4171,
   "metadata": {},
   "outputs": [],
   "source": [
    "df.lot_sqft = df.lot_sqft.astype(str)\n",
    "df.lot_sqft = df.lot_sqft.map(lambda x: x.replace('Lot Sqft.', ''))\n",
    "df.lot_sqft = df.lot_sqft.map(lambda x: x.replace(',', ''))\n",
    "df.lot_sqft = df.lot_sqft.astype(float)"
   ]
  },
  {
   "cell_type": "code",
   "execution_count": 4172,
   "metadata": {},
   "outputs": [
    {
     "data": {
      "text/plain": [
       "0    8344.0\n",
       "1   NaN    \n",
       "2    9410.0\n",
       "3    8064.0\n",
       "4   NaN    \n",
       "Name: lot_sqft, dtype: float64"
      ]
     },
     "execution_count": 4172,
     "metadata": {},
     "output_type": "execute_result"
    }
   ],
   "source": [
    "df.lot_sqft[0:5]"
   ]
  },
  {
   "cell_type": "code",
   "execution_count": 4173,
   "metadata": {},
   "outputs": [
    {
     "data": {
      "text/plain": [
       "568"
      ]
     },
     "execution_count": 4173,
     "metadata": {},
     "output_type": "execute_result"
    }
   ],
   "source": [
    "# Must be float to pick up NaN.  How many homes don't have sqft listed?\n",
    "df.lot_sqft = df.lot_sqft.astype(float)\n",
    "df.lot_sqft.isna().sum()"
   ]
  },
  {
   "cell_type": "markdown",
   "metadata": {},
   "source": [
    "There are quite a few homes that don't list lot sqft.  We'll have to decide what to do with this later..."
   ]
  },
  {
   "cell_type": "markdown",
   "metadata": {},
   "source": [
    "# MLS Number Column"
   ]
  },
  {
   "cell_type": "code",
   "execution_count": 4174,
   "metadata": {},
   "outputs": [
    {
     "data": {
      "text/plain": [
       "0    MLS# 69756841\n",
       "1    MLS# 45037765\n",
       "2    MLS# 52704869\n",
       "3    MLS# 29834219\n",
       "4    MLS# 40531170\n",
       "Name: mls_num, dtype: object"
      ]
     },
     "execution_count": 4174,
     "metadata": {},
     "output_type": "execute_result"
    }
   ],
   "source": [
    "df.mls_num[0:5]"
   ]
  },
  {
   "cell_type": "code",
   "execution_count": 4175,
   "metadata": {},
   "outputs": [],
   "source": [
    "df.mls_num = df.mls_num.map(lambda x: x.replace('MLS# ', ''))"
   ]
  },
  {
   "cell_type": "code",
   "execution_count": 4176,
   "metadata": {},
   "outputs": [
    {
     "data": {
      "text/plain": [
       "0    69756841\n",
       "1    45037765\n",
       "2    52704869\n",
       "3    29834219\n",
       "4    40531170\n",
       "Name: mls_num, dtype: object"
      ]
     },
     "execution_count": 4176,
     "metadata": {},
     "output_type": "execute_result"
    }
   ],
   "source": [
    "df.mls_num[0:5]"
   ]
  },
  {
   "cell_type": "markdown",
   "metadata": {},
   "source": [
    "# Pool Column"
   ]
  },
  {
   "cell_type": "code",
   "execution_count": 4177,
   "metadata": {},
   "outputs": [
    {
     "data": {
      "text/plain": [
       "array(['No Private Pool ', ' Has Private Pool'], dtype=object)"
      ]
     },
     "execution_count": 4177,
     "metadata": {},
     "output_type": "execute_result"
    }
   ],
   "source": [
    "df.pool.unique()"
   ]
  },
  {
   "cell_type": "code",
   "execution_count": 4178,
   "metadata": {},
   "outputs": [],
   "source": [
    "# Remove leading white space from ' Has Private Pool' category\n",
    "df.pool = df.pool.str.lstrip()"
   ]
  },
  {
   "cell_type": "code",
   "execution_count": 4179,
   "metadata": {},
   "outputs": [
    {
     "data": {
      "text/plain": [
       "0    No Private Pool \n",
       "1    No Private Pool \n",
       "2    Has Private Pool\n",
       "3    No Private Pool \n",
       "4    No Private Pool \n",
       "Name: pool, dtype: object"
      ]
     },
     "execution_count": 4179,
     "metadata": {},
     "output_type": "execute_result"
    }
   ],
   "source": [
    "df.pool[0:5]"
   ]
  },
  {
   "cell_type": "markdown",
   "metadata": {},
   "source": [
    "# Realtor Company Link Column"
   ]
  },
  {
   "cell_type": "code",
   "execution_count": 4180,
   "metadata": {},
   "outputs": [
    {
     "data": {
      "text/plain": [
       "0    /compass-re-texas-llc/broker_CMTX01                \n",
       "1    /keller-williams-realty-the-woodlands/broker_KWWD01\n",
       "2    /keller-williams-realty-metropolitan/broker_KWHM01 \n",
       "3    /realty-associates-------------/broker_PBME01      \n",
       "4    /intown-homes/broker_INTW01                        \n",
       "Name: real_comp_link, dtype: object"
      ]
     },
     "execution_count": 4180,
     "metadata": {},
     "output_type": "execute_result"
    }
   ],
   "source": [
    "df.real_comp_link[0:5]"
   ]
  },
  {
   "cell_type": "code",
   "execution_count": 4181,
   "metadata": {},
   "outputs": [],
   "source": [
    "df.real_comp_link = df.real_comp_link.map(lambda x: 'http://www.har.com'+x)"
   ]
  },
  {
   "cell_type": "code",
   "execution_count": 4182,
   "metadata": {},
   "outputs": [
    {
     "data": {
      "text/plain": [
       "0    http://www.har.com/compass-re-texas-llc/broker_CMTX01                \n",
       "1    http://www.har.com/keller-williams-realty-the-woodlands/broker_KWWD01\n",
       "2    http://www.har.com/keller-williams-realty-metropolitan/broker_KWHM01 \n",
       "3    http://www.har.com/realty-associates-------------/broker_PBME01      \n",
       "4    http://www.har.com/intown-homes/broker_INTW01                        \n",
       "Name: real_comp_link, dtype: object"
      ]
     },
     "execution_count": 4182,
     "metadata": {},
     "output_type": "execute_result"
    }
   ],
   "source": [
    "df.real_comp_link[0:5]"
   ]
  },
  {
   "cell_type": "markdown",
   "metadata": {},
   "source": [
    "# Realtor Company Name Column"
   ]
  },
  {
   "cell_type": "code",
   "execution_count": 4183,
   "metadata": {},
   "outputs": [
    {
     "data": {
      "text/plain": [
       "0    Compass RE Texas, LLC               \n",
       "1    Keller Williams Realty The Woodlands\n",
       "2    Keller Williams Realty Metropolitan \n",
       "3    Realty Associates                   \n",
       "4    Intown Homes                        \n",
       "Name: real_comp_name, dtype: object"
      ]
     },
     "execution_count": 4183,
     "metadata": {},
     "output_type": "execute_result"
    }
   ],
   "source": [
    "df.real_comp_name[0:5]"
   ]
  },
  {
   "cell_type": "markdown",
   "metadata": {},
   "source": [
    "# Realtor Link"
   ]
  },
  {
   "cell_type": "code",
   "execution_count": 4184,
   "metadata": {},
   "outputs": [
    {
     "data": {
      "text/plain": [
       "0    /stephanie-finch/agent_SFinch  \n",
       "1    /garland-bennett/agent_GBENNETT\n",
       "2    /lorna-ramsay/agent_cornhill   \n",
       "3    /richard-gannon/agent_RGANNON  \n",
       "4    /emily-wang/agent_emwang       \n",
       "Name: real_link, dtype: object"
      ]
     },
     "execution_count": 4184,
     "metadata": {},
     "output_type": "execute_result"
    }
   ],
   "source": [
    "df.real_link[0:5]"
   ]
  },
  {
   "cell_type": "code",
   "execution_count": 4185,
   "metadata": {},
   "outputs": [],
   "source": [
    "df.real_link = df.real_link.map(lambda x: 'http://www.har.com'+x)"
   ]
  },
  {
   "cell_type": "code",
   "execution_count": 4186,
   "metadata": {},
   "outputs": [
    {
     "data": {
      "text/plain": [
       "0    http://www.har.com/stephanie-finch/agent_SFinch  \n",
       "1    http://www.har.com/garland-bennett/agent_GBENNETT\n",
       "2    http://www.har.com/lorna-ramsay/agent_cornhill   \n",
       "3    http://www.har.com/richard-gannon/agent_RGANNON  \n",
       "4    http://www.har.com/emily-wang/agent_emwang       \n",
       "Name: real_link, dtype: object"
      ]
     },
     "execution_count": 4186,
     "metadata": {},
     "output_type": "execute_result"
    }
   ],
   "source": [
    "df.real_link[0:5]"
   ]
  },
  {
   "cell_type": "markdown",
   "metadata": {},
   "source": [
    "# Realtor Name"
   ]
  },
  {
   "cell_type": "code",
   "execution_count": 4187,
   "metadata": {},
   "outputs": [
    {
     "data": {
      "text/plain": [
       "0    Stephanie Finch\n",
       "1    Garland Bennett\n",
       "2    Lorna Ramsay   \n",
       "3    Richard Gannon \n",
       "4    Emily Wang     \n",
       "Name: real_name, dtype: object"
      ]
     },
     "execution_count": 4187,
     "metadata": {},
     "output_type": "execute_result"
    }
   ],
   "source": [
    "df.real_name[0:5]"
   ]
  },
  {
   "cell_type": "markdown",
   "metadata": {},
   "source": [
    "# Stories Column"
   ]
  },
  {
   "cell_type": "code",
   "execution_count": 4188,
   "metadata": {},
   "outputs": [
    {
     "data": {
      "text/plain": [
       "array(['.2 Stories', '.1 Stories', '.3 Stories', '.4 Stories',\n",
       "       '.1.5 Stories', '.2.5 Stories'], dtype=object)"
      ]
     },
     "execution_count": 4188,
     "metadata": {},
     "output_type": "execute_result"
    }
   ],
   "source": [
    "df.stories.unique()"
   ]
  },
  {
   "cell_type": "code",
   "execution_count": 4189,
   "metadata": {},
   "outputs": [],
   "source": [
    "# Cast column to string to we can use strip operations\n",
    "df.stories = df.stories.astype(str)\n",
    "df.stories = df.stories.map(lambda x: x.lstrip('.').rstrip('Stories'))\n",
    "# Cast column back to float\n",
    "df.stories = df.stories.astype(float)"
   ]
  },
  {
   "cell_type": "code",
   "execution_count": 4190,
   "metadata": {},
   "outputs": [
    {
     "data": {
      "text/plain": [
       "0    2.0\n",
       "1    1.0\n",
       "2    2.0\n",
       "3    1.0\n",
       "4    3.0\n",
       "Name: stories, dtype: float64"
      ]
     },
     "execution_count": 4190,
     "metadata": {},
     "output_type": "execute_result"
    }
   ],
   "source": [
    "df.stories[:5]"
   ]
  },
  {
   "cell_type": "code",
   "execution_count": 4191,
   "metadata": {},
   "outputs": [
    {
     "data": {
      "text/plain": [
       "array([2. , 1. , 3. , 4. , 1.5, 2.5])"
      ]
     },
     "execution_count": 4191,
     "metadata": {},
     "output_type": "execute_result"
    }
   ],
   "source": [
    "df.stories.unique()"
   ]
  },
  {
   "cell_type": "markdown",
   "metadata": {},
   "source": [
    "# Unknown Column\n",
    "\n",
    "Might decide to return and use acres..."
   ]
  },
  {
   "cell_type": "code",
   "execution_count": 4192,
   "metadata": {},
   "outputs": [
    {
     "data": {
      "text/plain": [
       "array([nan, '1.92 Acre(s)', '0.43 Acre(s)', '2.71 Acre(s)',\n",
       "       '1.64 Acre(s)', '0.55 Acre(s)', '0.96 Acre(s)', '0.61 Acre(s)',\n",
       "       '2 Acre(s)', '1.01 Acre(s)', '1.06 Acre(s)', '4.81 Acre(s)',\n",
       "       '0.69 Acre(s)', '1.37 Acre(s)', '0.18 Acre(s)', '2.13 Acre(s)',\n",
       "       '0.16 Acre(s)', '0.56 Acre(s)', '0.07 Acre(s)', '0.13 Acre(s)',\n",
       "       '0.30 Acre(s)', '1.30 Acre(s)', '1 Acre(s)', '1.26 Acre(s)',\n",
       "       '1.10 Acre(s)', '2.83 Acre(s)', '1.02 Acre(s)', '1.60 Acre(s)',\n",
       "       '1.66 Acre(s)', '2.24 Acre(s)', '1.22 Acre(s)', '1.42 Acre(s)',\n",
       "       '1.88 Acre(s)', '5 Acre(s)', '2.47 Acre(s)', '1.08 Acre(s)',\n",
       "       '2.98 Acre(s)', '1.21 Acre(s)', '1.09 Acre(s)', '0.04 Acre(s)',\n",
       "       '0.11 Acre(s)', '1.04 Acre(s)'], dtype=object)"
      ]
     },
     "execution_count": 4192,
     "metadata": {},
     "output_type": "execute_result"
    }
   ],
   "source": [
    "df.unknown_data.unique()"
   ]
  },
  {
   "cell_type": "markdown",
   "metadata": {},
   "source": [
    "# Year Built Column"
   ]
  },
  {
   "cell_type": "code",
   "execution_count": 4193,
   "metadata": {},
   "outputs": [
    {
     "data": {
      "text/plain": [
       "0    Built in 1960\n",
       "1    Built in 2018\n",
       "2    Built in 2003\n",
       "3    Built in 1969\n",
       "4    Built in 2019\n",
       "Name: year_built, dtype: object"
      ]
     },
     "execution_count": 4193,
     "metadata": {},
     "output_type": "execute_result"
    }
   ],
   "source": [
    "df.year_built[0:5]"
   ]
  },
  {
   "cell_type": "code",
   "execution_count": 4194,
   "metadata": {},
   "outputs": [],
   "source": [
    "df.year_built = df.year_built.astype(str)\n",
    "df.year_built = df.year_built.map(lambda x: x.replace('Built in ', ''))"
   ]
  },
  {
   "cell_type": "code",
   "execution_count": 4195,
   "metadata": {},
   "outputs": [
    {
     "data": {
      "text/plain": [
       "0    1960\n",
       "1    2018\n",
       "2    2003\n",
       "3    1969\n",
       "4    2019\n",
       "Name: year_built, dtype: object"
      ]
     },
     "execution_count": 4195,
     "metadata": {},
     "output_type": "execute_result"
    }
   ],
   "source": [
    "df.year_built[0:5]"
   ]
  },
  {
   "cell_type": "code",
   "execution_count": 4196,
   "metadata": {},
   "outputs": [
    {
     "data": {
      "text/plain": [
       "77"
      ]
     },
     "execution_count": 4196,
     "metadata": {},
     "output_type": "execute_result"
    }
   ],
   "source": [
    "# Must be float to pick up NaN.  How many homes don't have sqft listed?\n",
    "df.year_built = df.year_built.astype(float)\n",
    "df.year_built.isna().sum()"
   ]
  },
  {
   "cell_type": "markdown",
   "metadata": {},
   "source": [
    "Not too many homes that don't have year built data.  Let's get rid of these..."
   ]
  },
  {
   "cell_type": "code",
   "execution_count": 4197,
   "metadata": {},
   "outputs": [],
   "source": [
    "# Remove NaN's and Set Final Form\n",
    "df.dropna(inplace=True, subset=['year_built'])\n",
    "df.year_built.astype(int);"
   ]
  },
  {
   "cell_type": "markdown",
   "metadata": {},
   "source": [
    "# Sanity Check!"
   ]
  },
  {
   "cell_type": "code",
   "execution_count": 4198,
   "metadata": {},
   "outputs": [
    {
     "name": "stdout",
     "output_type": "stream",
     "text": [
      "(10673, 23)\n"
     ]
    },
    {
     "data": {
      "text/html": [
       "<div>\n",
       "<style scoped>\n",
       "    .dataframe tbody tr th:only-of-type {\n",
       "        vertical-align: middle;\n",
       "    }\n",
       "\n",
       "    .dataframe tbody tr th {\n",
       "        vertical-align: top;\n",
       "    }\n",
       "\n",
       "    .dataframe thead th {\n",
       "        text-align: right;\n",
       "    }\n",
       "</style>\n",
       "<table border=\"1\" class=\"dataframe\">\n",
       "  <thead>\n",
       "    <tr style=\"text-align: right;\">\n",
       "      <th></th>\n",
       "      <th>address</th>\n",
       "      <th>bedrooms</th>\n",
       "      <th>building_sqft</th>\n",
       "      <th>desc</th>\n",
       "      <th>garages</th>\n",
       "      <th>img_url</th>\n",
       "      <th>list_price</th>\n",
       "      <th>list_status</th>\n",
       "      <th>list_url</th>\n",
       "      <th>lot_sqft</th>\n",
       "      <th>mls_num</th>\n",
       "      <th>pool</th>\n",
       "      <th>real_comp_link</th>\n",
       "      <th>real_comp_name</th>\n",
       "      <th>real_link</th>\n",
       "      <th>real_name</th>\n",
       "      <th>stories</th>\n",
       "      <th>unknown_data</th>\n",
       "      <th>year_built</th>\n",
       "      <th>zipcode</th>\n",
       "      <th>full_baths</th>\n",
       "      <th>half_baths</th>\n",
       "      <th>garage_type</th>\n",
       "    </tr>\n",
       "  </thead>\n",
       "  <tbody>\n",
       "    <tr>\n",
       "      <th>0</th>\n",
       "      <td>11630 Ashcroft, Houston, TX 77035</td>\n",
       "      <td>4.0</td>\n",
       "      <td>2747.0</td>\n",
       "      <td>Single-Family Property, Traditional Style  in Westbury Subdivision  in Brays Oaks (Market Area)</td>\n",
       "      <td>2</td>\n",
       "      <td>https://photos.harstatic.com/172553809/lr/img-1.jpeg</td>\n",
       "      <td>475000</td>\n",
       "      <td>For Sale</td>\n",
       "      <td>http://www.har.com/11630-ashcroft/sale_69756841</td>\n",
       "      <td>8344.0</td>\n",
       "      <td>69756841</td>\n",
       "      <td>No Private Pool</td>\n",
       "      <td>http://www.har.com/compass-re-texas-llc/broker_CMTX01</td>\n",
       "      <td>Compass RE Texas, LLC</td>\n",
       "      <td>http://www.har.com/stephanie-finch/agent_SFinch</td>\n",
       "      <td>Stephanie Finch</td>\n",
       "      <td>2.0</td>\n",
       "      <td>NaN</td>\n",
       "      <td>1960.0</td>\n",
       "      <td>77035</td>\n",
       "      <td>2</td>\n",
       "      <td>1</td>\n",
       "      <td>Attached/Detached</td>\n",
       "    </tr>\n",
       "    <tr>\n",
       "      <th>1</th>\n",
       "      <td>18111 Ponte Vecchio, Houston, TX 77044</td>\n",
       "      <td>4.0</td>\n",
       "      <td>3500.0</td>\n",
       "      <td>Single-Family Property, Traditional Style  in Bridges On Lake Houston Subdivision  in Atascocita South (Market Area)</td>\n",
       "      <td>3</td>\n",
       "      <td>https://photos.harstatic.com/172364270/lr/img-1.jpeg</td>\n",
       "      <td>475000</td>\n",
       "      <td>For Sale</td>\n",
       "      <td>http://www.har.com/18111-ponte-vecchio/sale_45037765</td>\n",
       "      <td>NaN</td>\n",
       "      <td>45037765</td>\n",
       "      <td>No Private Pool</td>\n",
       "      <td>http://www.har.com/keller-williams-realty-the-woodlands/broker_KWWD01</td>\n",
       "      <td>Keller Williams Realty The Woodlands</td>\n",
       "      <td>http://www.har.com/garland-bennett/agent_GBENNETT</td>\n",
       "      <td>Garland Bennett</td>\n",
       "      <td>1.0</td>\n",
       "      <td>NaN</td>\n",
       "      <td>2018.0</td>\n",
       "      <td>77044</td>\n",
       "      <td>3</td>\n",
       "      <td>1</td>\n",
       "      <td>Attached,Tandem</td>\n",
       "    </tr>\n",
       "    <tr>\n",
       "      <th>2</th>\n",
       "      <td>5910 Caddo Terrace Lane, Houston, TX 77041</td>\n",
       "      <td>4.0</td>\n",
       "      <td>3346.0</td>\n",
       "      <td>Single-Family Property, Traditional Style  in Lakes On Eldridge North Sec Subdivision  in Eldridge North (Market Area)</td>\n",
       "      <td>2</td>\n",
       "      <td>https://photos.harstatic.com/172320148/lr/img-1.jpeg</td>\n",
       "      <td>475000</td>\n",
       "      <td>For Sale</td>\n",
       "      <td>http://www.har.com/5910-caddo-terrace-lane/sale_52704869</td>\n",
       "      <td>9410.0</td>\n",
       "      <td>52704869</td>\n",
       "      <td>Has Private Pool</td>\n",
       "      <td>http://www.har.com/keller-williams-realty-metropolitan/broker_KWHM01</td>\n",
       "      <td>Keller Williams Realty Metropolitan</td>\n",
       "      <td>http://www.har.com/lorna-ramsay/agent_cornhill</td>\n",
       "      <td>Lorna Ramsay</td>\n",
       "      <td>2.0</td>\n",
       "      <td>NaN</td>\n",
       "      <td>2003.0</td>\n",
       "      <td>77041</td>\n",
       "      <td>3</td>\n",
       "      <td>1</td>\n",
       "      <td>Attached</td>\n",
       "    </tr>\n",
       "    <tr>\n",
       "      <th>3</th>\n",
       "      <td>14722 Cindywood Drive, Houston, TX 77079</td>\n",
       "      <td>4.0</td>\n",
       "      <td>2308.0</td>\n",
       "      <td>Single-Family Property, Traditional Style  in Westchester Sec 02 Subdivision  in Memorial West (Market Area)</td>\n",
       "      <td>1</td>\n",
       "      <td>https://photos.harstatic.com/171900008/lr/img-1.jpeg</td>\n",
       "      <td>475000</td>\n",
       "      <td>For Sale</td>\n",
       "      <td>http://www.har.com/14722-cindywood-drive/sale_29834219</td>\n",
       "      <td>8064.0</td>\n",
       "      <td>29834219</td>\n",
       "      <td>No Private Pool</td>\n",
       "      <td>http://www.har.com/realty-associates-------------/broker_PBME01</td>\n",
       "      <td>Realty Associates</td>\n",
       "      <td>http://www.har.com/richard-gannon/agent_RGANNON</td>\n",
       "      <td>Richard Gannon</td>\n",
       "      <td>1.0</td>\n",
       "      <td>NaN</td>\n",
       "      <td>1969.0</td>\n",
       "      <td>77079</td>\n",
       "      <td>2</td>\n",
       "      <td>1</td>\n",
       "      <td>Detached</td>\n",
       "    </tr>\n",
       "    <tr>\n",
       "      <th>4</th>\n",
       "      <td>3424 Timbergrove Heights, Houston, TX 77008</td>\n",
       "      <td>3.0</td>\n",
       "      <td>2259.0</td>\n",
       "      <td>Single-Family Property, Contemporary/Modern,French,Traditional Style  in Timbergrove Heights Subdivision  in Timbergrove/Lazybrook (Market Area)</td>\n",
       "      <td>2</td>\n",
       "      <td>https://photos.harstatic.com/171615142/lr/img-1.jpeg</td>\n",
       "      <td>475000</td>\n",
       "      <td>Under Contract - Pending</td>\n",
       "      <td>http://www.har.com/3424-timbergrove-heights/sale_40531170</td>\n",
       "      <td>NaN</td>\n",
       "      <td>40531170</td>\n",
       "      <td>No Private Pool</td>\n",
       "      <td>http://www.har.com/intown-homes/broker_INTW01</td>\n",
       "      <td>Intown Homes</td>\n",
       "      <td>http://www.har.com/emily-wang/agent_emwang</td>\n",
       "      <td>Emily Wang</td>\n",
       "      <td>3.0</td>\n",
       "      <td>NaN</td>\n",
       "      <td>2019.0</td>\n",
       "      <td>77008</td>\n",
       "      <td>3</td>\n",
       "      <td>1</td>\n",
       "      <td>Attached</td>\n",
       "    </tr>\n",
       "  </tbody>\n",
       "</table>\n",
       "</div>"
      ],
      "text/plain": [
       "                                       address  bedrooms  building_sqft  \\\n",
       "0  11630 Ashcroft, Houston, TX 77035            4.0       2747.0          \n",
       "1  18111 Ponte Vecchio, Houston, TX 77044       4.0       3500.0          \n",
       "2  5910 Caddo Terrace Lane, Houston, TX 77041   4.0       3346.0          \n",
       "3  14722 Cindywood Drive, Houston, TX 77079     4.0       2308.0          \n",
       "4  3424 Timbergrove Heights, Houston, TX 77008  3.0       2259.0          \n",
       "\n",
       "                                                                                                                                                desc  \\\n",
       "0  Single-Family Property, Traditional Style  in Westbury Subdivision  in Brays Oaks (Market Area)                                                     \n",
       "1  Single-Family Property, Traditional Style  in Bridges On Lake Houston Subdivision  in Atascocita South (Market Area)                                \n",
       "2  Single-Family Property, Traditional Style  in Lakes On Eldridge North Sec Subdivision  in Eldridge North (Market Area)                              \n",
       "3  Single-Family Property, Traditional Style  in Westchester Sec 02 Subdivision  in Memorial West (Market Area)                                        \n",
       "4  Single-Family Property, Contemporary/Modern,French,Traditional Style  in Timbergrove Heights Subdivision  in Timbergrove/Lazybrook (Market Area)    \n",
       "\n",
       "  garages                                               img_url  list_price  \\\n",
       "0  2       https://photos.harstatic.com/172553809/lr/img-1.jpeg  475000       \n",
       "1  3       https://photos.harstatic.com/172364270/lr/img-1.jpeg  475000       \n",
       "2  2       https://photos.harstatic.com/172320148/lr/img-1.jpeg  475000       \n",
       "3  1       https://photos.harstatic.com/171900008/lr/img-1.jpeg  475000       \n",
       "4  2       https://photos.harstatic.com/171615142/lr/img-1.jpeg  475000       \n",
       "\n",
       "                list_status  \\\n",
       "0  For Sale                   \n",
       "1  For Sale                   \n",
       "2  For Sale                   \n",
       "3  For Sale                   \n",
       "4  Under Contract - Pending   \n",
       "\n",
       "                                                    list_url  lot_sqft  \\\n",
       "0  http://www.har.com/11630-ashcroft/sale_69756841            8344.0     \n",
       "1  http://www.har.com/18111-ponte-vecchio/sale_45037765      NaN         \n",
       "2  http://www.har.com/5910-caddo-terrace-lane/sale_52704869   9410.0     \n",
       "3  http://www.har.com/14722-cindywood-drive/sale_29834219     8064.0     \n",
       "4  http://www.har.com/3424-timbergrove-heights/sale_40531170 NaN         \n",
       "\n",
       "    mls_num              pool  \\\n",
       "0  69756841  No Private Pool    \n",
       "1  45037765  No Private Pool    \n",
       "2  52704869  Has Private Pool   \n",
       "3  29834219  No Private Pool    \n",
       "4  40531170  No Private Pool    \n",
       "\n",
       "                                                          real_comp_link  \\\n",
       "0  http://www.har.com/compass-re-texas-llc/broker_CMTX01                   \n",
       "1  http://www.har.com/keller-williams-realty-the-woodlands/broker_KWWD01   \n",
       "2  http://www.har.com/keller-williams-realty-metropolitan/broker_KWHM01    \n",
       "3  http://www.har.com/realty-associates-------------/broker_PBME01         \n",
       "4  http://www.har.com/intown-homes/broker_INTW01                           \n",
       "\n",
       "                         real_comp_name  \\\n",
       "0  Compass RE Texas, LLC                  \n",
       "1  Keller Williams Realty The Woodlands   \n",
       "2  Keller Williams Realty Metropolitan    \n",
       "3  Realty Associates                      \n",
       "4  Intown Homes                           \n",
       "\n",
       "                                           real_link        real_name  \\\n",
       "0  http://www.har.com/stephanie-finch/agent_SFinch    Stephanie Finch   \n",
       "1  http://www.har.com/garland-bennett/agent_GBENNETT  Garland Bennett   \n",
       "2  http://www.har.com/lorna-ramsay/agent_cornhill     Lorna Ramsay      \n",
       "3  http://www.har.com/richard-gannon/agent_RGANNON    Richard Gannon    \n",
       "4  http://www.har.com/emily-wang/agent_emwang         Emily Wang        \n",
       "\n",
       "   stories unknown_data  year_built zipcode  full_baths  half_baths  \\\n",
       "0  2.0      NaN          1960.0      77035   2           1            \n",
       "1  1.0      NaN          2018.0      77044   3           1            \n",
       "2  2.0      NaN          2003.0      77041   3           1            \n",
       "3  1.0      NaN          1969.0      77079   2           1            \n",
       "4  3.0      NaN          2019.0      77008   3           1            \n",
       "\n",
       "          garage_type  \n",
       "0   Attached/Detached  \n",
       "1   Attached,Tandem    \n",
       "2   Attached           \n",
       "3   Detached           \n",
       "4   Attached           "
      ]
     },
     "execution_count": 4198,
     "metadata": {},
     "output_type": "execute_result"
    }
   ],
   "source": [
    "print(df.shape)\n",
    "df.head()"
   ]
  },
  {
   "cell_type": "markdown",
   "metadata": {},
   "source": [
    "# Save New CSV"
   ]
  },
  {
   "cell_type": "code",
   "execution_count": 4199,
   "metadata": {},
   "outputs": [],
   "source": [
    "df.to_csv(output_dir+'CLEAN_'+filename+'.csv', index=False)"
   ]
  },
  {
   "cell_type": "markdown",
   "metadata": {},
   "source": [
    "# Done!"
   ]
  }
 ],
 "metadata": {
  "kernelspec": {
   "display_name": "Python 3",
   "language": "python",
   "name": "python3"
  },
  "language_info": {
   "codemirror_mode": {
    "name": "ipython",
    "version": 3
   },
   "file_extension": ".py",
   "mimetype": "text/x-python",
   "name": "python",
   "nbconvert_exporter": "python",
   "pygments_lexer": "ipython3",
   "version": "3.7.3"
  }
 },
 "nbformat": 4,
 "nbformat_minor": 2
}
